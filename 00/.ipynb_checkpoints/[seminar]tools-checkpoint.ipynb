{
 "cells": [
  {
   "cell_type": "markdown",
   "metadata": {
    "colab_type": "text",
    "id": "h2KLvTutK19X"
   },
   "source": [
    "<p style=\"align: center;\"><img align=center src=\"https://s8.hostingkartinok.com/uploads/images/2018/08/308b49fcfbc619d629fe4604bceb67ac.jpg\"  width=500 height=400></p>\n",
    "\n",
    "<h3 style=\"text-align: center;\"><b>Phystech School of Applied Mathematics and Informatics</b></h3>"
   ]
  },
  {
   "cell_type": "markdown",
   "metadata": {
    "colab_type": "text",
    "id": "dHezvUDLK19Y"
   },
   "source": [
    "---"
   ]
  },
  {
   "cell_type": "markdown",
   "metadata": {
    "colab_type": "text",
    "id": "-j92SWvSK19Z"
   },
   "source": [
    "# Tools we will need in our course"
   ]
  },
  {
   "cell_type": "markdown",
   "metadata": {
    "colab_type": "text",
    "id": "1EWYtwtyK19p"
   },
   "source": [
    "<h2 style=\"text-align: center;\"><b>Jupyter</b></h2>"
   ]
  },
  {
   "cell_type": "markdown",
   "metadata": {
    "colab_type": "text",
    "id": "_QfJbYWbK19q"
   },
   "source": [
    "<img align=center src=\"https://tproger.ru/wp-content/uploads/2017/08/123-1.png\" height=150 />\n"
   ]
  },
  {
   "cell_type": "markdown",
   "metadata": {
    "colab_type": "text",
    "id": "YUit5-ZeK19q"
   },
   "source": [
    "This is our working environment.\n",
    "#### Installing Jupyter\n",
    "\n",
    "Jupyter Notebook Installation Instructions: http://jupyter.readthedocs.org/en/latest/install.html (although it is usually installed with Anaconda)\n",
    "\n",
    "After installation, use this **console command** to start the jupyter local server:\n",
    "\n",
    "```bash\n",
    "jupyter notebook\n",
    "```\n",
    "\n",
    "After a few seconds, a page should open in your browser displaying files in the directory where the command was executed (If you don't want to wait, go to http://localhost:8888 - this is a default address for local Jupyter Notebook server.)"
   ]
  },
  {
   "cell_type": "markdown",
   "metadata": {
    "colab_type": "text",
    "id": "5uBmuZxXK19r"
   },
   "source": [
    "#### Online Jupyter Notebook\n",
    "\n",
    "You can avoid installing anything and work with this site: https://try.jupyter.org/\n",
    "\n",
    "On the site, you can create a new file `(New -> Python 2/3)` or upload a file from your computer using `Upload`.\n",
    "\n",
    "Be careful!\n",
    "<b>This service does not store your files </b> and deletes them after the page is closed.\n",
    "To download a file, click `File -> Download as -> ipynb`.\n",
    "\n",
    "You can also use another site https://cloud.sagemath.com/.\n"
   ]
  },
  {
   "cell_type": "markdown",
   "metadata": {
    "colab_type": "text",
    "id": "PtB-n30BK19r"
   },
   "source": [
    "\n",
    "### Working with Python in Jupyter Notebook\n",
    "\n",
    "To create a new file, click New -> Python.\n",
    "\n",
    "The notebook consists of cells, which can be of two types: text (Markdown) and code (Code).\n",
    "You can select the cell type on the control panel or use `M` and `Y` shortcuts.\n",
    "\n",
    "Working with cells:\n",
    "<ul>\n",
    "    <li> Select a cell - click on it with the mouse. </li>\n",
    "    <li> Edit - double click on it. </li>\n",
    "    <li> Starting a cell - `SHIFT+ENTER` or click the button <button class='fa-play icon-play btn btn-xs btn-default'>▶ </button> on the panel. </li>\n",
    "    <li> Add a new cell - click on the <button class = 'fa-plus icon-plus btn btn-xs btn-default'> + </button> button on the panel. </li>\n",
    "    <li> Deleting a cell - click on the <button class = 'fa fa-cut icon-cut btn btn-xs btn-default'>✂ </button> button on the panel. </li>\n",
    "    <li> Move a cell - click on the vertical arrows. </li>\n",
    "</ul>\n",
    "\n",
    "[Tips and tricks for jupyter](https://www.dataquest.io/blog/jupyter-notebook-tips-tricks-shortcuts/)"
   ]
  },
  {
   "cell_type": "markdown",
   "metadata": {
    "colab_type": "text",
    "id": "O2hEV85-K19s"
   },
   "source": [
    "Text cells contain plain text, which can also include  $ \\LaTeX $ formulas and `html`-code:\n",
    "\n",
    "$$ f (x) = \\frac {1} {x} $$"
   ]
  },
  {
   "cell_type": "markdown",
   "metadata": {
    "colab_type": "text",
    "id": "HDCpGxhAoPYA"
   },
   "source": [
    "## Google Colab\n",
    "https://colab.research.google.com"
   ]
  },
  {
   "cell_type": "markdown",
   "metadata": {
    "colab_type": "text",
    "id": "HRSgxK35oX2S"
   },
   "source": [
    "\n",
    "This is a Google service that allows you to run jupyter notebooks by similar to Google Docs for text documents and Google Sheets for spreadsheets. That is, one notebook can be viewed and changed by several people concurrently.\n",
    "\n",
    "This service is hosted by Google on it's remote servers.That is, when you use it, you are essentially running your code on a remote machine owned by Google.\n",
    "\n",
    "Pros:\n",
    "- you can run any jupyter notebook anywhere, without loading your own computer, the only need is a stable internet\n",
    "- it is possible to connect a GPU (for free). In the top menu, click `Runtime-> Change Runtime Type -> GPU`. Graphic processors are extremely useful for training convolutional neural networks.\n",
    "\n",
    "Cons:\n",
    "- sometimes the connection is lost if you have an unstable Internet\n",
    "- not very convenient work with filesystem\n"
   ]
  },
  {
   "cell_type": "markdown",
   "metadata": {
    "colab_type": "text",
    "id": "ktYE0kPnK19h"
   },
   "source": [
    "<h2 style=\"text-align: center;\"><b>Markdown</b></h2>"
   ]
  },
  {
   "cell_type": "markdown",
   "metadata": {
    "colab_type": "text",
    "id": "7L6eIo-xK19i"
   },
   "source": [
    "<img align=center src=\"https://upload.wikimedia.org/wikipedia/commons/thumb/4/48/Markdown-mark.svg/1280px-Markdown-mark.svg.png\" style=\"height:90px;\" width=150/>"
   ]
  },
  {
   "cell_type": "markdown",
   "metadata": {
    "colab_type": "text",
    "id": "ghUEaNDjK19j"
   },
   "source": [
    "\n",
    "** Markdown ** is a text markup language created by programmers for quick and easy text formatting.\n",
    "\n",
    "Why do you need it?\n",
    "1. The styling of text is stored in plain text, you will not ruin it if you copy-paste text.\n",
    "\n",
    "2. For more convenient writing of texts for subsequent conversion to HTML or other formats.\n",
    "\n",
    "3. This format is widely used across the world. In all jupyter notebooks we use markdown, too.\n",
    "\n",
    "Example of usage: put two asterisks before and after some text to make it bold."
   ]
  },
  {
   "cell_type": "markdown",
   "metadata": {
    "colab_type": "raw",
    "id": "ElcqTaJeK19k"
   },
   "source": [
    "**Bold text**\n",
    "# Heading\n",
    "*Itallic text\n",
    "*"
   ]
  },
  {
   "cell_type": "markdown",
   "metadata": {
    "colab_type": "text",
    "id": "hbx-Xv_kK19l"
   },
   "source": [
    "More details are available here: [Markdown](https://github.com/adam-p/markdown-here/wiki/Markdown-Cheatsheet#code)"
   ]
  },
  {
   "cell_type": "markdown",
   "metadata": {
    "colab_type": "text",
    "id": "GlTGZ5G_iXQ9"
   },
   "source": [
    "<h2 style=\"text-align: center;\"><b>Latex</b></h2>"
   ]
  },
  {
   "cell_type": "markdown",
   "metadata": {
    "colab_type": "text",
    "id": "KlWe5yQyK19m"
   },
   "source": [
    "<img align=center src=\"https://upload.wikimedia.org/wikipedia/commons/thumb/9/92/LaTeX_logo.svg/1280px-LaTeX_logo.svg.png\" style=\"height:90px;\" width=250/>"
   ]
  },
  {
   "cell_type": "markdown",
   "metadata": {
    "colab_type": "text",
    "id": "Sx_z6ctUK19o"
   },
   "source": [
    "\n",
    "$\\LaTeX$ (pronounced *lay-tek* ) is a set of tools that takes text files written in a special markup language and outputs ready-to-print documents (usually in PDF). In principle, Latex serves the same purpose as the markdown, but has much more features and can be a complete replacement for MS WordPages and similar programs. Latex is used all over the world to create articles, theses, books, etc. It is easier to draw up a document containing any formulas, code or tables. In general, design in Latex looks nicer than in other text editing programs.\n",
    "\n",
    "Continue if you are interested:\n",
    "\n",
    "\n",
    "* [Brief $\\LaTeX$ Tutorial](https://people.eecs.berkeley.edu/~daw/teaching/cs70-s08/tut.pdf)\n",
    "\n",
    "* [Table Generator](https://www.tablesgenerator.com/)\n",
    "* A service that allows you to remember how to write a specific character in the latex by drawing it in the window: [Detexify](http://detexify.kirelabs.org/classify.html)\n",
    "* [Excellent collection of examples](http://www.ccas.ru/voron/download/voron05latex.pdf)"
   ]
  },
  {
   "cell_type": "markdown",
   "metadata": {
    "colab_type": "text",
    "id": "aXzYo22E18Ig"
   },
   "source": [
    "<h2 style=\"text-align: center;\"><b>Anaconda</b></h2>"
   ]
  },
  {
   "cell_type": "markdown",
   "metadata": {
    "colab_type": "text",
    "id": "IC6IY2yJ1-mT"
   },
   "source": [
    "**Anaconda** is the Python libraries distribution (and the version of the Python language itself).\n",
    "\n",
    "You should install it to work with Jupyter Notebooks on your computer.\n",
    "Installation instructions [from Anaconda website](https://www.anaconda.com/distribution/)."
   ]
  },
  {
   "cell_type": "markdown",
   "metadata": {
    "colab_type": "text",
    "id": "ti1ATiEZK19w"
   },
   "source": [
    "<h2 style=\"text-align: center;\"><b>Key python libraries essential for our course</b></h2>"
   ]
  },
  {
   "cell_type": "markdown",
   "metadata": {
    "colab_type": "text",
    "id": "s10Im-zsK19w"
   },
   "source": [
    "* Numpy\n",
    "* SciPy\n",
    "* Pandas\n",
    "* Matplotlib\n",
    "* Scikit-Learn\n",
    "\n",
    "Deep learning frameworks:\n",
    "\n",
    "* PyTorch\n",
    "* Tensorflow \n",
    "* Keras\n",
    "* Caffe2"
   ]
  },
  {
   "cell_type": "markdown",
   "metadata": {
    "colab_type": "text",
    "id": "XDw0ylX5x-d9"
   },
   "source": [
    "<h2 style=\"text-align: center;\"><b>Additional tools\n",
    "  </b></h2>"
   ]
  },
  {
   "cell_type": "markdown",
   "metadata": {
    "colab_type": "text",
    "id": "7UzJm2gcK19b"
   },
   "source": [
    "<h2 style=\"text-align: center;\"><b>Git</b></h2>"
   ]
  },
  {
   "cell_type": "markdown",
   "metadata": {
    "colab_type": "text",
    "id": "gN95nWNGK19b"
   },
   "source": [
    "<img align=center src=\"https://upload.wikimedia.org/wikipedia/commons/thumb/e/e0/Git-logo.svg/2000px-Git-logo.svg.png\" style=\"height:160px;\" width=100/>"
   ]
  },
  {
   "cell_type": "markdown",
   "metadata": {
    "colab_type": "text",
    "id": "iNwYKBKVK19c"
   },
   "source": [
    "\n",
    "Imagine that you work on a project that in the process of its creation will be needed by someone (for example, you want to show us your completed homework not in Canvas). You can, of course, use a folder on some cloud and just give someone access to it, but what if you want to merge changes from different persons? Programmers use control version systems such as git. Git is a program that can use remote repositories to sync changes across devices. Github is a website that provides such repositories.\n",
    "\n",
    "And we strongly recommend that you study git, as this will most likely help you in the future.\n",
    "\n",
    "First, download: https://git-scm.com/downloads\n",
    "(on this site there is also all documentation and usage details)\n",
    "\n",
    "Next, create an account on [Github](https://github.com/) (there are similar services to it like Bitbucket or GitLab, but we will use the github)\n",
    "\n",
    "<img align=center src=\"https://i1.wp.com/linuxnewbieguide.org/wp-content/uploads/2017/03/github-logo.png\" style=\"height:90px;\" width=300/>\n",
    "\n"
   ]
  },
  {
   "cell_type": "markdown",
   "metadata": {
    "colab_type": "text",
    "id": "gZdG4dEiK19d"
   },
   "source": [
    "\n",
    "\n",
    "There are great beginner tutorials here: https://githowto.com/\n",
    "\n",
    "We also recommend this video tutorial: https://www.youtube.com/watch?v=HVsySz-h9r4&t=293s\n",
    "\n",
    "This material can also be quite useful: https://guides.github.com/introduction/flow/"
   ]
  },
  {
   "cell_type": "markdown",
   "metadata": {
    "colab_type": "text",
    "id": "SVcPzSiJK19f"
   },
   "source": [
    "We will not go into the subtleties of git, but show that you will definitely need in our course. First, let's define what a repository is: this is the working directory with your project. In fact, this is the same folder with the working files that is stored on your computer, but located on the GitHub server. Therefore, you can work with the project remotely on any machine, without worrying that some of your files will be lost - all files will be in the repository, provided that you send them there. Then there is something called \"fork\": your personal version of the master repository (copy), in it you can try different solutions, change the code and not be afraid to break something in the main version of the project.\n",
    "\n",
    "How to make all the material of our course, all homeworks were in the repository of your account, how to make changes and upload completed homework?\n",
    "\n",
    "1. Make a fork of our repository on GitHub (the Fork button in the upper right corner)\n",
    "\n",
    "2. Create your own DLSchool folder\n",
    "\n",
    "3. Run Git, namely Git Bash\n",
    "\n",
    "4. In the opened window, use the cd commands to move to the folder that you created in step 2\n",
    "\n",
    "5. Execute the following set of commands in it (in the git window):\n",
    "``` bash\n",
    "git init * ENTER *\n",
    "git pull <link to your fork on GitHub, .../dlschl> master *ENTER*\n",
    "```\n",
    "\n",
    "6. Now you have all the files from your GitHub fork on your computer in this folder\n",
    "\n",
    "7. Do homework/watch seminars, change the necessary files, add files, etc.\n",
    "\n",
    "8. Now you want your changes to appear on GitHub. In the folder in which it all lies, do:\n",
    "``` bash\n",
    "git add . * ENTER *\n",
    "```\n",
    "(the point adds all the files that you have changed; to add only a specific one you need to write its name instead of a point, for example: git add myfile.py)\n",
    "\n",
    "9. Then immediately run following command:\n",
    "```bash\n",
    "git commit -m '<your message, comment on the work done>' * ENTER *\n",
    "```\n",
    "\n",
    "10. Next, you need to act as follows:\n",
    "\n",
    "    a) If you have an up-to-date version of files from your repository on GitHub, then you immediately do:\n",
    "```bash\n",
    "git push <link to your fork on GitHub, type ... / dlschl> master *ENTER*\n",
    "```\n",
    "    b) If you changed something on the GitHub website and you have an irrelevant version of the files on your computer, there are no files that are on GitHub, you must first pull before push:\n",
    "```bash\n",
    "git pull <link to your fork on GitHub, type ... / dlschl> master *ENTER*\n",
    "```\n",
    "And now the command from stage a)\n",
    "\n",
    "11. Changes are now in your repository, you can drop a link to the completed homepage to the mail\n",
    "\n",
    "12. To load the latest files from the repository of our School into your fork (for example, we made a new homework and you want to download it yourself), you need to do it in the DLSchool folder:\n",
    "```bash\n",
    "git pull https://github.com/miptmlschool/dlschl master\n",
    "```\n",
    "Git may suggest modifying the changes (because your notebook versions have already done the homework), in which case you need to manually decide which file to select (delete the file that doesn’t have any changes) if everything is not automatically resolved"
   ]
  },
  {
   "cell_type": "markdown",
   "metadata": {
    "colab_type": "text",
    "id": "7Q2e9obrK19s"
   },
   "source": [
    "<h2 style=\"text-align: center;\"><b>VirtualEnv или CondaEnv</b></h2>"
   ]
  },
  {
   "cell_type": "markdown",
   "metadata": {
    "colab_type": "text",
    "id": "uQ3PvKCjK19t"
   },
   "source": [
    "\n",
    "Imagine that you have many different libraries, and all of them have their own versions (some are older, others are newer). Often, many libraries depend on others, and there may be many such dependencies, and depending on the version of the library. Thus, two different libraries may require two different versions of the same library (A and B depend on Cv0.1 and Cv0.2) on which they depend.\n",
    "To solve this issue, use **virtual environments (virtual environments)**. These are special utilities that, when launched, activate an environment isolated from the system, in which those and only those libraries and programs that you download there are located, and precisely in those versions in which you need. That is, the solution to the problem in this case is as follows: a venv1 is created, within which libraries A and Cv0.1, and venv2 within which libraries B and Cv0.2 are created. Thus, you seem to have created two mini-copies of your file system (roughly speaking), and installed the necessary versions of the packages in each one.\n",
    "\n",
    "For example, you can set up a virtual environment in [conda](https://conda.io/docs/user-guide/tasks/manage-environments.html), or [virtualenv](https://virtualenv.pypa.io/en/stable/)"
   ]
  },
  {
   "cell_type": "markdown",
   "metadata": {
    "colab_type": "text",
    "id": "yvoCvPhiK19u"
   },
   "source": [
    "<h2 style=\"text-align: center;\"><b>Cloud services (to be discovered later)</b></h2>"
   ]
  },
  {
   "cell_type": "markdown",
   "metadata": {
    "colab_type": "text",
    "id": "5Kn6pJ5wK19v"
   },
   "source": [
    "Google Cloud: https://cloud.google.com/  \n",
    "AWS: https://aws.amazon.com/ru/  \n",
    "Microsoft Azure: https://azure.microsoft.com/ru-ru/"
   ]
  },
  {
   "cell_type": "code",
   "execution_count": 0,
   "metadata": {
    "colab": {},
    "colab_type": "code",
    "id": "Hf93PW9YK19w"
   },
   "outputs": [],
   "source": []
  }
 ],
 "metadata": {
  "colab": {
   "collapsed_sections": [],
   "name": "[seminar]tools.ipynb",
   "provenance": [],
   "version": "0.3.2"
  },
  "kernelspec": {
   "display_name": "Python 3",
   "language": "python",
   "name": "python3"
  },
  "language_info": {
   "codemirror_mode": {
    "name": "ipython",
    "version": 3
   },
   "file_extension": ".py",
   "mimetype": "text/x-python",
   "name": "python",
   "nbconvert_exporter": "python",
   "pygments_lexer": "ipython3",
   "version": "3.7.1"
  }
 },
 "nbformat": 4,
 "nbformat_minor": 1
}
