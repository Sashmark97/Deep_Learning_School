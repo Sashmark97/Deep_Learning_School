{
  "nbformat": 4,
  "nbformat_minor": 0,
  "metadata": {
    "colab": {
      "name": "[cnn]transfer_learning.ipynb",
      "version": "0.3.2",
      "provenance": [],
      "collapsed_sections": [
        "99LAkQNVZV5Y"
      ]
    },
    "language_info": {
      "codemirror_mode": {
        "name": "ipython",
        "version": 3
      },
      "file_extension": ".py",
      "mimetype": "text/x-python",
      "name": "python",
      "nbconvert_exporter": "python",
      "pygments_lexer": "ipython3",
      "version": "3.6.3"
    },
    "kernelspec": {
      "display_name": "Python 3",
      "language": "python",
      "name": "python3"
    },
    "accelerator": "GPU"
  },
  "cells": [
    {
      "cell_type": "markdown",
      "metadata": {
        "colab_type": "text",
        "id": "XgbimpoMZV5F"
      },
      "source": [
        "<p style=\"align: center;\"><img src=\"https://static.tildacdn.com/tild6636-3531-4239-b465-376364646465/Deep_Learning_School.png\", width=300, height=300></p>\n",
        "\n",
        "<h3 style=\"text-align: center;\"><b>Физтех-Школа Прикладной математики и информатики (ФПМИ) МФТИ</b></h3>\n",
        "\n",
        "---\n",
        "\n",
        "<h2 style=\"text-align: center;\"><b>Transfer Learning</b></h3>"
      ]
    },
    {
      "cell_type": "markdown",
      "metadata": {
        "colab_type": "text",
        "id": "-nVLftxNZV5H"
      },
      "source": [
        "Как Вы уже знаете (если не знаете, рекомендуем посмотреть [5-ую](https://www.youtube.com/watch?v=cAJp2hh-_q8&t=4831s) и [6-ую](https://www.youtube.com/watch?v=RVk2RUW9Euk&t=40s) лекции нашего курса), в современных задачах обработки изображений, будь то задача обнаружения объектов, задача распознавания образов, задача (семантической) сегментации, задача классификации изображений и другие, всё чаще используют **свёрточные нейросети** (*Convolutional Neural Networks*, *CNN*)."
      ]
    },
    {
      "cell_type": "markdown",
      "metadata": {
        "colab_type": "text",
        "id": "LA5ixc_nZV5H"
      },
      "source": [
        "Они показывают очень хорошие результаты, за ними стоит как [математический аппарат](https://stats.stackexchange.com/questions/269854/are-there-mathematical-reasons-for-convolution-in-neural-networks-beyond-expedie), так и эвристики, полученные опытным путём."
      ]
    },
    {
      "cell_type": "markdown",
      "metadata": {
        "colab_type": "text",
        "id": "AUH-Q7FuZV5I"
      },
      "source": [
        "В данном задании Вам предстоит познакомиться с архитектурами *AlexNet*, *VGG* и *Inception* и для каждой из этих моделей использовать технику **Transfer Learning**.  \n",
        "\n",
        "* **Transfer Learning** - это процесс дообучения на **новых данных** какой-либо нейросети, уже обученной до этого на других данных, обычно на каком-нибудь хорошем, большом (миллионы картинок) датасете (например, [ImageNet](http://www.image-net.org/) ~ 14 млн картинок)."
      ]
    },
    {
      "cell_type": "markdown",
      "metadata": {
        "id": "pLXukfhPaskq",
        "colab_type": "text"
      },
      "source": [
        "<h2 style=\"text-align: center;\"><b>AlexNet</b></h2>"
      ]
    },
    {
      "cell_type": "markdown",
      "metadata": {
        "id": "9GHBt6BUaskt",
        "colab_type": "text"
      },
      "source": [
        "**AlexNet** - нейронная сеть, которая победила в ILSVRC (соревнование по классификации картинок из ImageNet) в 2012 году и стала основой для многих других архитектур. Впервые она была представлена в статье  “ImageNet Classification with Deep Convolutional Neural Networks”, над которой работал Джоффри Хинтон - человек, которого многие называют отцом современного computer vision.\n",
        "\n",
        "Архитектура описана на картинке ниже"
      ]
    },
    {
      "cell_type": "markdown",
      "metadata": {
        "id": "BGBVQ8SYasky",
        "colab_type": "text"
      },
      "source": [
        "<img src=\"https://www.learnopencv.com/wp-content/uploads/2018/05/AlexNet-1.png\">"
      ]
    },
    {
      "cell_type": "markdown",
      "metadata": {
        "id": "xe4NweXxask1",
        "colab_type": "text"
      },
      "source": [
        "**AlexNet** состоит из 5 **сверточных** слоев, 3 **MaxPool** слоев и 2 **FullyConnected** слоев в конце. Обратите внимание, что в последнем пулинг слое окна, из которых берется максимум, пересекаются за счет того, что *stride*=2. Это изменение по сравнению с традиционным пулингом помогло снизить ошибку на 0.4%.\n",
        "\n",
        "По сути **AlexNet** это самая базовая архитектура для сверточной сети после LeNet, которую мы уже писали на предыдущем занятии."
      ]
    },
    {
      "cell_type": "markdown",
      "metadata": {
        "id": "gAqFIQ5Dask4",
        "colab_type": "text"
      },
      "source": [
        "<h2 style=\"text-align: center;\"><b>VGG</b></h3>"
      ]
    },
    {
      "cell_type": "markdown",
      "metadata": {
        "id": "VGivCyLzaslA",
        "colab_type": "text"
      },
      "source": [
        "Один **сверточный** слой с фильтром 5$\\times$5 можно заменить двумя подряд идущими слоями с фильтрами размером 3$\\times$3, так как **воспринимаемая область** картинки у них будет одинаковой. При этом уменьшиться количество параметров, поэтому такую сеть будет легче обучать. \n",
        "\n",
        "На момент создания VGG люди уже заметили, что чем больше слоев в нейросети, тем выше ее точность. Заменяя большие фильтры на несколько фильтров 3$\\times$3 исследователи получили глубокую нейросеть с меньшим количеством параметров. Архитектура VGG-16 (версии VGG с 16 слоями) представлена на картинке ниже:\n"
      ]
    },
    {
      "cell_type": "markdown",
      "metadata": {
        "id": "jXXirCVqaslE",
        "colab_type": "text"
      },
      "source": [
        "<img src=\"https://cdn-images-1.medium.com/max/1040/1*0Tk4JclhGOCR_uLe6RKvUQ.png\">"
      ]
    },
    {
      "cell_type": "markdown",
      "metadata": {
        "id": "hyiBl5hsaslJ",
        "colab_type": "text"
      },
      "source": [
        "Когда говорят **VGG**, то чаще всего имеют ввиду **VGG-16** или **VGG-19**. Более глубоких версий **VGG** нет, так как после 19 слоев точность начинает падать.\n",
        "\n",
        "Чтобы добиться высоких результатов в соревновании при обучении и валидации нейросети использовались дополнительные премы, подробнее о которых можно прочитать в [статье на Medium](https://medium.com/coinmonks/paper-review-of-vggnet-1st-runner-up-of-ilsvlc-2014-image-classification-d02355543a11)."
      ]
    },
    {
      "cell_type": "markdown",
      "metadata": {
        "id": "49lCWwSyaslL",
        "colab_type": "text"
      },
      "source": [
        "\n",
        "<h2 style=\"text-align: center;\"><b>Inception v1</b></h3>"
      ]
    },
    {
      "cell_type": "markdown",
      "metadata": {
        "id": "h4rzBuD5aslN",
        "colab_type": "text"
      },
      "source": [
        "### Рассмотрим идею, которая подтолкнула исследователей к созданию этой архитектуры.\n",
        "\n",
        "Площадь, которую занимает классифицируемый объект, может очень сильно отличаться. Пример на картинке ниже: "
      ]
    },
    {
      "cell_type": "markdown",
      "metadata": {
        "id": "wtn7sdHhaslP",
        "colab_type": "text"
      },
      "source": [
        "<img src=\"https://cdn-images-1.medium.com/max/1040/1*aBdPBGAeta-_AM4aEyqeTQ.jpeg\">"
      ]
    },
    {
      "cell_type": "markdown",
      "metadata": {
        "id": "7dbhTKKpaslS",
        "colab_type": "text"
      },
      "source": [
        "* Для извлечения информации с большой площади лучше всего подходят **большие** фильтры, и наоборот для маленьких объектов лучше **маленькие** фильтры. \n",
        "* Глубокие нейронные сети намного сложнее обучать: в них появляется проблема **затухания градиента** и они **переобучаются**.\n",
        "Чтобы решить первую проблему исследователи придумали **Incepton** модуль, который применяет фильтры разного размера и затем склеивает полученные каналы. При этом извлекается как информация из больших объектов, так и из маленьких. Простейшая реализация модуля выглядит так:\n",
        "<img src=\"https://cdn-images-1.medium.com/max/1040/1*DKjGRDd_lJeUfVlY50ojOA.png\">"
      ]
    },
    {
      "cell_type": "markdown",
      "metadata": {
        "id": "PuXfoa_LaslU",
        "colab_type": "text"
      },
      "source": [
        "Реализацию можно сделать более эффективной, если сначала уменьшить количество каналов с помощью **сверточного слоя** 1$\\times$1 и лишь затем применить **слой** с фильтрами 5$\\times$5. Сокращение вычислений происходит за счет того, что мы сначала **уменьшаем размерность** данных и лишь затем преобразовываем их. Продвинутая реализация:\n",
        "<img src=\"https://cdn-images-1.medium.com/max/1040/1*U_McJnp7Fnif-lw9iIC5Bw.png\">"
      ]
    },
    {
      "cell_type": "markdown",
      "metadata": {
        "id": "Qa7OBWp0aslX",
        "colab_type": "text"
      },
      "source": [
        "Сеть состоит из **корня** (нескольких сверточных слоев) и **Inception** модулей идущих за ним. Оранжевым прямоугольников выделен корень, а фиолетовыми - **вспомогательные классификаторы**. Именно они помогают бороться со второй проблемой, которую мы упомянули ранее. Наша функция потерь - взвешенная сумма **LogLoss** на двух **вспомогательных классификаторах** и **основном** в конце нейронной сети.\n",
        "<img src=\"https://cdn-images-1.medium.com/max/1040/1*uW81y16b-ptBDV8SIT1beQ.png\">"
      ]
    },
    {
      "cell_type": "markdown",
      "metadata": {
        "id": "Xh0zt0_Iaslc",
        "colab_type": "text"
      },
      "source": [
        "После Inception v1 были представлены 2, 3 и 4 версии, прочитать о которых вы можете  в [статье на Medium](https://towardsdatascience.com/a-simple-guide-to-the-versions-of-the-inception-network-7fc52b863202)."
      ]
    },
    {
      "cell_type": "markdown",
      "metadata": {
        "colab_type": "text",
        "id": "bx9ZdMmMZV5I"
      },
      "source": [
        "<h2 style=\"text-align: center;\"><b>Transfer Learning</b></h3>"
      ]
    },
    {
      "cell_type": "markdown",
      "metadata": {
        "colab_type": "text",
        "id": "j-EtKIoMZV5J"
      },
      "source": [
        "Теперь мы перейдем к тому, как можно использовать уже обученные нейросети, чтобы ускорить свою работу.\n",
        "\n",
        "Давайте вспомним общую архитектуру CNN:"
      ]
    },
    {
      "cell_type": "markdown",
      "metadata": {
        "colab_type": "text",
        "id": "XWER66eyZV5K"
      },
      "source": [
        "<img src=\"https://www.kernix.com/doc/data/cnn.png\">"
      ]
    },
    {
      "cell_type": "markdown",
      "metadata": {
        "colab_type": "text",
        "id": "bihUjSwGZV5L"
      },
      "source": [
        "С помощью операций *свёртки (convolution)* и *пулинга (pooling)* всё, что расположено до этапа *classification*, по сути **извлекает признаки из объектов, подающихся на вход** (картинок, в данном случае). То есть вместо того, чтобы самим пытаться как-то описать картинки для хорошей работы классификатора, мы предоставляем заняться этим нейросети (обучая её методом обратного распространения ошибки ([лекция 4](https://www.youtube.com/watch?v=HZDOhHAg5_g)))."
      ]
    },
    {
      "cell_type": "markdown",
      "metadata": {
        "colab_type": "text",
        "id": "Gi9ad_suZV5L"
      },
      "source": [
        "**Вопрос (творческий):**  А какие признаки для картинок приходят Вам в голову? (считать, что картинки цветные (3 канала), все одинакового размера)"
      ]
    },
    {
      "cell_type": "markdown",
      "metadata": {
        "colab_type": "text",
        "id": "0AMX8k3uZV5M"
      },
      "source": [
        "**Ответ:** <Ваши мысли>"
      ]
    },
    {
      "cell_type": "markdown",
      "metadata": {
        "colab_type": "text",
        "id": "TpWxCG1_ZV5N"
      },
      "source": [
        "<h2 style=\"text-align: center;\"><b>Описание метода</b></h3>"
      ]
    },
    {
      "cell_type": "markdown",
      "metadata": {
        "colab_type": "text",
        "id": "H5JCuydFZV5O"
      },
      "source": [
        "Представим теперь, что eсть свой набор данных, и Вы хотите научить сеть классифицировать объекты из Вашей выборки.  \n",
        "Есть 4 возможных подхода к задаче:\n",
        "\n",
        "* **1. Написать свою собственную нейронную сеть**\n",
        "    * Если Вас зовут не Ian Godfellow, Geoffry Hinton или Andrew Ng, то не рекомендуется пользоваться этим способом\n",
        "    * May the force be with You\n",
        "\n",
        "* **2. CNN как средство для извлечения признаков (Feature Extractor)** \n",
        "    * Берём сетку, обученную на ImageNet \n",
        "    * Убираем последние Fully-Connected слои сети, отвечающие за классификацию. Веса предыдущих слоёв **заморожены**, мы их не трогаем. Теперь сеть выдаёт не метки классов, а то, что поступало на вход Fully-Connected (развёрнутый в строку \"параллелепипед\" HxWxNUM_FILTERS с последнего слоя перед FC)\n",
        "    * Запускаем сеть на новом датасете, получаем выходы сети для всех объектов - это и есть их признаки, полученные сетью\n",
        "    * Обучаем на этих признаках какой-либо классификатор (свою Fully-Connected сеть, например)\n",
        "    * Теперь у нас есть сеть, работающая хорошо на нашем датасете\n",
        "\n",
        "* **3. CNN, которую можно дообучить (Fine Tuning)**  \n",
        "    * Берём сетку, обученную на ImageNet  \n",
        "    * Убираем последние Fully-Connected слои сети, отвечающие за классификацию.  \n",
        "    * Теперь всё же *распространяем backpropagation ещё на сколько-то слоёв назад (размораживаем веса в этих слоях)*, чтобы скорректировать их под новые данные. Можно распространить обучение и на всю сеть, но часто первые слои всё же замораживают, поскольку они (как ожидается) извлекают более общие признаки. А ещё обучать всю сеть всё же дольше, чем несколько слоёв. Всё зависит от того, какого качества Вы хотите добиться\n",
        "    * Теперь сеть выдаёт не метки классов, а то, что поступало на вход Fully-Connected (веса последних (или всех) слоёв были изменены под наши данные)\n",
        "    * Обучаем на этих признаках какой-либо классификатор (свою Fully-Connected сеть, например)\n",
        "    * Теперь у нас есть сеть, работающая хорошо на нашем датасете\n",
        "\n",
        "* **4. Использовать предобученную модель \"из коробки\"**  \n",
        "    * То есть взять уже готовую нейронную сеть и использовать её (её параметры (W, b..), ведь сеть характеризуется параметрами, если архитектура известна) для решения своей задачи. Например, [здесь](https://github.com/BVLC/caffe/wiki/Model-Zoo) люди часто выкладывают веса моделей, обученных для решения их специфических задач.  \n",
        "\n",
        "\n",
        "В зависимости от количества и природы Ваших данных есть выбор из **нескольких стратегий Transfer Learning**, а именно:\n",
        "\n",
        "* *У Вас **мало данных** ($\\le$ 10k), и они **похожи** на данные, на которых была обучена сеть до этого*  \n",
        "Если данные совсем похожи, можно попробовать использовать готовую модель. Если качество Вас не устраивает, то тогда стоит использовать CNN для извлечения признаков и обучить свой классификатор на этих данных (2-ой способ выше). Так как данные похожи на те, на которых обучалась сеть, то высокоуровневые признаки, полученные с помощью последних слоёв сети, должны оказаться информативными. Если делать в этом случае Fine-Tuning (3 способ), то сеть может переобучиться, поскольку данных мало.\n",
        "* *У Вас **мало данных** ($\\le$ 10k), и они **не похожи** на данные, на которых была обучена сеть до этого*  \n",
        "Самый невыгодный случай. Здесь мы не можем ожидать от сети, что выходы последних слоёв будут информативными для новых данных. Следует также действовать в соответствие со 2-ым способом, но брать как признаки выходы более ранних слоёв, ведь, как мы помним, они (как ожидается) соответствуют более общим паттернам в данных.\n",
        "* *У Вас **много данных** ($\\ge$ 10k), и они **похожи** на данные, на которых была обучена сеть до этого*  \n",
        "В этом случае можем смело делать Fine-Tuning (3 способ) (если не устроило качество модели \"из коробки\"), ведь данных много, и вероятность переобучения меньше. В данном случае имеет смысл попробовать разморохить веса последних нескольких слоёв (зависит от того, сколько у Вас времени и вычислительной мощности, можно разморозить и всю сеть)\n",
        "* *У Вас **много данных** ($\\ge$ 10k), и они **не похожи** на данные, на которых была обучена сеть до этого*\n",
        "В принципе, подход тот же, что и в случае похожих данных, то есть мы файнтюним практически всю нейросеть. Однако мы вольны в этом случае полнстью менять все параметры (и гиперпараметры) нейросети, ведь по сути мы пользуемся только её архитектурой, забывая о том, что она уже была когда-то обучена. Но часто веса предобученной сети оставляют в качестве инициализации для обучения на новых данных."
      ]
    },
    {
      "cell_type": "markdown",
      "metadata": {
        "colab_type": "text",
        "id": "gEoe0qi_ZV5O"
      },
      "source": [
        "Надеемся, что теперь Вам стало понятнее, как обучать крутые сети на новых данных."
      ]
    },
    {
      "cell_type": "markdown",
      "metadata": {
        "colab_type": "text",
        "id": "CU8jKks8ZV5P"
      },
      "source": [
        "<h2 style=\"text-align: center;\"><b>Переходим к практике</b></h3>"
      ]
    },
    {
      "cell_type": "markdown",
      "metadata": {
        "colab_type": "text",
        "id": "JyvXMfhZZV5Q"
      },
      "source": [
        "<p style=\"text-align: center;\"><i>(основано на http://pytorch.org/tutorials/beginner/transfer_learning_tutorial.html)</i></p>"
      ]
    },
    {
      "cell_type": "markdown",
      "metadata": {
        "colab_type": "text",
        "id": "6XFlfXQsZV5R"
      },
      "source": [
        "Мы будем пользоваться библиотекой PyTorch. Если Вы её ещё не установили, то вот [инструкция на Wiki по установке PyTorch](https://github.com/deepmipt/dlschl/wiki/%D0%98%D0%BD%D1%81%D1%82%D1%80%D1%83%D0%BA%D1%86%D0%B8%D1%8F-%D0%BF%D0%BE-%D1%83%D1%81%D1%82%D0%B0%D0%BD%D0%BE%D0%B2%D0%BA%D0%B5-PyTorch)."
      ]
    },
    {
      "cell_type": "code",
      "metadata": {
        "colab_type": "code",
        "id": "3xF5zpbFgkIp",
        "colab": {}
      },
      "source": [
        "#!pip install torch torchvision"
      ],
      "execution_count": 0,
      "outputs": []
    },
    {
      "cell_type": "code",
      "metadata": {
        "colab_type": "code",
        "id": "l2sTUHmNZV5S",
        "colab": {}
      },
      "source": [
        "from __future__ import print_function, division\n",
        "\n",
        "import torch\n",
        "import torch.nn as nn\n",
        "import torch.optim as optim\n",
        "from torch.optim import lr_scheduler\n",
        "\n",
        "import numpy as np\n",
        "import torchvision\n",
        "from torchvision import datasets, models, transforms\n",
        "import matplotlib.pyplot as plt\n",
        "import time\n",
        "import os\n",
        "\n",
        "plt.ion()"
      ],
      "execution_count": 0,
      "outputs": []
    },
    {
      "cell_type": "code",
      "metadata": {
        "id": "L1JtT8yqIxnI",
        "colab_type": "code",
        "outputId": "d892549e-c91e-4c3e-8557-f45cd139a7fb",
        "colab": {
          "base_uri": "https://localhost:8080/",
          "height": 224
        }
      },
      "source": [
        "!apt-get install -y -qq software-properties-common python-software-properties module-init-tools\n",
        "!add-apt-repository -y ppa:alessandro-strada/ppa 2>&1 > /dev/null\n",
        "!apt-get update -qq 2>&1 > /dev/null\n",
        "!apt-get -y install -qq google-drive-ocamlfuse fuse\n",
        "from google.colab import auth\n",
        "auth.authenticate_user()\n",
        "from oauth2client.client import GoogleCredentials\n",
        "creds = GoogleCredentials.get_application_default()\n",
        "import getpass\n",
        "!google-drive-ocamlfuse -headless -id={creds.client_id} -secret={creds.client_secret} < /dev/null 2>&1 | grep URL\n",
        "vcode = getpass.getpass()\n",
        "!echo {vcode} | google-drive-ocamlfuse -headless -id={creds.client_id} -secret={creds.client_secret}"
      ],
      "execution_count": 0,
      "outputs": [
        {
          "output_type": "stream",
          "text": [
            "E: Package 'python-software-properties' has no installation candidate\n",
            "Selecting previously unselected package google-drive-ocamlfuse.\n",
            "(Reading database ... 130812 files and directories currently installed.)\n",
            "Preparing to unpack .../google-drive-ocamlfuse_0.7.3-0ubuntu3~ubuntu18.04.1_amd64.deb ...\n",
            "Unpacking google-drive-ocamlfuse (0.7.3-0ubuntu3~ubuntu18.04.1) ...\n",
            "Setting up google-drive-ocamlfuse (0.7.3-0ubuntu3~ubuntu18.04.1) ...\n",
            "Processing triggers for man-db (2.8.3-2ubuntu0.1) ...\n",
            "Please, open the following URL in a web browser: https://accounts.google.com/o/oauth2/auth?client_id=32555940559.apps.googleusercontent.com&redirect_uri=urn%3Aietf%3Awg%3Aoauth%3A2.0%3Aoob&scope=https%3A%2F%2Fwww.googleapis.com%2Fauth%2Fdrive&response_type=code&access_type=offline&approval_prompt=force\n",
            "··········\n",
            "Please, open the following URL in a web browser: https://accounts.google.com/o/oauth2/auth?client_id=32555940559.apps.googleusercontent.com&redirect_uri=urn%3Aietf%3Awg%3Aoauth%3A2.0%3Aoob&scope=https%3A%2F%2Fwww.googleapis.com%2Fauth%2Fdrive&response_type=code&access_type=offline&approval_prompt=force\n",
            "Please enter the verification code: Access token retrieved correctly.\n"
          ],
          "name": "stdout"
        }
      ]
    },
    {
      "cell_type": "code",
      "metadata": {
        "id": "10Yc2iHgJe4q",
        "colab_type": "code",
        "colab": {
          "base_uri": "https://localhost:8080/",
          "height": 51
        },
        "outputId": "816e5f82-195d-4d3d-eb92-a8e907af317c"
      },
      "source": [
        "!mkdir -p drive\n",
        "!google-drive-ocamlfuse drive"
      ],
      "execution_count": 7,
      "outputs": [
        {
          "output_type": "stream",
          "text": [
            "fuse: mountpoint is not empty\n",
            "fuse: if you are sure this is safe, use the 'nonempty' mount option\n"
          ],
          "name": "stdout"
        }
      ]
    },
    {
      "cell_type": "code",
      "metadata": {
        "id": "pVy7yBmsJmnp",
        "colab_type": "code",
        "colab": {
          "base_uri": "https://localhost:8080/",
          "height": 51
        },
        "outputId": "8ff77650-3cc0-404f-8bae-04f4c1472094"
      },
      "source": [
        "!ls /content/drive/"
      ],
      "execution_count": 6,
      "outputs": [
        {
          "output_type": "stream",
          "text": [
            "ls: cannot access '/content/drive/[folder': No such file or directory\n",
            "ls: cannot access 'name]': No such file or directory\n"
          ],
          "name": "stdout"
        }
      ]
    },
    {
      "cell_type": "markdown",
      "metadata": {
        "colab_type": "text",
        "id": "weT3x9DQZV5X"
      },
      "source": [
        "### В чём состоит задание"
      ]
    },
    {
      "cell_type": "markdown",
      "metadata": {
        "colab_type": "text",
        "id": "F8paFz_5ZV5Y"
      },
      "source": [
        "Вам предстоит попробовать использовать  типа архитектур свёрточных нейросетей - **AlexNet (сделано за Вас в примере), VGG16, Inception_v3** - как *Feature Extractor*, с помощью *Fine Tuning* и *\"из коробки\"*. \n",
        "\n",
        "**Для каждого пункта нужно:**\n",
        "- вывести график loss'а на обучающей и на валидационной выборке\n",
        "- вывести качество модели (accuracy)"
      ]
    },
    {
      "cell_type": "markdown",
      "metadata": {
        "colab_type": "text",
        "id": "99LAkQNVZV5Y"
      },
      "source": [
        "### Данные  \n",
        "\n",
        "В данном задании используются сети (из библиотеки **torchvision**), предобученные на датасете ImageNet.  \n",
        "В качестве новых данных будет датасет Меравьи vs Пчёлы, Вам нужно скачать его отсюда: **[Муравьи vs Пчёлы](https://download.pytorch.org/tutorial/hymenoptera_data.zip)**, *являющийся частью датасета ImageNet*. В нём 400 картинок, ~250 обучение и ~150 валидация (тест)."
      ]
    },
    {
      "cell_type": "markdown",
      "metadata": {
        "colab_type": "text",
        "id": "8gGQA6CbZV5Z"
      },
      "source": [
        "### Функции для отрисовки и обучения модели:"
      ]
    },
    {
      "cell_type": "markdown",
      "metadata": {
        "colab_type": "text",
        "id": "LnoL3STNZV5a"
      },
      "source": [
        "* Загрузим данные:"
      ]
    },
    {
      "cell_type": "code",
      "metadata": {
        "colab_type": "code",
        "id": "1lKZZSUYZV5b",
        "colab": {}
      },
      "source": [
        "# Преобразование обучающих данных для расширения обучающей выборки и её нормализация\n",
        "# Для валидационной (тестовой) выборки только нормализация\n",
        "data_transforms = {\n",
        "    'train': transforms.Compose([\n",
        "        transforms.RandomResizedCrop(244),\n",
        "        transforms.RandomHorizontalFlip(),\n",
        "        transforms.ToTensor(),\n",
        "        transforms.Normalize([0.485, 0.456, 0.406], [0.229, 0.224, 0.225])\n",
        "    ]),\n",
        "    'val': transforms.Compose([\n",
        "        transforms.Resize(256),\n",
        "        transforms.CenterCrop(244),\n",
        "        transforms.ToTensor(),\n",
        "        transforms.Normalize([0.485, 0.456, 0.406], [0.229, 0.224, 0.225])\n",
        "    ]),\n",
        "}\n",
        "# папка с данными\n",
        "data_dir = './drive/hymenoptera_data'\n",
        "image_datasets = {x: datasets.ImageFolder(os.path.join(data_dir, x),\n",
        "                                          data_transforms[x])\n",
        "                  for x in ['train', 'val']}\n",
        "# специальный класс для загрузки данных в виде батчей\n",
        "dataloaders = {x: torch.utils.data.DataLoader(image_datasets[x], batch_size=4,\n",
        "                                              shuffle=True, num_workers=4)\n",
        "               for x in ['train', 'val']}\n",
        "dataset_sizes = {x: len(image_datasets[x]) for x in ['train', 'val']}\n",
        "class_names = image_datasets['train'].classes\n",
        "\n",
        "use_gpu = torch.cuda.is_available()"
      ],
      "execution_count": 0,
      "outputs": []
    },
    {
      "cell_type": "markdown",
      "metadata": {
        "colab_type": "text",
        "id": "03FqarW9ZV5e"
      },
      "source": [
        "Размеры обучающей и валидационной выборок:"
      ]
    },
    {
      "cell_type": "code",
      "metadata": {
        "colab_type": "code",
        "id": "MxjRd-5OZV5f",
        "outputId": "5e11cc37-817a-4b3b-a11e-c02c4e8f3806",
        "colab": {
          "base_uri": "https://localhost:8080/",
          "height": 34
        }
      },
      "source": [
        "print(dataset_sizes)"
      ],
      "execution_count": 10,
      "outputs": [
        {
          "output_type": "stream",
          "text": [
            "{'train': 244, 'val': 152}\n"
          ],
          "name": "stdout"
        }
      ]
    },
    {
      "cell_type": "markdown",
      "metadata": {
        "colab_type": "text",
        "id": "vx3QiNAcZV5k"
      },
      "source": [
        "**Вопрос (на понимание кода выше):**  \n",
        "1. В DataLoader() выше стоит \"shuffle=True\". Для чего это нужно?\n",
        "2. Сколько картинок будет в каждом батче?"
      ]
    },
    {
      "cell_type": "markdown",
      "metadata": {
        "colab_type": "text",
        "id": "IZPe4pfoZV5l"
      },
      "source": [
        "**Ответ:** <Ваш ответ>"
      ]
    },
    {
      "cell_type": "markdown",
      "metadata": {
        "colab_type": "text",
        "id": "GXqEVA1ZZV5m"
      },
      "source": [
        "* Посмотрим на картинки из датасета:"
      ]
    },
    {
      "cell_type": "code",
      "metadata": {
        "colab_type": "code",
        "id": "wQG2_RrvZV5n",
        "outputId": "deee5043-2e8b-4e33-8e11-ca079dfbf957",
        "colab": {
          "base_uri": "https://localhost:8080/",
          "height": 274
        }
      },
      "source": [
        "def imshow(inp, title=None):\n",
        "    \"\"\"Imshow for Tensor.\"\"\"\n",
        "    inp = inp.numpy().transpose((1, 2, 0))\n",
        "    mean = np.array([0.485, 0.456, 0.406])\n",
        "    std = np.array([0.229, 0.224, 0.225])\n",
        "    inp = std * inp + mean\n",
        "    inp = np.clip(inp, 0, 1)\n",
        "    plt.figure(figsize=(15, 12))\n",
        "    plt.imshow(inp)\n",
        "    if title is not None:\n",
        "        plt.title(title)\n",
        "    plt.pause(0.001)\n",
        "\n",
        "\n",
        "# Получим 1 батч (картнки-метки) из обучающей выборки\n",
        "inputs, classes = next(iter(dataloaders['train']))\n",
        "\n",
        "# Расположим картинки рядом\n",
        "out = torchvision.utils.make_grid(inputs)\n",
        "\n",
        "imshow(out, title=[class_names[x] for x in classes])"
      ],
      "execution_count": 11,
      "outputs": [
        {
          "output_type": "display_data",
          "data": {
            "image/png": "[encoded data removed]",
            "text/plain": [
              "<Figure size 1080x864 with 1 Axes>"
            ]
          },
          "metadata": {
            "tags": []
          }
        }
      ]
    },
    {
      "cell_type": "code",
      "metadata": {
        "colab_type": "code",
        "id": "KqOOeBFpZV6T",
        "outputId": "8a7a0cc5-d68c-4a80-874a-66b3fb48f4f4",
        "colab": {
          "base_uri": "https://localhost:8080/",
          "height": 408
        }
      },
      "source": [
        "for i in dataloaders['train']:\n",
        "    print(i[0][0])\n",
        "    break"
      ],
      "execution_count": 12,
      "outputs": [
        {
          "output_type": "stream",
          "text": [
            "tensor([[[ 0.1254,  0.2967,  0.2453,  ..., -1.0219, -1.0390, -1.1932],\n",
            "         [ 0.1939,  0.2453,  0.2796,  ..., -1.1760, -1.1418, -1.2103],\n",
            "         [ 0.2111,  0.2282,  0.2624,  ..., -1.2788, -1.1760, -1.1075],\n",
            "         ...,\n",
            "         [ 1.0159,  1.0673,  1.0844,  ...,  1.1358,  1.0673,  1.0844],\n",
            "         [ 1.0331,  1.0673,  1.0844,  ...,  1.0844,  1.0844,  1.0844],\n",
            "         [ 1.0331,  1.0673,  1.1015,  ...,  0.9988,  1.1187,  1.1015]],\n",
            "\n",
            "        [[-0.7752, -0.5476, -0.6001,  ..., -0.9328, -0.9853, -1.1604],\n",
            "         [-0.6877, -0.6001, -0.5476,  ..., -1.1078, -1.0728, -1.1604],\n",
            "         [-0.6702, -0.6176, -0.5476,  ..., -1.2304, -1.1078, -1.0378],\n",
            "         ...,\n",
            "         [ 0.0826,  0.1702,  0.1877,  ...,  0.1877,  0.1001,  0.0476],\n",
            "         [ 0.1176,  0.1702,  0.1877,  ...,  0.1176,  0.1352,  0.0651],\n",
            "         [ 0.1352,  0.1702,  0.2052,  ...,  0.0126,  0.1702,  0.1001]],\n",
            "\n",
            "        [[-0.0615,  0.1128,  0.0605,  ..., -1.1770, -1.0201, -1.1421],\n",
            "         [-0.0092,  0.0605,  0.0779,  ..., -1.1944, -1.0724, -1.1073],\n",
            "         [-0.0092,  0.0431,  0.0779,  ..., -1.1944, -1.0898, -1.0027],\n",
            "         ...,\n",
            "         [ 1.4025,  1.4722,  1.4897,  ...,  1.3502,  1.2980,  1.3154],\n",
            "         [ 1.4200,  1.4722,  1.4897,  ...,  1.2980,  1.3328,  1.3502],\n",
            "         [ 1.4374,  1.4722,  1.5071,  ...,  1.2108,  1.3851,  1.3851]]])\n"
          ],
          "name": "stdout"
        }
      ]
    },
    {
      "cell_type": "markdown",
      "metadata": {
        "id": "lADskoaqasoa",
        "colab_type": "text"
      },
      "source": [
        "### Обучение моделей"
      ]
    },
    {
      "cell_type": "markdown",
      "metadata": {
        "colab_type": "text",
        "id": "UzP9AdAwZV5s"
      },
      "source": [
        "Следующая функция будет использоваться для обучения модели. Аргументы:  \n",
        "* model $-$ нейросеть\n",
        "* loss $-$ оптимизируемая функция (criterion, cost function, objective)\n",
        "* optimizer $-$ оптимизационный алгоритм\n",
        "* scheduler $-$ политика изменения learning_rate\n",
        "* num_epochs $-$ количество итераций обучения"
      ]
    },
    {
      "cell_type": "markdown",
      "metadata": {
        "colab_type": "text",
        "id": "Q6kaT01UZV5u"
      },
      "source": [
        "**Задание**: Вам нужно модифицировать эту функцию, чтобы она возвращала ещё и массивы loss'а на обучающей и валидационной выборках (чтобы потом Вы могли нарисовать графики). Можете модифицировать эту функцию как угодно, лишь бы она правильно работала."
      ]
    },
    {
      "cell_type": "code",
      "metadata": {
        "colab_type": "code",
        "id": "yGD0lrIaZV5u",
        "colab": {}
      },
      "source": [
        "def train_model(model, criterion, optimizer, scheduler, num_epochs=25):\n",
        "    since = time.time()\n",
        "\n",
        "    best_model_wts = model.state_dict()\n",
        "    best_acc = 0.0\n",
        "    \n",
        "    #Ваш код здесь\n",
        "    losses = {'train': [], 'val': []}\n",
        "\n",
        "    for epoch in range(num_epochs):\n",
        "        print('Epoch {}/{}'.format(epoch, num_epochs - 1))\n",
        "        print('-' * 10)\n",
        "\n",
        "        # каждя эпоха имеет обучающую и тестовую стадии\n",
        "        for phase in ['train', 'val']:\n",
        "            if phase == 'train':\n",
        "                scheduler.step()\n",
        "                model.train(True)  # установаить модель в режим обучения\n",
        "            else:\n",
        "                model.train(False)  # установить модель в режим предсказания\n",
        "\n",
        "            running_loss = 0.0\n",
        "            running_corrects = 0\n",
        "\n",
        "            # итерируемся по батчам\n",
        "            for data in dataloaders[phase]:\n",
        "                # получаем картинки и метки\n",
        "                inputs, labels = data\n",
        "\n",
        "                # оборачиваем в переменные\n",
        "                if use_gpu:\n",
        "                    inputs = inputs.cuda()\n",
        "                    labels = labels.cuda()\n",
        "                else:\n",
        "                    inputs, labels = inputs, labels\n",
        "\n",
        "                # инициализируем градиенты параметров\n",
        "                optimizer.zero_grad()\n",
        "\n",
        "                # forward pass\n",
        "                outputs = model(inputs)\n",
        "                _, preds = torch.max(outputs.data, 1)\n",
        "                loss = criterion(outputs, labels)\n",
        "\n",
        "                # backward pass + оптимизируем только если это стадия обучения\n",
        "                if phase == 'train':\n",
        "                    loss.backward()\n",
        "                    optimizer.step()\n",
        "\n",
        "                # статистика\n",
        "                running_loss += loss.item()\n",
        "                running_corrects += int(torch.sum(preds == labels.data))\n",
        "\n",
        "            epoch_loss = running_loss / dataset_sizes[phase]\n",
        "            epoch_acc = running_corrects / dataset_sizes[phase]\n",
        "            \n",
        "            # Ваш код здесь\n",
        "            losses[phase].append(epoch_loss)\n",
        "\n",
        "            print('{} Loss: {:.4f} Acc: {:.4f}'.format(\n",
        "                phase, epoch_loss, epoch_acc))\n",
        "\n",
        "            # если достиглось лучшее качество, то запомним веса модели\n",
        "            if phase == 'val' and epoch_acc > best_acc:\n",
        "                best_acc = epoch_acc\n",
        "                best_model_wts = model.state_dict()\n",
        "\n",
        "        print()\n",
        "\n",
        "    time_elapsed = time.time() - since\n",
        "    print('Training complete in {:.0f}m {:.0f}s'.format(\n",
        "        time_elapsed // 60, time_elapsed % 60))\n",
        "    print('Best val Acc: {:4f}'.format(best_acc))\n",
        "\n",
        "    # загрузим лучшие веса модели\n",
        "    model.load_state_dict(best_model_wts)\n",
        "    return model, losses"
      ],
      "execution_count": 0,
      "outputs": []
    },
    {
      "cell_type": "markdown",
      "metadata": {
        "colab_type": "text",
        "id": "7VsQHae5ZV5x"
      },
      "source": [
        "* Функция для отрисовки тестовых изображений и предсказаний для них:"
      ]
    },
    {
      "cell_type": "code",
      "metadata": {
        "colab_type": "code",
        "id": "Pyth5M_FZV5y",
        "colab": {}
      },
      "source": [
        "def visualize_model(model, num_images=6):\n",
        "    images_so_far = 0\n",
        "    fig = plt.figure()\n",
        "\n",
        "    for i, data in enumerate(dataloaders['val']):\n",
        "        inputs, labels = data\n",
        "        if use_gpu:\n",
        "            inputs, labels = Variable(inputs.cuda()), Variable(labels.cuda())\n",
        "        else:\n",
        "            inputs, labels = Variable(inputs), Variable(labels)\n",
        "\n",
        "        outputs = model(inputs)\n",
        "        _, preds = torch.max(outputs.data, 1)\n",
        "\n",
        "        for j in range(inputs.size()[0]):\n",
        "            images_so_far += 1\n",
        "            ax = plt.subplot(num_images // 2, 2, images_so_far)\n",
        "            ax.axis('off')\n",
        "            ax.set_title('predicted: {}'.format(class_names[preds[j]]))\n",
        "            imshow(inputs.cpu().data[j])\n",
        "\n",
        "            if images_so_far == num_images:\n",
        "                return"
      ],
      "execution_count": 0,
      "outputs": []
    },
    {
      "cell_type": "markdown",
      "metadata": {
        "id": "lgbbwFPAaspB",
        "colab_type": "text"
      },
      "source": [
        "* Функция для измерения точности модели на валидационном датасете"
      ]
    },
    {
      "cell_type": "code",
      "metadata": {
        "id": "lauuokBzaspF",
        "colab_type": "code",
        "colab": {}
      },
      "source": [
        "def evaluate(model):\n",
        "    model.train(False)\n",
        "    \n",
        "    runninig_correct = 0\n",
        "    for data in dataloaders['val']:\n",
        "        # получаем картинки и метки\n",
        "        inputs, labels = data\n",
        "        \n",
        "        # переносим на gpu, если возможно\n",
        "        if use_gpu:\n",
        "            inputs = inputs.cuda()\n",
        "            labels = labels.cuda()\n",
        "            \n",
        "        # forard pass\n",
        "        output = model(inputs)\n",
        "        _, predicted = torch.max(output, 1)\n",
        "        \n",
        "        runninig_correct += int(torch.sum(predicted == labels))\n",
        "        \n",
        "    return runninig_correct / dataset_sizes['val']"
      ],
      "execution_count": 0,
      "outputs": []
    },
    {
      "cell_type": "markdown",
      "metadata": {
        "colab_type": "text",
        "id": "Afrq3SA1ZV53"
      },
      "source": [
        "### Задание"
      ]
    },
    {
      "cell_type": "markdown",
      "metadata": {
        "colab_type": "text",
        "id": "kNCYHC8oZV53"
      },
      "source": [
        "Для каждой из следующих нейросетей:\n",
        "* **AlexNet** (уже сделано в примере)\n",
        "* **VGG16**\n",
        "* **Inception_v3**\n",
        "\n",
        "Напишите код и выведите результат (график лосса, accuracy и вывод примера классификации картинок с визализацией (с помощью функции `vizualize_model()`)) для трёх способов:\n",
        "* Использование готовой нейросети **\"из коробки\"**\n",
        "* Использование нейросети как **Feature Extractor**\n",
        "* **Fine Tuning** нейросети\n",
        "\n",
        "Для каждого пункта нужно:\n",
        "* сделать с сетью то, что нужно в пункте (\"из коробки\", FE или FT)\n",
        "* вывести график loss'а на обучающей и на валидационной выборке\n",
        "* вывести качество модели (accuracy) на валидационной (тестовой) выборке\n",
        "* (по желанию) использовать функцию visualize_model()"
      ]
    },
    {
      "cell_type": "markdown",
      "metadata": {
        "colab_type": "text",
        "id": "8XzWmgE7ZV54"
      },
      "source": [
        "### AlexNet"
      ]
    },
    {
      "cell_type": "markdown",
      "metadata": {
        "colab_type": "text",
        "id": "g6zW24cSZV56"
      },
      "source": [
        "*ПРИМЕЧАНИЕ: Здесь не выведены графики loss'а и не использована visualize_model(). От Вас это ожидается.*"
      ]
    },
    {
      "cell_type": "markdown",
      "metadata": {
        "colab_type": "text",
        "id": "FmLx0a_uZV56"
      },
      "source": [
        "Загрузка модели:"
      ]
    },
    {
      "cell_type": "code",
      "metadata": {
        "colab_type": "code",
        "id": "1mHbrvXAZV57",
        "colab": {
          "base_uri": "https://localhost:8080/",
          "height": 51
        },
        "outputId": "5ac88887-51e4-4199-b98c-fee69589c292"
      },
      "source": [
        "model = models.alexnet(pretrained=True)"
      ],
      "execution_count": 16,
      "outputs": [
        {
          "output_type": "stream",
          "text": [
            "Downloading: \"https://download.pytorch.org/models/alexnet-owt-4df8aa71.pth\" to /root/.cache/torch/checkpoints/alexnet-owt-4df8aa71.pth\n",
            "100%|██████████| 244418560/244418560 [00:02<00:00, 116115762.16it/s]\n"
          ],
          "name": "stderr"
        }
      ]
    },
    {
      "cell_type": "markdown",
      "metadata": {
        "colab_type": "text",
        "id": "W_g9XqLsZV5-"
      },
      "source": [
        "Посмотрим, что внутри:"
      ]
    },
    {
      "cell_type": "code",
      "metadata": {
        "colab_type": "code",
        "id": "N-OLqslsZV6A",
        "outputId": "fe89259f-563a-45ec-f702-c6d6136bcfb7",
        "colab": {
          "base_uri": "https://localhost:8080/",
          "height": 476
        }
      },
      "source": [
        "model"
      ],
      "execution_count": 17,
      "outputs": [
        {
          "output_type": "execute_result",
          "data": {
            "text/plain": [
              "AlexNet(\n",
              "  (features): Sequential(\n",
              "    (0): Conv2d(3, 64, kernel_size=(11, 11), stride=(4, 4), padding=(2, 2))\n",
              "    (1): ReLU(inplace)\n",
              "    (2): MaxPool2d(kernel_size=3, stride=2, padding=0, dilation=1, ceil_mode=False)\n",
              "    (3): Conv2d(64, 192, kernel_size=(5, 5), stride=(1, 1), padding=(2, 2))\n",
              "    (4): ReLU(inplace)\n",
              "    (5): MaxPool2d(kernel_size=3, stride=2, padding=0, dilation=1, ceil_mode=False)\n",
              "    (6): Conv2d(192, 384, kernel_size=(3, 3), stride=(1, 1), padding=(1, 1))\n",
              "    (7): ReLU(inplace)\n",
              "    (8): Conv2d(384, 256, kernel_size=(3, 3), stride=(1, 1), padding=(1, 1))\n",
              "    (9): ReLU(inplace)\n",
              "    (10): Conv2d(256, 256, kernel_size=(3, 3), stride=(1, 1), padding=(1, 1))\n",
              "    (11): ReLU(inplace)\n",
              "    (12): MaxPool2d(kernel_size=3, stride=2, padding=0, dilation=1, ceil_mode=False)\n",
              "  )\n",
              "  (avgpool): AdaptiveAvgPool2d(output_size=(6, 6))\n",
              "  (classifier): Sequential(\n",
              "    (0): Dropout(p=0.5)\n",
              "    (1): Linear(in_features=9216, out_features=4096, bias=True)\n",
              "    (2): ReLU(inplace)\n",
              "    (3): Dropout(p=0.5)\n",
              "    (4): Linear(in_features=4096, out_features=4096, bias=True)\n",
              "    (5): ReLU(inplace)\n",
              "    (6): Linear(in_features=4096, out_features=1000, bias=True)\n",
              "  )\n",
              ")"
            ]
          },
          "metadata": {
            "tags": []
          },
          "execution_count": 17
        }
      ]
    },
    {
      "cell_type": "markdown",
      "metadata": {
        "colab_type": "text",
        "id": "O9LYMESWZV6E"
      },
      "source": [
        "Видим, что на вход классификатору (classifier) подаётся *9216 признаков*. Это и будет размер входа для нашего нового классификатора."
      ]
    },
    {
      "cell_type": "markdown",
      "metadata": {
        "colab_type": "text",
        "id": "FA5qB523ZV6G"
      },
      "source": [
        "* **Fine Tuning** способ"
      ]
    },
    {
      "cell_type": "markdown",
      "metadata": {
        "colab_type": "text",
        "id": "AxucpA3FZV6H"
      },
      "source": [
        "Сконфигурируем - изменим FC-слой и зададим *cost function* и *оптимизирующий алгоритм*:"
      ]
    },
    {
      "cell_type": "markdown",
      "metadata": {
        "colab_type": "text",
        "id": "6JKPZYgVZV6J"
      },
      "source": [
        "(*по умолчанию backpropagation распространяется на все слои, поэтому здесь мы только заменяем FC-слой на свой классификатор*)"
      ]
    },
    {
      "cell_type": "code",
      "metadata": {
        "colab_type": "code",
        "id": "ppIGmkz4ZV6K",
        "colab": {}
      },
      "source": [
        "# num_features -- это размерность вектора фич, поступающего на вход FC-слою\n",
        "num_features = 9216\n",
        "# Заменяем Fully-Connected слой на наш линейный классификатор\n",
        "model.classifier = nn.Linear(num_features, 2)\n",
        "\n",
        "# Использовать ли GPU\n",
        "if use_gpu:\n",
        "    model = model.cuda()\n",
        "\n",
        "# В качестве cost function используем кросс-энтропию\n",
        "loss_fn = nn.CrossEntropyLoss()\n",
        "\n",
        "# В качестве оптимизатора - стохастический градиентный спуск\n",
        "optimizer_ft = optim.SGD(model.parameters(), lr=0.001, momentum=0.9)\n",
        "\n",
        "# Умножает learning_rate на 0.1 каждые 7 эпох (это одна из эвристик, не было на лекциях)\n",
        "exp_lr_scheduler = lr_scheduler.StepLR(optimizer_ft, step_size=7, gamma=0.1)"
      ],
      "execution_count": 0,
      "outputs": []
    },
    {
      "cell_type": "code",
      "metadata": {
        "colab_type": "code",
        "id": "DXDZK7JVZV6X",
        "outputId": "520186d0-4692-44b2-97b0-d27cd321f66c",
        "scrolled": true,
        "colab": {
          "base_uri": "https://localhost:8080/",
          "height": 2176
        }
      },
      "source": [
        "model, losses = train_model(model, loss_fn, optimizer_ft, exp_lr_scheduler, num_epochs=25)"
      ],
      "execution_count": 19,
      "outputs": [
        {
          "output_type": "stream",
          "text": [
            "Epoch 0/24\n",
            "----------\n",
            "train Loss: 0.2070 Acc: 0.5656\n",
            "val Loss: 0.1732 Acc: 0.4539\n",
            "\n",
            "Epoch 1/24\n",
            "----------\n",
            "train Loss: 0.1730 Acc: 0.5000\n",
            "val Loss: 0.1728 Acc: 0.5592\n",
            "\n",
            "Epoch 2/24\n",
            "----------\n",
            "train Loss: 0.1743 Acc: 0.5615\n",
            "val Loss: 0.1713 Acc: 0.5987\n",
            "\n",
            "Epoch 3/24\n",
            "----------\n",
            "train Loss: 0.1722 Acc: 0.5779\n",
            "val Loss: 0.1720 Acc: 0.5592\n",
            "\n",
            "Epoch 4/24\n",
            "----------\n",
            "train Loss: 0.1735 Acc: 0.4959\n",
            "val Loss: 0.1725 Acc: 0.5526\n",
            "\n",
            "Epoch 5/24\n",
            "----------\n",
            "train Loss: 0.1735 Acc: 0.5000\n",
            "val Loss: 0.1726 Acc: 0.5526\n",
            "\n",
            "Epoch 6/24\n",
            "----------\n",
            "train Loss: 0.1734 Acc: 0.4959\n",
            "val Loss: 0.1726 Acc: 0.5592\n",
            "\n",
            "Epoch 7/24\n",
            "----------\n",
            "train Loss: 0.1731 Acc: 0.5082\n",
            "val Loss: 0.1726 Acc: 0.5526\n",
            "\n",
            "Epoch 8/24\n",
            "----------\n",
            "train Loss: 0.1732 Acc: 0.5000\n",
            "val Loss: 0.1726 Acc: 0.5592\n",
            "\n",
            "Epoch 9/24\n",
            "----------\n",
            "train Loss: 0.1733 Acc: 0.5000\n",
            "val Loss: 0.1727 Acc: 0.5658\n",
            "\n",
            "Epoch 10/24\n",
            "----------\n",
            "train Loss: 0.1735 Acc: 0.4959\n",
            "val Loss: 0.1727 Acc: 0.5658\n",
            "\n",
            "Epoch 11/24\n",
            "----------\n",
            "train Loss: 0.1733 Acc: 0.5000\n",
            "val Loss: 0.1727 Acc: 0.5592\n",
            "\n",
            "Epoch 12/24\n",
            "----------\n",
            "train Loss: 0.1730 Acc: 0.5164\n",
            "val Loss: 0.1727 Acc: 0.5526\n",
            "\n",
            "Epoch 13/24\n",
            "----------\n",
            "train Loss: 0.1734 Acc: 0.5000\n",
            "val Loss: 0.1727 Acc: 0.5526\n",
            "\n",
            "Epoch 14/24\n",
            "----------\n",
            "train Loss: 0.1731 Acc: 0.5082\n",
            "val Loss: 0.1727 Acc: 0.5526\n",
            "\n",
            "Epoch 15/24\n",
            "----------\n",
            "train Loss: 0.1732 Acc: 0.4918\n",
            "val Loss: 0.1727 Acc: 0.5526\n",
            "\n",
            "Epoch 16/24\n",
            "----------\n",
            "train Loss: 0.1733 Acc: 0.5000\n",
            "val Loss: 0.1727 Acc: 0.5526\n",
            "\n",
            "Epoch 17/24\n",
            "----------\n",
            "train Loss: 0.1733 Acc: 0.5082\n",
            "val Loss: 0.1727 Acc: 0.5526\n",
            "\n",
            "Epoch 18/24\n",
            "----------\n",
            "train Loss: 0.1732 Acc: 0.5000\n",
            "val Loss: 0.1727 Acc: 0.5526\n",
            "\n",
            "Epoch 19/24\n",
            "----------\n",
            "train Loss: 0.1731 Acc: 0.5123\n",
            "val Loss: 0.1728 Acc: 0.5526\n",
            "\n",
            "Epoch 20/24\n",
            "----------\n",
            "train Loss: 0.1731 Acc: 0.5164\n",
            "val Loss: 0.1728 Acc: 0.5526\n",
            "\n",
            "Epoch 21/24\n",
            "----------\n",
            "train Loss: 0.1732 Acc: 0.5082\n",
            "val Loss: 0.1728 Acc: 0.5526\n",
            "\n",
            "Epoch 22/24\n",
            "----------\n",
            "train Loss: 0.1731 Acc: 0.5205\n",
            "val Loss: 0.1728 Acc: 0.5526\n",
            "\n",
            "Epoch 23/24\n",
            "----------\n",
            "train Loss: 0.1732 Acc: 0.5041\n",
            "val Loss: 0.1728 Acc: 0.5526\n",
            "\n",
            "Epoch 24/24\n",
            "----------\n",
            "train Loss: 0.1730 Acc: 0.5164\n",
            "val Loss: 0.1728 Acc: 0.5526\n",
            "\n",
            "Training complete in 3m 24s\n",
            "Best val Acc: 0.598684\n"
          ],
          "name": "stdout"
        }
      ]
    },
    {
      "cell_type": "code",
      "metadata": {
        "id": "vy5svd0sasqK",
        "colab_type": "code",
        "outputId": "8096bcbe-b4e2-45b9-c2cc-ddf50cd8c62e",
        "colab": {
          "base_uri": "https://localhost:8080/",
          "height": 286
        }
      },
      "source": [
        "# Построим график лосса при обучении и валидации\n",
        "\n",
        "#Ваш код здесь\n",
        "plt.plot(losses['train'])\n",
        "plt.plot(losses['val'])"
      ],
      "execution_count": 20,
      "outputs": [
        {
          "output_type": "execute_result",
          "data": {
            "text/plain": [
              "[<matplotlib.lines.Line2D at 0x7f99e2a126a0>]"
            ]
          },
          "metadata": {
            "tags": []
          },
          "execution_count": 20
        },
        {
          "output_type": "display_data",
          "data": {
            "image/png": "[encoded data removed]",
            "text/plain": [
              "<Figure size 432x288 with 1 Axes>"
            ]
          },
          "metadata": {
            "tags": []
          }
        }
      ]
    },
    {
      "cell_type": "code",
      "metadata": {
        "id": "HsdIKxWrasqT",
        "colab_type": "code",
        "colab": {}
      },
      "source": [
        "torch.save(model.state_dict(), 'AlexNet_fine_tune.pth')"
      ],
      "execution_count": 0,
      "outputs": []
    },
    {
      "cell_type": "code",
      "metadata": {
        "id": "mHkl1gCSasqZ",
        "colab_type": "code",
        "colab": {
          "base_uri": "https://localhost:8080/",
          "height": 34
        },
        "outputId": "b39a59e1-d41e-4a1e-b0b0-88f5aeb8f2ff"
      },
      "source": [
        "model.load_state_dict(torch.load('AlexNet_fine_tune.pth'))"
      ],
      "execution_count": 22,
      "outputs": [
        {
          "output_type": "execute_result",
          "data": {
            "text/plain": [
              "IncompatibleKeys(missing_keys=[], unexpected_keys=[])"
            ]
          },
          "metadata": {
            "tags": []
          },
          "execution_count": 22
        }
      ]
    },
    {
      "cell_type": "code",
      "metadata": {
        "scrolled": false,
        "id": "-lpqXDeVasqe",
        "colab_type": "code",
        "outputId": "54cf8ae6-f793-47ac-e3d4-3187292289d3",
        "colab": {
          "base_uri": "https://localhost:8080/",
          "height": 34
        }
      },
      "source": [
        "print(\"Accuracy: {0:.4f}\".format(evaluate(model)))"
      ],
      "execution_count": 23,
      "outputs": [
        {
          "output_type": "stream",
          "text": [
            "Accuracy: 0.5526\n"
          ],
          "name": "stdout"
        }
      ]
    },
    {
      "cell_type": "markdown",
      "metadata": {
        "colab_type": "text",
        "id": "3wy3MHj1ZV6d"
      },
      "source": [
        "Видим, что Fine Tuning AlexNet'а не дал хороших результатов, поскольку качество получается ~70%, что маловато для свёрточной нейросети для задачи классификации картинок. Посмотрим, как будет с AlexNet в роли Feature Extractor'а."
      ]
    },
    {
      "cell_type": "markdown",
      "metadata": {
        "colab_type": "text",
        "id": "vyM6SLNZZV6g"
      },
      "source": [
        "* **Feature Extractor** способ:"
      ]
    },
    {
      "cell_type": "code",
      "metadata": {
        "colab_type": "code",
        "id": "81XVFTJiZV6h",
        "colab": {}
      },
      "source": [
        "model_extractor = models.alexnet(pretrained=True)"
      ],
      "execution_count": 0,
      "outputs": []
    },
    {
      "cell_type": "markdown",
      "metadata": {
        "colab_type": "text",
        "id": "6XUzgLSlZV6m"
      },
      "source": [
        "Помним, что по-умолчанию все слои нейросети обучаются заново:"
      ]
    },
    {
      "cell_type": "code",
      "metadata": {
        "colab_type": "code",
        "id": "8kiGUDNqZV6n",
        "colab": {
          "base_uri": "https://localhost:8080/",
          "height": 289
        },
        "outputId": "fd43708d-8e83-4c88-efcd-8db0b852c92d"
      },
      "source": [
        "for param in model_extractor.parameters():\n",
        "    print(param.requires_grad)"
      ],
      "execution_count": 25,
      "outputs": [
        {
          "output_type": "stream",
          "text": [
            "True\n",
            "True\n",
            "True\n",
            "True\n",
            "True\n",
            "True\n",
            "True\n",
            "True\n",
            "True\n",
            "True\n",
            "True\n",
            "True\n",
            "True\n",
            "True\n",
            "True\n",
            "True\n"
          ],
          "name": "stdout"
        }
      ]
    },
    {
      "cell_type": "markdown",
      "metadata": {
        "colab_type": "text",
        "id": "qOTXa28JZV6s"
      },
      "source": [
        "Сделаем так, чтобы на них *не распространялся backpropagation* (заморозим их), и подменим классификатор (ведь старый уже с весами для ImageNet'а)."
      ]
    },
    {
      "cell_type": "code",
      "metadata": {
        "colab_type": "code",
        "id": "K7rW4vKaZV6u",
        "colab": {}
      },
      "source": [
        "# замораживаем параметры (веса)\n",
        "for param in model_extractor.parameters():\n",
        "    param.requires_grad = False\n",
        "\n",
        "# num_features -- это размерность вектора фич, поступающего на вход FC-слою\n",
        "num_features = 9216\n",
        "# Заменяем Fully-Connected слой на наш линейный классификатор\n",
        "model_extractor.classifier = nn.Linear(num_features, 2)\n",
        "\n",
        "# Использовать ли GPU\n",
        "if use_gpu:\n",
        "    model_extractor = model_extractor.cuda()\n",
        "\n",
        "# В качестве cost function используем кросс-энтропию\n",
        "loss_fn = nn.CrossEntropyLoss()\n",
        "\n",
        "# Обучаем только классификатор\n",
        "optimizer = optim.SGD(model_extractor.classifier.parameters(), lr=0.001, momentum=0.9)\n",
        "\n",
        "# Умножает learning_rate на 0.1 каждые 7 эпох (это одна из эвристик, не было на лекциях)\n",
        "exp_lr_scheduler = lr_scheduler.StepLR(optimizer, step_size=7, gamma=0.1)"
      ],
      "execution_count": 0,
      "outputs": []
    },
    {
      "cell_type": "code",
      "metadata": {
        "colab_type": "code",
        "id": "bVL7TjRIZV6z",
        "outputId": "ee0a348d-33aa-465a-8d7c-fa004369d302",
        "colab": {
          "base_uri": "https://localhost:8080/",
          "height": 2210
        }
      },
      "source": [
        "%%time\n",
        "model_extractor,losses = train_model(model_extractor, loss_fn, optimizer, exp_lr_scheduler, num_epochs=25)"
      ],
      "execution_count": 27,
      "outputs": [
        {
          "output_type": "stream",
          "text": [
            "Epoch 0/24\n",
            "----------\n",
            "train Loss: 0.9173 Acc: 0.7295\n",
            "val Loss: 1.1581 Acc: 0.8224\n",
            "\n",
            "Epoch 1/24\n",
            "----------\n",
            "train Loss: 1.0088 Acc: 0.7951\n",
            "val Loss: 1.0432 Acc: 0.9013\n",
            "\n",
            "Epoch 2/24\n",
            "----------\n",
            "train Loss: 0.9064 Acc: 0.8484\n",
            "val Loss: 1.3720 Acc: 0.8421\n",
            "\n",
            "Epoch 3/24\n",
            "----------\n",
            "train Loss: 0.9303 Acc: 0.8607\n",
            "val Loss: 1.4344 Acc: 0.8355\n",
            "\n",
            "Epoch 4/24\n",
            "----------\n",
            "train Loss: 0.8430 Acc: 0.8484\n",
            "val Loss: 1.2967 Acc: 0.8618\n",
            "\n",
            "Epoch 5/24\n",
            "----------\n",
            "train Loss: 0.9813 Acc: 0.8525\n",
            "val Loss: 1.8486 Acc: 0.8750\n",
            "\n",
            "Epoch 6/24\n",
            "----------\n",
            "train Loss: 0.6240 Acc: 0.9016\n",
            "val Loss: 1.5429 Acc: 0.8750\n",
            "\n",
            "Epoch 7/24\n",
            "----------\n",
            "train Loss: 0.3747 Acc: 0.9098\n",
            "val Loss: 1.5300 Acc: 0.8750\n",
            "\n",
            "Epoch 8/24\n",
            "----------\n",
            "train Loss: 0.4543 Acc: 0.9262\n",
            "val Loss: 1.5206 Acc: 0.8750\n",
            "\n",
            "Epoch 9/24\n",
            "----------\n",
            "train Loss: 0.2960 Acc: 0.9303\n",
            "val Loss: 1.4790 Acc: 0.8750\n",
            "\n",
            "Epoch 10/24\n",
            "----------\n",
            "train Loss: 0.4274 Acc: 0.8934\n",
            "val Loss: 1.3892 Acc: 0.8816\n",
            "\n",
            "Epoch 11/24\n",
            "----------\n",
            "train Loss: 0.1928 Acc: 0.9467\n",
            "val Loss: 1.3689 Acc: 0.8947\n",
            "\n",
            "Epoch 12/24\n",
            "----------\n",
            "train Loss: 0.3371 Acc: 0.9221\n",
            "val Loss: 1.3784 Acc: 0.8816\n",
            "\n",
            "Epoch 13/24\n",
            "----------\n",
            "train Loss: 0.5438 Acc: 0.8811\n",
            "val Loss: 1.3715 Acc: 0.8816\n",
            "\n",
            "Epoch 14/24\n",
            "----------\n",
            "train Loss: 0.4598 Acc: 0.8975\n",
            "val Loss: 1.3857 Acc: 0.8882\n",
            "\n",
            "Epoch 15/24\n",
            "----------\n",
            "train Loss: 0.3114 Acc: 0.9303\n",
            "val Loss: 1.3624 Acc: 0.8882\n",
            "\n",
            "Epoch 16/24\n",
            "----------\n",
            "train Loss: 0.1246 Acc: 0.9303\n",
            "val Loss: 1.3633 Acc: 0.8882\n",
            "\n",
            "Epoch 17/24\n",
            "----------\n",
            "train Loss: 0.2692 Acc: 0.9180\n",
            "val Loss: 1.3569 Acc: 0.8816\n",
            "\n",
            "Epoch 18/24\n",
            "----------\n",
            "train Loss: 0.3992 Acc: 0.9262\n",
            "val Loss: 1.3466 Acc: 0.8816\n",
            "\n",
            "Epoch 19/24\n",
            "----------\n",
            "train Loss: 0.2932 Acc: 0.9262\n",
            "val Loss: 1.3366 Acc: 0.8816\n",
            "\n",
            "Epoch 20/24\n",
            "----------\n",
            "train Loss: 0.1758 Acc: 0.9467\n",
            "val Loss: 1.3350 Acc: 0.8882\n",
            "\n",
            "Epoch 21/24\n",
            "----------\n",
            "train Loss: 0.3047 Acc: 0.9221\n",
            "val Loss: 1.3348 Acc: 0.8882\n",
            "\n",
            "Epoch 22/24\n",
            "----------\n",
            "train Loss: 0.1775 Acc: 0.9344\n",
            "val Loss: 1.3338 Acc: 0.8882\n",
            "\n",
            "Epoch 23/24\n",
            "----------\n",
            "train Loss: 0.4352 Acc: 0.9180\n",
            "val Loss: 1.3337 Acc: 0.8882\n",
            "\n",
            "Epoch 24/24\n",
            "----------\n",
            "train Loss: 0.2601 Acc: 0.9385\n",
            "val Loss: 1.3336 Acc: 0.8882\n",
            "\n",
            "Training complete in 1m 33s\n",
            "Best val Acc: 0.901316\n",
            "CPU times: user 11.1 s, sys: 10.2 s, total: 21.2 s\n",
            "Wall time: 1min 33s\n"
          ],
          "name": "stdout"
        }
      ]
    },
    {
      "cell_type": "code",
      "metadata": {
        "id": "gGo6V4NvasrF",
        "colab_type": "code",
        "colab": {}
      },
      "source": [
        "torch.save(model_extractor.state_dict(), 'AlexNet_extractor.pth')"
      ],
      "execution_count": 0,
      "outputs": []
    },
    {
      "cell_type": "code",
      "metadata": {
        "id": "Zh1zR5-masrJ",
        "colab_type": "code",
        "colab": {
          "base_uri": "https://localhost:8080/",
          "height": 34
        },
        "outputId": "89dfe5d0-a43e-4721-a035-df7ac410e723"
      },
      "source": [
        "model_extractor.load_state_dict(torch.load('AlexNet_extractor.pth'))"
      ],
      "execution_count": 29,
      "outputs": [
        {
          "output_type": "execute_result",
          "data": {
            "text/plain": [
              "IncompatibleKeys(missing_keys=[], unexpected_keys=[])"
            ]
          },
          "metadata": {
            "tags": []
          },
          "execution_count": 29
        }
      ]
    },
    {
      "cell_type": "code",
      "metadata": {
        "scrolled": false,
        "id": "Cje61W8dasrV",
        "colab_type": "code",
        "colab": {
          "base_uri": "https://localhost:8080/",
          "height": 34
        },
        "outputId": "5d7d20af-181c-4486-8c66-7474f9ae3a80"
      },
      "source": [
        "print(\"Accuracy: {0:.4f}\".format(evaluate(model_extractor)))"
      ],
      "execution_count": 30,
      "outputs": [
        {
          "output_type": "stream",
          "text": [
            "Accuracy: 0.8882\n"
          ],
          "name": "stdout"
        }
      ]
    },
    {
      "cell_type": "markdown",
      "metadata": {
        "colab_type": "text",
        "id": "_5Tn3EAXZV66"
      },
      "source": [
        "Видим, что качество намного лучше: ~90%."
      ]
    },
    {
      "cell_type": "markdown",
      "metadata": {
        "id": "ZrSTwP0sasrc",
        "colab_type": "text"
      },
      "source": [
        "* **Смешанный** способ:\n",
        "Мы будем обучать не только последний **fully connected** слой, но и несколько предпоследних"
      ]
    },
    {
      "cell_type": "code",
      "metadata": {
        "id": "XPk0oPOxasrd",
        "colab_type": "code",
        "colab": {}
      },
      "source": [
        "model_mixed = models.alexnet(pretrained=True)"
      ],
      "execution_count": 0,
      "outputs": []
    },
    {
      "cell_type": "code",
      "metadata": {
        "id": "LM4WojSuasrj",
        "colab_type": "code",
        "colab": {}
      },
      "source": [
        "layers_to_unfreeze = 5\n",
        "\n",
        "# Выключаем подсчет градиентов для слоев, которые не будем обучать\n",
        "for param in model_mixed.features[:-layers_to_unfreeze].parameters():\n",
        "    param.requires_grad = False\n",
        "    \n",
        "# num_features -- это размерность вектора фич, поступающего на вход FC-слою\n",
        "num_features = 9216\n",
        "# Заменяем Fully-Connected слой на наш линейный классификатор\n",
        "model_mixed.classifier = nn.Linear(num_features, 2)\n",
        "\n",
        "# Использовать ли GPU\n",
        "if use_gpu:\n",
        "    model_mixed = model_mixed.cuda()\n",
        "\n",
        "# В качестве cost function используем кросс-энтропию\n",
        "loss_fn = nn.CrossEntropyLoss()\n",
        "\n",
        "# Обучаем последние layers_to_unfreeze слоев из сверточной части и fully connected слой \n",
        "# parameters() возвращает просто список тензоров парамтеров, поэтому два таких списка можно сложить\n",
        "optimizer = optim.SGD(list(model_mixed.features.parameters())[-layers_to_unfreeze:] + \n",
        "                      list(model_mixed.classifier.parameters()), lr=0.001, momentum=0.9)\n",
        "\n",
        "# Умножает learning_rate на 0.1 каждые 7 эпох (это одна из эвристик, не было на лекциях)\n",
        "exp_lr_scheduler = lr_scheduler.StepLR(optimizer, step_size=7, gamma=0.1)"
      ],
      "execution_count": 0,
      "outputs": []
    },
    {
      "cell_type": "code",
      "metadata": {
        "scrolled": true,
        "id": "3H4MFD31asrm",
        "colab_type": "code",
        "outputId": "92ac976f-20b5-4274-91cc-f1ea841d6271",
        "colab": {
          "base_uri": "https://localhost:8080/",
          "height": 2210
        }
      },
      "source": [
        "%%time\n",
        "_, losses = train_model(model_mixed, loss_fn, optimizer, exp_lr_scheduler, num_epochs=25)"
      ],
      "execution_count": 33,
      "outputs": [
        {
          "output_type": "stream",
          "text": [
            "Epoch 0/24\n",
            "----------\n",
            "train Loss: 0.4022 Acc: 0.6967\n",
            "val Loss: 0.1604 Acc: 0.7039\n",
            "\n",
            "Epoch 1/24\n",
            "----------\n",
            "train Loss: 0.1321 Acc: 0.8033\n",
            "val Loss: 0.1511 Acc: 0.8553\n",
            "\n",
            "Epoch 2/24\n",
            "----------\n",
            "train Loss: 0.1167 Acc: 0.7705\n",
            "val Loss: 0.2380 Acc: 0.7237\n",
            "\n",
            "Epoch 3/24\n",
            "----------\n",
            "train Loss: 0.0944 Acc: 0.8402\n",
            "val Loss: 0.2072 Acc: 0.8092\n",
            "\n",
            "Epoch 4/24\n",
            "----------\n",
            "train Loss: 0.0744 Acc: 0.8934\n",
            "val Loss: 0.1508 Acc: 0.8684\n",
            "\n",
            "Epoch 5/24\n",
            "----------\n",
            "train Loss: 0.0739 Acc: 0.8730\n",
            "val Loss: 0.2178 Acc: 0.7895\n",
            "\n",
            "Epoch 6/24\n",
            "----------\n",
            "train Loss: 0.0964 Acc: 0.8730\n",
            "val Loss: 0.1247 Acc: 0.8750\n",
            "\n",
            "Epoch 7/24\n",
            "----------\n",
            "train Loss: 0.0599 Acc: 0.9098\n",
            "val Loss: 0.1230 Acc: 0.8816\n",
            "\n",
            "Epoch 8/24\n",
            "----------\n",
            "train Loss: 0.0496 Acc: 0.9303\n",
            "val Loss: 0.1305 Acc: 0.8947\n",
            "\n",
            "Epoch 9/24\n",
            "----------\n",
            "train Loss: 0.0482 Acc: 0.9057\n",
            "val Loss: 0.1303 Acc: 0.8947\n",
            "\n",
            "Epoch 10/24\n",
            "----------\n",
            "train Loss: 0.0425 Acc: 0.9303\n",
            "val Loss: 0.1398 Acc: 0.8816\n",
            "\n",
            "Epoch 11/24\n",
            "----------\n",
            "train Loss: 0.0658 Acc: 0.9139\n",
            "val Loss: 0.1390 Acc: 0.8816\n",
            "\n",
            "Epoch 12/24\n",
            "----------\n",
            "train Loss: 0.0442 Acc: 0.9303\n",
            "val Loss: 0.1406 Acc: 0.8947\n",
            "\n",
            "Epoch 13/24\n",
            "----------\n",
            "train Loss: 0.0373 Acc: 0.9385\n",
            "val Loss: 0.1409 Acc: 0.8947\n",
            "\n",
            "Epoch 14/24\n",
            "----------\n",
            "train Loss: 0.0502 Acc: 0.9385\n",
            "val Loss: 0.1411 Acc: 0.8882\n",
            "\n",
            "Epoch 15/24\n",
            "----------\n",
            "train Loss: 0.0520 Acc: 0.9180\n",
            "val Loss: 0.1414 Acc: 0.8947\n",
            "\n",
            "Epoch 16/24\n",
            "----------\n",
            "train Loss: 0.0379 Acc: 0.9467\n",
            "val Loss: 0.1409 Acc: 0.8947\n",
            "\n",
            "Epoch 17/24\n",
            "----------\n",
            "train Loss: 0.0390 Acc: 0.9221\n",
            "val Loss: 0.1407 Acc: 0.8947\n",
            "\n",
            "Epoch 18/24\n",
            "----------\n",
            "train Loss: 0.0440 Acc: 0.9385\n",
            "val Loss: 0.1410 Acc: 0.8947\n",
            "\n",
            "Epoch 19/24\n",
            "----------\n",
            "train Loss: 0.0474 Acc: 0.9262\n",
            "val Loss: 0.1411 Acc: 0.8947\n",
            "\n",
            "Epoch 20/24\n",
            "----------\n",
            "train Loss: 0.0418 Acc: 0.9221\n",
            "val Loss: 0.1411 Acc: 0.8947\n",
            "\n",
            "Epoch 21/24\n",
            "----------\n",
            "train Loss: 0.0468 Acc: 0.9303\n",
            "val Loss: 0.1412 Acc: 0.8947\n",
            "\n",
            "Epoch 22/24\n",
            "----------\n",
            "train Loss: 0.0455 Acc: 0.9180\n",
            "val Loss: 0.1412 Acc: 0.8947\n",
            "\n",
            "Epoch 23/24\n",
            "----------\n",
            "train Loss: 0.0382 Acc: 0.9467\n",
            "val Loss: 0.1411 Acc: 0.8882\n",
            "\n",
            "Epoch 24/24\n",
            "----------\n",
            "train Loss: 0.0345 Acc: 0.9467\n",
            "val Loss: 0.1411 Acc: 0.8882\n",
            "\n",
            "Training complete in 1m 34s\n",
            "Best val Acc: 0.894737\n",
            "CPU times: user 12.7 s, sys: 10.9 s, total: 23.6 s\n",
            "Wall time: 1min 34s\n"
          ],
          "name": "stdout"
        }
      ]
    },
    {
      "cell_type": "code",
      "metadata": {
        "id": "RT5f5YRTasrt",
        "colab_type": "code",
        "colab": {}
      },
      "source": [
        "torch.save(model_mixed.state_dict(), 'AlexNet_mixed.pth')"
      ],
      "execution_count": 0,
      "outputs": []
    },
    {
      "cell_type": "code",
      "metadata": {
        "id": "MSIU9-hpassE",
        "colab_type": "code",
        "colab": {
          "base_uri": "https://localhost:8080/",
          "height": 34
        },
        "outputId": "49f5738e-0df0-49a1-b8e1-50f36131f20b"
      },
      "source": [
        "model_mixed.load_state_dict(torch.load('AlexNet_mixed.pth'))"
      ],
      "execution_count": 35,
      "outputs": [
        {
          "output_type": "execute_result",
          "data": {
            "text/plain": [
              "IncompatibleKeys(missing_keys=[], unexpected_keys=[])"
            ]
          },
          "metadata": {
            "tags": []
          },
          "execution_count": 35
        }
      ]
    },
    {
      "cell_type": "code",
      "metadata": {
        "scrolled": false,
        "id": "ZB5nwLOXassH",
        "colab_type": "code",
        "colab": {
          "base_uri": "https://localhost:8080/",
          "height": 34
        },
        "outputId": "adfba7c5-3b65-444e-9c8c-3dc4583cbdf0"
      },
      "source": [
        "print(\"Accuracy: {0:.4f}\".format(evaluate(model_mixed)))"
      ],
      "execution_count": 36,
      "outputs": [
        {
          "output_type": "stream",
          "text": [
            "Accuracy: 0.8882\n"
          ],
          "name": "stdout"
        }
      ]
    },
    {
      "cell_type": "markdown",
      "metadata": {
        "colab_type": "text",
        "id": "Ue3eslBDZV67"
      },
      "source": [
        "**Вопрос 1 (важный):** С чем связано повышение качества если мы перестаем учить всю сеть? (Подсказка: посмотрите на датасет и на то, как он согласуется с 4-мя ситуациями, описанными выше)"
      ]
    },
    {
      "cell_type": "markdown",
      "metadata": {
        "colab_type": "text",
        "id": "Zz5G8Z2IZV69"
      },
      "source": [
        "**Ответ (важный):** <Ваш ответ>"
      ]
    },
    {
      "cell_type": "markdown",
      "metadata": {
        "id": "NMUiDxeWassP",
        "colab_type": "text"
      },
      "source": [
        "**Вопрос 2**: Почему разморозка последних слоев не дает прироста к точности, хотя разморозить несколько послдних слоев обычно хорошеее решение для классификации похожего датасета? (Вопрос на внимательность)"
      ]
    },
    {
      "cell_type": "markdown",
      "metadata": {
        "id": "n8CQ6VuzassQ",
        "colab_type": "text"
      },
      "source": [
        "**Ответ:** <Ваш ответ>"
      ]
    },
    {
      "cell_type": "markdown",
      "metadata": {
        "colab_type": "text",
        "id": "90JYIt39ZV7W"
      },
      "source": [
        "### Другие, более современные нейросети"
      ]
    },
    {
      "cell_type": "markdown",
      "metadata": {
        "colab_type": "text",
        "id": "6McVYGoIZV7X"
      },
      "source": [
        "**Вопрос:** Какую стратегию Вы выберете, учитывая размер и специфику нового датасета?"
      ]
    },
    {
      "cell_type": "markdown",
      "metadata": {
        "colab_type": "text",
        "id": "gg9c_ngBZV7X"
      },
      "source": [
        "**Ответ:** <Ваш ответ>"
      ]
    },
    {
      "cell_type": "markdown",
      "metadata": {
        "colab_type": "text",
        "id": "YLb_VQ-nZV7Y"
      },
      "source": [
        "### VGG16"
      ]
    },
    {
      "cell_type": "code",
      "metadata": {
        "colab_type": "code",
        "id": "HrmyWuu-ZV7Z",
        "colab": {
          "base_uri": "https://localhost:8080/",
          "height": 51
        },
        "outputId": "bf9e4af4-2b38-43c8-ea9f-b7ed19ad979b"
      },
      "source": [
        "# Ваш код здесь\n",
        "model_extractor = models.vgg16(pretrained=True)\n",
        "\n",
        "# замораживаем параметры (веса)\n",
        "for param in model_extractor.parameters():\n",
        "    param.requires_grad = False\n",
        "\n",
        "# num_features -- это размерность вектора фич, поступающего на вход FC-слою\n",
        "num_features = 25088\n",
        "# Заменяем Fully-Connected слой на наш линейный классификатор\n",
        "model_extractor.classifier = nn.Linear(num_features, 2)\n",
        "\n",
        "# Использовать ли GPU\n",
        "if use_gpu:\n",
        "    model_extractor = model_extractor.cuda()\n",
        "\n",
        "# В качестве cost function используем кросс-энтропию\n",
        "loss_fn = nn.CrossEntropyLoss()\n",
        "\n",
        "# Обучаем только классификатор\n",
        "optimizer = optim.SGD(model_extractor.classifier.parameters(), lr=0.001, momentum=0.9)\n",
        "\n",
        "# Умножает learning_rate на 0.1 каждые 7 эпох (это одна из эвристик, не было на лекциях)\n",
        "exp_lr_scheduler = lr_scheduler.StepLR(optimizer, step_size=7, gamma=0.1)"
      ],
      "execution_count": 37,
      "outputs": [
        {
          "output_type": "stream",
          "text": [
            "Downloading: \"https://download.pytorch.org/models/vgg16-397923af.pth\" to /root/.cache/torch/checkpoints/vgg16-397923af.pth\n",
            "100%|██████████| 553433881/553433881 [00:05<00:00, 107653363.31it/s]\n"
          ],
          "name": "stderr"
        }
      ]
    },
    {
      "cell_type": "code",
      "metadata": {
        "scrolled": true,
        "id": "rq8Nvc8Nassk",
        "colab_type": "code",
        "outputId": "bfab636e-2181-4330-a303-77548dc0a874",
        "colab": {
          "base_uri": "https://localhost:8080/",
          "height": 2176
        }
      },
      "source": [
        "# Запустите обучение\n",
        "\n",
        "model_extractor, losses = train_model(model_extractor, loss_fn, optimizer, exp_lr_scheduler, num_epochs=25)"
      ],
      "execution_count": 38,
      "outputs": [
        {
          "output_type": "stream",
          "text": [
            "Epoch 0/24\n",
            "----------\n",
            "train Loss: 0.5119 Acc: 0.7787\n",
            "val Loss: 0.3261 Acc: 0.9079\n",
            "\n",
            "Epoch 1/24\n",
            "----------\n",
            "train Loss: 0.4450 Acc: 0.8607\n",
            "val Loss: 0.3819 Acc: 0.9408\n",
            "\n",
            "Epoch 2/24\n",
            "----------\n",
            "train Loss: 0.2831 Acc: 0.9180\n",
            "val Loss: 0.6457 Acc: 0.9276\n",
            "\n",
            "Epoch 3/24\n",
            "----------\n",
            "train Loss: 0.2719 Acc: 0.9180\n",
            "val Loss: 0.4886 Acc: 0.9276\n",
            "\n",
            "Epoch 4/24\n",
            "----------\n",
            "train Loss: 0.4427 Acc: 0.9180\n",
            "val Loss: 0.3525 Acc: 0.9474\n",
            "\n",
            "Epoch 5/24\n",
            "----------\n",
            "train Loss: 0.2345 Acc: 0.9098\n",
            "val Loss: 0.4827 Acc: 0.9539\n",
            "\n",
            "Epoch 6/24\n",
            "----------\n",
            "train Loss: 0.1578 Acc: 0.9549\n",
            "val Loss: 0.4879 Acc: 0.9539\n",
            "\n",
            "Epoch 7/24\n",
            "----------\n",
            "train Loss: 0.1126 Acc: 0.9549\n",
            "val Loss: 0.4162 Acc: 0.9605\n",
            "\n",
            "Epoch 8/24\n",
            "----------\n",
            "train Loss: 0.2850 Acc: 0.9385\n",
            "val Loss: 0.4473 Acc: 0.9474\n",
            "\n",
            "Epoch 9/24\n",
            "----------\n",
            "train Loss: 0.1456 Acc: 0.9631\n",
            "val Loss: 0.4227 Acc: 0.9474\n",
            "\n",
            "Epoch 10/24\n",
            "----------\n",
            "train Loss: 0.2234 Acc: 0.9467\n",
            "val Loss: 0.4254 Acc: 0.9474\n",
            "\n",
            "Epoch 11/24\n",
            "----------\n",
            "train Loss: 0.2026 Acc: 0.9180\n",
            "val Loss: 0.4253 Acc: 0.9474\n",
            "\n",
            "Epoch 12/24\n",
            "----------\n",
            "train Loss: 0.1549 Acc: 0.9426\n",
            "val Loss: 0.4823 Acc: 0.9474\n",
            "\n",
            "Epoch 13/24\n",
            "----------\n",
            "train Loss: 0.1770 Acc: 0.9549\n",
            "val Loss: 0.4802 Acc: 0.9474\n",
            "\n",
            "Epoch 14/24\n",
            "----------\n",
            "train Loss: 0.1361 Acc: 0.9508\n",
            "val Loss: 0.4737 Acc: 0.9474\n",
            "\n",
            "Epoch 15/24\n",
            "----------\n",
            "train Loss: 0.1436 Acc: 0.9467\n",
            "val Loss: 0.4761 Acc: 0.9474\n",
            "\n",
            "Epoch 16/24\n",
            "----------\n",
            "train Loss: 0.1156 Acc: 0.9590\n",
            "val Loss: 0.4755 Acc: 0.9474\n",
            "\n",
            "Epoch 17/24\n",
            "----------\n",
            "train Loss: 0.2471 Acc: 0.9344\n",
            "val Loss: 0.4723 Acc: 0.9474\n",
            "\n",
            "Epoch 18/24\n",
            "----------\n",
            "train Loss: 0.1542 Acc: 0.9508\n",
            "val Loss: 0.4646 Acc: 0.9474\n",
            "\n",
            "Epoch 19/24\n",
            "----------\n",
            "train Loss: 0.2553 Acc: 0.9262\n",
            "val Loss: 0.4573 Acc: 0.9474\n",
            "\n",
            "Epoch 20/24\n",
            "----------\n",
            "train Loss: 0.1207 Acc: 0.9303\n",
            "val Loss: 0.4569 Acc: 0.9474\n",
            "\n",
            "Epoch 21/24\n",
            "----------\n",
            "train Loss: 0.1261 Acc: 0.9631\n",
            "val Loss: 0.4564 Acc: 0.9474\n",
            "\n",
            "Epoch 22/24\n",
            "----------\n",
            "train Loss: 0.1989 Acc: 0.9344\n",
            "val Loss: 0.4556 Acc: 0.9474\n",
            "\n",
            "Epoch 23/24\n",
            "----------\n",
            "train Loss: 0.0925 Acc: 0.9385\n",
            "val Loss: 0.4552 Acc: 0.9474\n",
            "\n",
            "Epoch 24/24\n",
            "----------\n",
            "train Loss: 0.1867 Acc: 0.9467\n",
            "val Loss: 0.4551 Acc: 0.9474\n",
            "\n",
            "Training complete in 1m 59s\n",
            "Best val Acc: 0.960526\n"
          ],
          "name": "stdout"
        }
      ]
    },
    {
      "cell_type": "code",
      "metadata": {
        "id": "6Pd3CByTassv",
        "colab_type": "code",
        "colab": {}
      },
      "source": [
        "torch.save(model_extractor.state_dict(), 'VGG16.pth')"
      ],
      "execution_count": 0,
      "outputs": []
    },
    {
      "cell_type": "code",
      "metadata": {
        "id": "gqxlG963assz",
        "colab_type": "code",
        "colab": {
          "base_uri": "https://localhost:8080/",
          "height": 34
        },
        "outputId": "a5293687-14ee-4561-9fbd-0dc5f8300ded"
      },
      "source": [
        "model_extractor.load_state_dict(torch.load('VGG16.pth'))"
      ],
      "execution_count": 40,
      "outputs": [
        {
          "output_type": "execute_result",
          "data": {
            "text/plain": [
              "IncompatibleKeys(missing_keys=[], unexpected_keys=[])"
            ]
          },
          "metadata": {
            "tags": []
          },
          "execution_count": 40
        }
      ]
    },
    {
      "cell_type": "code",
      "metadata": {
        "scrolled": true,
        "id": "5IdHZOL1ass6",
        "colab_type": "code",
        "colab": {
          "base_uri": "https://localhost:8080/",
          "height": 34
        },
        "outputId": "7e84f824-7b40-4368-bcf8-a4187cdb2513"
      },
      "source": [
        "print(\"Accuracy: {0:.4f}\".format(evaluate(model_extractor)))"
      ],
      "execution_count": 41,
      "outputs": [
        {
          "output_type": "stream",
          "text": [
            "Accuracy: 0.9474\n"
          ],
          "name": "stdout"
        }
      ]
    },
    {
      "cell_type": "markdown",
      "metadata": {
        "colab_type": "text",
        "id": "lw96OH0SZV7b"
      },
      "source": [
        "### Inception_v3"
      ]
    },
    {
      "cell_type": "code",
      "metadata": {
        "id": "kOu_o8msastC",
        "colab_type": "code",
        "colab": {}
      },
      "source": [
        "# Нужно поменять размер картинок на 299, иначе будет ошибка, так как размерность станет отрицательной.\n",
        "# Это вызвано тем, что нейросеть изначально обучалась на картинках размера 299.\n",
        "\n",
        "# Результирующий размер картинок определяется трансформациями\n",
        "data_transforms = {\n",
        "    'train': transforms.Compose([\n",
        "        transforms.RandomResizedCrop(299),\n",
        "        transforms.RandomHorizontalFlip(),\n",
        "        transforms.ToTensor(),\n",
        "        transforms.Normalize([0.485, 0.456, 0.406], [0.229, 0.224, 0.225])\n",
        "    ]),\n",
        "    'val': transforms.Compose([\n",
        "        transforms.Resize(299),\n",
        "        transforms.CenterCrop(299),\n",
        "        transforms.ToTensor(),\n",
        "        transforms.Normalize([0.485, 0.456, 0.406], [0.229, 0.224, 0.225])\n",
        "    ]),\n",
        "}\n",
        "\n",
        "# Сам объект датасета\n",
        "image_datasets = {x: datasets.ImageFolder(os.path.join(data_dir, x),\n",
        "                                          data_transforms[x])\n",
        "                  for x in ['train', 'val']}\n",
        "\n",
        "# специальный класс для загрузки данных в виде батчей\n",
        "dataloaders = {x: torch.utils.data.DataLoader(image_datasets[x], batch_size=4,\n",
        "                                              shuffle=True, num_workers=4)\n",
        "               for x in ['train', 'val']}"
      ],
      "execution_count": 0,
      "outputs": []
    },
    {
      "cell_type": "code",
      "metadata": {
        "scrolled": true,
        "id": "-EJsmacuastT",
        "colab_type": "code",
        "outputId": "7b18bba2-ee4f-436a-e8c7-a0388b998f17",
        "colab": {
          "base_uri": "https://localhost:8080/",
          "height": 2210
        }
      },
      "source": [
        "%%time\n",
        "model_extractor.aux_logits = False\n",
        "model_extractor, losses = train_model(model_extractor, loss_fn, optimizer, exp_lr_scheduler, num_epochs=25)"
      ],
      "execution_count": 43,
      "outputs": [
        {
          "output_type": "stream",
          "text": [
            "Epoch 0/24\n",
            "----------\n",
            "train Loss: 0.1012 Acc: 0.9385\n",
            "val Loss: 0.3990 Acc: 0.9342\n",
            "\n",
            "Epoch 1/24\n",
            "----------\n",
            "train Loss: 0.1976 Acc: 0.9303\n",
            "val Loss: 0.3987 Acc: 0.9342\n",
            "\n",
            "Epoch 2/24\n",
            "----------\n",
            "train Loss: 0.1312 Acc: 0.9303\n",
            "val Loss: 0.3986 Acc: 0.9342\n",
            "\n",
            "Epoch 3/24\n",
            "----------\n",
            "train Loss: 0.1557 Acc: 0.9344\n",
            "val Loss: 0.3986 Acc: 0.9342\n",
            "\n",
            "Epoch 4/24\n",
            "----------\n",
            "train Loss: 0.1113 Acc: 0.9508\n",
            "val Loss: 0.3986 Acc: 0.9342\n",
            "\n",
            "Epoch 5/24\n",
            "----------\n",
            "train Loss: 0.0555 Acc: 0.9631\n",
            "val Loss: 0.3986 Acc: 0.9342\n",
            "\n",
            "Epoch 6/24\n",
            "----------\n",
            "train Loss: 0.1287 Acc: 0.9590\n",
            "val Loss: 0.3986 Acc: 0.9342\n",
            "\n",
            "Epoch 7/24\n",
            "----------\n",
            "train Loss: 0.1626 Acc: 0.9385\n",
            "val Loss: 0.3986 Acc: 0.9342\n",
            "\n",
            "Epoch 8/24\n",
            "----------\n",
            "train Loss: 0.0970 Acc: 0.9467\n",
            "val Loss: 0.3986 Acc: 0.9342\n",
            "\n",
            "Epoch 9/24\n",
            "----------\n",
            "train Loss: 0.2256 Acc: 0.9262\n",
            "val Loss: 0.3986 Acc: 0.9342\n",
            "\n",
            "Epoch 10/24\n",
            "----------\n",
            "train Loss: 0.0892 Acc: 0.9549\n",
            "val Loss: 0.3986 Acc: 0.9342\n",
            "\n",
            "Epoch 11/24\n",
            "----------\n",
            "train Loss: 0.0892 Acc: 0.9672\n",
            "val Loss: 0.3986 Acc: 0.9342\n",
            "\n",
            "Epoch 12/24\n",
            "----------\n",
            "train Loss: 0.0698 Acc: 0.9713\n",
            "val Loss: 0.3986 Acc: 0.9342\n",
            "\n",
            "Epoch 13/24\n",
            "----------\n",
            "train Loss: 0.1075 Acc: 0.9303\n",
            "val Loss: 0.3986 Acc: 0.9342\n",
            "\n",
            "Epoch 14/24\n",
            "----------\n",
            "train Loss: 0.1233 Acc: 0.9344\n",
            "val Loss: 0.3986 Acc: 0.9342\n",
            "\n",
            "Epoch 15/24\n",
            "----------\n",
            "train Loss: 0.0830 Acc: 0.9508\n",
            "val Loss: 0.3986 Acc: 0.9342\n",
            "\n",
            "Epoch 16/24\n",
            "----------\n",
            "train Loss: 0.1332 Acc: 0.9385\n",
            "val Loss: 0.3986 Acc: 0.9342\n",
            "\n",
            "Epoch 17/24\n",
            "----------\n",
            "train Loss: 0.1073 Acc: 0.9549\n",
            "val Loss: 0.3986 Acc: 0.9342\n",
            "\n",
            "Epoch 18/24\n",
            "----------\n",
            "train Loss: 0.0706 Acc: 0.9672\n",
            "val Loss: 0.3986 Acc: 0.9342\n",
            "\n",
            "Epoch 19/24\n",
            "----------\n",
            "train Loss: 0.0949 Acc: 0.9549\n",
            "val Loss: 0.3986 Acc: 0.9342\n",
            "\n",
            "Epoch 20/24\n",
            "----------\n",
            "train Loss: 0.0600 Acc: 0.9672\n",
            "val Loss: 0.3986 Acc: 0.9342\n",
            "\n",
            "Epoch 21/24\n",
            "----------\n",
            "train Loss: 0.1148 Acc: 0.9549\n",
            "val Loss: 0.3986 Acc: 0.9342\n",
            "\n",
            "Epoch 22/24\n",
            "----------\n",
            "train Loss: 0.1655 Acc: 0.9344\n",
            "val Loss: 0.3986 Acc: 0.9342\n",
            "\n",
            "Epoch 23/24\n",
            "----------\n",
            "train Loss: 0.0661 Acc: 0.9549\n",
            "val Loss: 0.3986 Acc: 0.9342\n",
            "\n",
            "Epoch 24/24\n",
            "----------\n",
            "train Loss: 0.1267 Acc: 0.9549\n",
            "val Loss: 0.3986 Acc: 0.9342\n",
            "\n",
            "Training complete in 2m 44s\n",
            "Best val Acc: 0.934211\n",
            "CPU times: user 1min 11s, sys: 58.8 s, total: 2min 10s\n",
            "Wall time: 2min 44s\n"
          ],
          "name": "stdout"
        }
      ]
    },
    {
      "cell_type": "code",
      "metadata": {
        "id": "NsrRr2IKaste",
        "colab_type": "code",
        "colab": {}
      },
      "source": [
        "torch.save(model_extractor.state_dict(), 'Inceptionv3.pth')"
      ],
      "execution_count": 0,
      "outputs": []
    },
    {
      "cell_type": "code",
      "metadata": {
        "id": "OtUKn2Xaasti",
        "colab_type": "code",
        "colab": {
          "base_uri": "https://localhost:8080/",
          "height": 34
        },
        "outputId": "55a6d107-0534-46f6-9f5e-f6609799f099"
      },
      "source": [
        "model_extractor.load_state_dict(torch.load('Inceptionv3.pth'))"
      ],
      "execution_count": 45,
      "outputs": [
        {
          "output_type": "execute_result",
          "data": {
            "text/plain": [
              "IncompatibleKeys(missing_keys=[], unexpected_keys=[])"
            ]
          },
          "metadata": {
            "tags": []
          },
          "execution_count": 45
        }
      ]
    },
    {
      "cell_type": "code",
      "metadata": {
        "scrolled": true,
        "id": "UVXGtwukasto",
        "colab_type": "code",
        "colab": {
          "base_uri": "https://localhost:8080/",
          "height": 34
        },
        "outputId": "7861e365-9ea7-4205-f6cd-ba6ee6bfb057"
      },
      "source": [
        "print(\"Accuracy: {0:.4f}\".format(evaluate(model_extractor)))"
      ],
      "execution_count": 46,
      "outputs": [
        {
          "output_type": "stream",
          "text": [
            "Accuracy: 0.9342\n"
          ],
          "name": "stdout"
        }
      ]
    },
    {
      "cell_type": "markdown",
      "metadata": {
        "colab_type": "text",
        "id": "DK1TsMVZZV7h"
      },
      "source": [
        "**Вопрос:** Какая из сетей оказалась наилучшей? Как думаете, почему?"
      ]
    },
    {
      "cell_type": "markdown",
      "metadata": {
        "colab_type": "text",
        "id": "sRukNGePZV7j"
      },
      "source": [
        "**Ответ:** <Ваш ответ>"
      ]
    },
    {
      "cell_type": "markdown",
      "metadata": {
        "colab_type": "text",
        "id": "c57p6EIi6qv2"
      },
      "source": [
        "\n",
        "<h2 style=\"text-align: center;\"><b>Полезные ссылки</b></h3>"
      ]
    },
    {
      "cell_type": "markdown",
      "metadata": {
        "colab_type": "text",
        "id": "8CvOZffV6qv2"
      },
      "source": [
        "1). *cs231n: http://cs231n.github.io/transfer-learning/*\n",
        "\n",
        "2). *Туториал на PyTorch Tutorials: https://pytorch.org/tutorials/beginner/transfer_learning_tutorial*\n",
        "\n",
        "3). *Статья на Medium про TL в PyTorch: https://medium.com/@14prakash/almost-any-image-classification-problem-using-pytorch-i-am-in-love-with-pytorch-26c7aa979ec4*  "
      ]
    }
  ]
}