{
 "cells": [
  {
   "cell_type": "markdown",
   "metadata": {
    "colab_type": "text",
    "id": "j3bbZRkqF3S1"
   },
   "source": [
    "<p style=\"align: center;\"><img align=center src=\"https://s8.hostingkartinok.com/uploads/images/2018/08/308b49fcfbc619d629fe4604bceb67ac.jpg\" width=500 height=450/></p>\n",
    "\n",
    "<h3 style=\"text-align: center;\"><b>Физтех-Школа Прикладной математики и информатики (ФПМИ) МФТИ</b></h3>\n"
   ]
  },
  {
   "cell_type": "markdown",
   "metadata": {
    "colab_type": "text",
    "id": "ElNwf2J6GDHg"
   },
   "source": [
    "---"
   ]
  },
  {
   "cell_type": "markdown",
   "metadata": {
    "colab_type": "text",
    "id": "9zWJc5rl9kVh"
   },
   "source": [
    "## Домашнее задание 2: библиотека Numpy и линейная алгебра\n"
   ]
  },
  {
   "cell_type": "markdown",
   "metadata": {
    "colab_type": "text",
    "id": "nq2vjOfwWLwF"
   },
   "source": [
    "Импортируем библиотеки:"
   ]
  },
  {
   "cell_type": "code",
   "execution_count": 1,
   "metadata": {
    "colab": {},
    "colab_type": "code",
    "id": "R0mDEfRJ9kVi"
   },
   "outputs": [],
   "source": [
    "import numpy as np\n",
    "import pandas as pd\n",
    "import matplotlib.pyplot as plt\n",
    "\n",
    "from scipy import ndimage  # спецификатор для работы с изображениями\n",
    "from scipy import misc\n",
    "import scipy.stats as sps\n",
    "\n",
    "from PIL import Image\n",
    "\n",
    "%matplotlib inline"
   ]
  },
  {
   "cell_type": "markdown",
   "metadata": {
    "colab_type": "text",
    "id": "8t9loOAc9kVm"
   },
   "source": [
    "*Вопросы для самопроверки:*\n",
    "1. Что такое NumPy?\n",
    "2. Зачем используется и почему работает быстрее?\n",
    "3. Что такое линейная алгебра?\n",
    "4. Как она связана с машинным обучением и глубоким обучением?"
   ]
  },
  {
   "cell_type": "markdown",
   "metadata": {
    "colab_type": "text",
    "id": "ZexBy7Kb9kVm"
   },
   "source": [
    "### Задание 1"
   ]
  },
  {
   "cell_type": "markdown",
   "metadata": {
    "colab_type": "text",
    "id": "QuJhYgJU9kVn"
   },
   "source": [
    "В первой задаче вам предлагается перемножить две квадратные матрицы двумя способами -- без использования пакета numpy и с ним."
   ]
  },
  {
   "cell_type": "code",
   "execution_count": 5,
   "metadata": {
    "colab": {},
    "colab_type": "code",
    "id": "506uaq1E9kVn"
   },
   "outputs": [
    {
     "name": "stdout",
     "output_type": "stream",
     "text": [
      "2\n",
      "(10, 10)\n",
      "2\n",
      "(10, 10)\n",
      "[[0.92690463 0.83140077 0.15358583 0.56976713 0.32387974 0.49882691\n",
      "  0.73505974 0.33705274 0.55971283 0.56151833]\n",
      " [0.51943459 0.68712301 0.33509819 0.88025988 0.85037574 0.61096917\n",
      "  0.48001522 0.54707212 0.4838565  0.40490157]\n",
      " [0.51952202 0.71304721 0.71766025 0.26547693 0.32811768 0.94147626\n",
      "  0.18983427 0.66931548 0.71514819 0.51790942]\n",
      " [0.83657105 0.49633428 0.80802848 0.9348317  0.48043193 0.97007796\n",
      "  0.49402668 0.57317594 0.33505627 0.35741066]\n",
      " [0.12944837 0.34693849 0.11066736 0.15676334 0.78864318 0.77539778\n",
      "  0.42716827 0.83541838 0.89473481 0.31758428]\n",
      " [0.78435283 0.71193248 0.47411691 0.41886438 0.63163305 0.64192983\n",
      "  0.37475603 0.55708067 0.98143972 0.68947468]\n",
      " [0.96179543 0.70829404 0.52509093 0.59652117 0.04370591 0.34483653\n",
      "  0.16260485 0.72797283 0.0577212  0.82229014]\n",
      " [0.04899784 0.30575403 0.531393   0.05449057 0.33805463 0.41564955\n",
      "  0.32392931 0.21200049 0.22055316 0.86720012]\n",
      " [0.69688618 0.98783332 0.16537295 0.04862643 0.60874994 0.62146048\n",
      "  0.9955769  0.14221088 0.72553129 0.35715706]\n",
      " [0.47873053 0.87211988 0.7234349  0.51135964 0.48842269 0.61765924\n",
      "  0.46733001 0.8182457  0.54547569 0.73226817]]\n",
      "[[0.47827351 0.47668431 0.70732728 0.19516799 0.57897338 0.28409094\n",
      "  0.66849869 0.7542358  0.54905255 0.30756932]\n",
      " [0.88743233 0.34820066 0.36178309 0.76509965 0.69555086 0.97154866\n",
      "  0.32069673 0.85181757 0.82979021 0.08460911]\n",
      " [0.9311249  0.731564   0.58165041 0.57912083 0.65758089 0.80649144\n",
      "  0.91211386 0.33310926 0.288653   0.0230664 ]\n",
      " [0.24206069 0.53570093 0.51903768 0.29508306 0.97986778 0.43938259\n",
      "  0.32743355 0.65517136 0.49678745 0.423787  ]\n",
      " [0.14383076 0.00189858 0.14478216 0.7758783  0.3607239  0.67851326\n",
      "  0.2183267  0.34892413 0.02105518 0.47678359]\n",
      " [0.2672646  0.60671208 0.39080195 0.31516776 0.04142224 0.93025358\n",
      "  0.90041653 0.82320909 0.11057697 0.30222254]\n",
      " [0.87507489 0.32261884 0.45235146 0.62046339 0.16986347 0.90318236\n",
      "  0.92888436 0.5382204  0.48981579 0.30952276]\n",
      " [0.08587513 0.0694703  0.44892882 0.37649091 0.47227749 0.47110802\n",
      "  0.6586851  0.73504341 0.36439312 0.46194254]\n",
      " [0.36523784 0.69646634 0.11224797 0.91935651 0.00756527 0.66841239\n",
      "  0.28678531 0.03635738 0.84163748 0.2497396 ]\n",
      " [0.62335588 0.06620501 0.28204087 0.34208539 0.88844364 0.94932258\n",
      "  0.96275724 0.23864827 0.56038442 0.58004156]]\n"
     ]
    }
   ],
   "source": [
    "# Для генерации матриц используем фукнцию random -- она используется для генерации случайных объектов \n",
    "# функция sample создает случайную выборку. В качестве аргумента ей передается кортеж (i,j), здесь i -- число строк,\n",
    "# j -- число столбцов.\n",
    "a = np.random.sample((10,10))\n",
    "b = np.random.sample((10,10))\n",
    "# выведите размерность (ранг) каждой матрицы с помощью функции ndim.\n",
    "# Используйте функцию shape, что она вывела?\n",
    "# ========\n",
    "print(np.ndim(a))\n",
    "print(np.shape(a))\n",
    "print(np.ndim(b))\n",
    "print(np.shape(b))\n",
    "# ========\n",
    "print(a)\n",
    "print(b)"
   ]
  },
  {
   "cell_type": "code",
   "execution_count": 12,
   "metadata": {
    "colab": {},
    "colab_type": "code",
    "id": "OT01mk-C9kVq"
   },
   "outputs": [],
   "source": [
    "def mult(m1, m2):\n",
    "    s=0\n",
    "    t=[]\n",
    "    m3=[]\n",
    "    if len(m2)!=len(m1[0]):\n",
    "        print(\"Матрицы не могут быть перемножены\")        \n",
    "    else:\n",
    "        r1=len(m1) \n",
    "        c1=len(m1[0])  \n",
    "        r2=c1\n",
    "        c2=len(m2[0])\n",
    "        for z in range(0,r1):\n",
    "            for j in range(0,c2):\n",
    "                for i in range(0,c1):\n",
    "                   s=s+m1[z][i]*m2[i][j]\n",
    "                t.append(s)\n",
    "                s=0\n",
    "            m3.append(t)\n",
    "            t=[]           \n",
    "    return m3"
   ]
  },
  {
   "cell_type": "code",
   "execution_count": 13,
   "metadata": {
    "colab": {},
    "colab_type": "code",
    "id": "AyyDUyqh9kVs"
   },
   "outputs": [],
   "source": [
    "def np_mult(a, b):\n",
    "    return a * b"
   ]
  },
  {
   "cell_type": "code",
   "execution_count": 19,
   "metadata": {
    "colab": {},
    "colab_type": "code",
    "id": "bL4XGWIh9kVu"
   },
   "outputs": [
    {
     "name": "stdout",
     "output_type": "stream",
     "text": [
      "[[2.8685851390763317, 2.1397328117346195, 2.288325856147096, 2.7722231691841377, 2.6988738621822836, 3.858937395696706, 3.338694635527483, 3.1531383241208735, 2.856776839673074, 1.7543145007075485], [2.565051815020281, 2.1325251928561046, 2.2609276945885504, 3.0203996601103276, 2.896918450313475, 4.016581482699475, 3.2320719777327933, 3.239793539933343, 2.5434585665950307, 1.9457544474869284], [2.7202021378469086, 2.375096625764438, 2.2087891459810107, 2.8966201483121523, 2.500052069640057, 4.090680071506122, 3.5577605094374825, 3.0454881022387035, 2.55598070552172, 1.6371084288617357], [2.974303861065662, 2.7092079424871574, 2.7943668695981225, 2.9179323439094014, 3.165108931097694, 4.2901676544549385, 4.016519050939601, 3.6862877503815286, 2.6193378807083314, 1.9450240098880904], [1.8017599731800191, 1.6594168833136977, 1.5383005484563401, 2.768117095642376, 1.6152759771109395, 3.4673203975157803, 2.7298526768843994, 2.3985257978236296, 2.0157948940495944, 1.6743066513550888], [2.9762191143305445, 2.4724730695830255, 2.372088263900925, 3.3687470128778085, 2.872680166339647, 4.418105003361054, 3.698463696519284, 3.190623078529853, 3.049574267498226, 2.00344533244834], [2.5588002667695395, 1.8157677595237225, 2.3314409340911935, 2.061658736473121, 3.1117807030838383, 3.3064181336542724, 3.3031743465584222, 3.014562295444004, 2.457069825990768, 1.6237016438615948], [1.8852613457193992, 1.1308345956347865, 1.2050682376137953, 1.7408297042748206, 1.7102986587720217, 2.742630379476455, 2.4200953762428257, 1.5153865379562093, 1.4216600118602032, 1.1193755929400457], [3.0003863598645713, 2.0614173939855474, 1.99910581780214, 3.130560995367143, 2.0513712614859796, 4.0938009526240435, 3.2122782267418613, 2.9299999564644716, 2.706000035299647, 1.5626104534718754], [3.1705362318137427, 2.3467179662972866, 2.498925423958598, 3.254172236709333, 3.182855320758337, 4.5647452233246275, 3.924287024273557, 3.4064182126652747, 2.924479354218677, 1.957573806500156]]\n",
      "CPU times: user 4 ms, sys: 0 ns, total: 4 ms\n",
      "Wall time: 1.32 ms\n"
     ]
    }
   ],
   "source": [
    "%%time\n",
    "# засечем время работы функции без NumPy\n",
    "res = mult(a,b)\n",
    "print(res)"
   ]
  },
  {
   "cell_type": "code",
   "execution_count": 18,
   "metadata": {
    "colab": {},
    "colab_type": "code",
    "id": "Ej9y25jB9kVw"
   },
   "outputs": [
    {
     "name": "stdout",
     "output_type": "stream",
     "text": [
      "[[4.43313929e-01 3.96315705e-01 1.08635446e-01 1.11200307e-01\n",
      "  1.87517749e-01 1.41712204e-01 4.91386474e-01 2.54217243e-01\n",
      "  3.07311760e-01 1.72705808e-01]\n",
      " [4.60963055e-01 2.39256686e-01 1.21232857e-01 6.73486527e-01\n",
      "  5.91479577e-01 5.93586276e-01 1.53939313e-01 4.66005644e-01\n",
      "  4.01499382e-01 3.42583630e-02]\n",
      " [4.83739893e-01 5.21639669e-01 4.17427382e-01 1.53743219e-01\n",
      "  2.15763916e-01 7.59292544e-01 1.73150469e-01 2.22955182e-01\n",
      "  2.06429674e-01 1.19463077e-02]\n",
      " [2.02500969e-01 2.65886738e-01 4.19397227e-01 2.75852999e-01\n",
      "  4.70759765e-01 4.26235368e-01 1.61760908e-01 3.75528463e-01\n",
      "  1.66451751e-01 1.51465993e-01]\n",
      " [1.86186570e-02 6.58691839e-04 1.60226591e-02 1.21629274e-01\n",
      "  2.84482444e-01 5.26117674e-01 9.32622394e-02 2.91497630e-01\n",
      "  1.88388000e-02 1.51418971e-01]\n",
      " [2.09629743e-01 4.31938035e-01 1.85285812e-01 1.32012550e-01\n",
      "  2.61636529e-02 5.97157521e-01 3.37436522e-01 4.58593867e-01\n",
      "  1.08524627e-01 2.08374789e-01]\n",
      " [8.41643024e-01 2.28508998e-01 2.37525650e-01 3.70119547e-01\n",
      "  7.42403781e-03 3.11450276e-01 1.51041098e-01 3.91809831e-01\n",
      "  2.82727550e-02 2.54517513e-01]\n",
      " [4.20769604e-03 2.12408233e-02 2.38557632e-01 2.05152024e-02\n",
      "  1.59655590e-01 1.95815837e-01 2.13367408e-01 1.55829560e-01\n",
      "  8.03680522e-02 4.00596626e-01]\n",
      " [2.54529202e-01 6.87992663e-01 1.85627782e-02 4.47050239e-02\n",
      "  4.60535810e-03 4.15391886e-01 2.85516834e-01 5.17041550e-03\n",
      "  6.10634322e-01 8.91962597e-02]\n",
      " [2.98419491e-01 5.77387095e-02 2.04038210e-01 1.74928663e-01\n",
      "  4.33936035e-01 5.86357858e-01 4.49925346e-01 1.95272924e-01\n",
      "  3.05676077e-01 4.24745972e-01]]\n",
      "CPU times: user 4 ms, sys: 0 ns, total: 4 ms\n",
      "Wall time: 2.55 ms\n"
     ]
    }
   ],
   "source": [
    "%%time\n",
    "# засечем время работы функции с NumPy\n",
    "res = np_mult(a,b)\n",
    "print(res)"
   ]
  },
  {
   "cell_type": "markdown",
   "metadata": {
    "colab_type": "text",
    "id": "pNEVDEQJ9kVz"
   },
   "source": [
    "### Задание 2"
   ]
  },
  {
   "cell_type": "markdown",
   "metadata": {
    "colab_type": "text",
    "id": "TNG-vLX_9kVz"
   },
   "source": [
    "Напишите функцию, которая по данной последовательности $\\{A_i\\}_{i=1}^n$ строит последовательность $S_n$, где $S_k = \\frac{A_1 + ... + A_k}{k}$.\n",
    "Аналогично -- с помощью библиотеки NumPy и без нее. Сравните скорость, объясните результат."
   ]
  },
  {
   "cell_type": "code",
   "execution_count": 0,
   "metadata": {
    "colab": {},
    "colab_type": "code",
    "id": "VNuFOp519kV0"
   },
   "outputs": [],
   "source": [
    "# функция, решающая задачу с помощью NumPy\n",
    "def sec_av(A):\n",
    "    # Ваш код здесь\n",
    "    pass"
   ]
  },
  {
   "cell_type": "code",
   "execution_count": 0,
   "metadata": {
    "colab": {},
    "colab_type": "code",
    "id": "kgKYKkRR9kV2"
   },
   "outputs": [],
   "source": [
    "# функция без NumPy\n",
    "def stupid_sec_av(A):\n",
    "    S = [0 for i in range(len(A))]\n",
    "    for i in range(len(A)):\n",
    "        # Ваш код здесь\n",
    "    for i in range(len(A)):\n",
    "        # Ваш код здесь\n",
    "    return S\n",
    "\n",
    "# зададим некоторую последовательность и проверим ее на ваших функциях. \n",
    "# Первая функция должна работать ~ в 50 раз быстрее\n",
    "A = sps.uniform.rvs(size=10 ** 7) \n",
    "\n",
    "%time S1 = sec_av(A)\n",
    "%time S2 = stupid_sec_av(A)\n",
    "#проверим корректность:\n",
    "np.abs(S1 - S2).sum()"
   ]
  },
  {
   "cell_type": "markdown",
   "metadata": {
    "colab_type": "text",
    "id": "hYOmgppl9kV5"
   },
   "source": [
    "### Задание 3"
   ]
  },
  {
   "cell_type": "markdown",
   "metadata": {
    "colab_type": "text",
    "id": "TkrFKdoJ9kV5"
   },
   "source": [
    "Пусть задан некоторый массив $X$. Надо построить новый массив, где все элементы с нечетными индексами требуется заменить на число $a$ (если оно не указано, то на 1). Все четные элементы исходного массива нужно возвести в куб и записать в обратном порядке относительно позиций этих элементов. Массив $X$ при этом должен остаться без изменений. В конце требуется слить массив $X$ с преобразованным $X$ и вывести в обратном порядке."
   ]
  },
  {
   "cell_type": "code",
   "execution_count": 0,
   "metadata": {
    "colab": {},
    "colab_type": "code",
    "id": "MOUotbrS9kV7"
   },
   "outputs": [],
   "source": [
    "# функция, решающая задачу с помощью NumPy\n",
    "def transformation(X, a=1):\n",
    "    # Ваш код здесь\n",
    "    return Y"
   ]
  },
  {
   "cell_type": "code",
   "execution_count": 0,
   "metadata": {
    "colab": {},
    "colab_type": "code",
    "id": "Ut3v_joM9kV9"
   },
   "outputs": [],
   "source": [
    "# функция, решающая задачу  без NumPy\n",
    "def stupid_transformation(X):\n",
    "    # Ваш код здесь\n",
    "    return Y"
   ]
  },
  {
   "cell_type": "code",
   "execution_count": 0,
   "metadata": {
    "colab": {},
    "colab_type": "code",
    "id": "6SezU3-O9kV_"
   },
   "outputs": [],
   "source": [
    "X = sps.uniform.rvs(size=10 ** 7) \n",
    "# здесь код эффективнее примерно в 20 раз. \n",
    "# если Вы вдруг соберетесь печатать массив без np -- лучше сначала посмотрите на его размер\n",
    "%time S1 = transformation(X)\n",
    "%time S2 = stupid_transformation(X)\n",
    "# проверим корректность:\n",
    "np.abs(S1 - S2).sum()"
   ]
  },
  {
   "cell_type": "markdown",
   "metadata": {
    "colab_type": "text",
    "id": "q7eDK6zZ9kWC"
   },
   "source": [
    "Что вы можете сказать о скорости вычислений в `NumPy`? Ответ обоснуйте.\n",
    "\n",
    "**Ответ:**"
   ]
  },
  {
   "cell_type": "markdown",
   "metadata": {
    "colab_type": "text",
    "id": "SLWNN0DA9kWF"
   },
   "source": [
    "### Задание 4"
   ]
  },
  {
   "cell_type": "markdown",
   "metadata": {
    "colab_type": "text",
    "id": "k1tdLLo29kWG"
   },
   "source": [
    "Вам подаются на вход два вектора `a` и `b` в трехмерном пространстве.Заполните их случайными числами. Реализуйте их скалярное произведение с помощью  `NumPy` и без. Засеките время работы, как это показано в заданиях выше."
   ]
  },
  {
   "cell_type": "code",
   "execution_count": 0,
   "metadata": {
    "colab": {},
    "colab_type": "code",
    "id": "116WkBP49kWH"
   },
   "outputs": [],
   "source": [
    "a = #тут ваш код\n",
    "b = #тут ваш код"
   ]
  },
  {
   "cell_type": "code",
   "execution_count": 0,
   "metadata": {
    "colab": {},
    "colab_type": "code",
    "id": "6HKKpgD39kWL"
   },
   "outputs": [],
   "source": [
    "def stupid_scalar_product(a,b):\n",
    "    #тут ваш код"
   ]
  },
  {
   "cell_type": "code",
   "execution_count": 0,
   "metadata": {
    "colab": {},
    "colab_type": "code",
    "id": "lta984vp9kWP"
   },
   "outputs": [],
   "source": [
    "def numpy_scalar_product(a,b):\n",
    "    #тут ваш код"
   ]
  },
  {
   "cell_type": "code",
   "execution_count": 0,
   "metadata": {
    "colab": {},
    "colab_type": "code",
    "id": "5QK3Yj5j9kWR"
   },
   "outputs": [],
   "source": [
    "%time product_1 = stupid_scalar_product(a,b)\n",
    "%time product_2 = numpy_scalar_product(a,b)\n",
    "# проверим корректность:\n",
    "np.abs(product_1 - product_2).sum()"
   ]
  },
  {
   "cell_type": "markdown",
   "metadata": {
    "colab_type": "text",
    "id": "H7BjRjaOSPjv"
   },
   "source": [
    "### Задание 5*"
   ]
  },
  {
   "cell_type": "markdown",
   "metadata": {
    "colab_type": "text",
    "id": "yfDNm_8QSPx9"
   },
   "source": [
    "Нужно написать матричное произведение БЕЗ циклов и БЕЗ символа @, БЕЗ `np.dot` и вообще БЕЗ какой-либо вспомогательной функции из `numpy`, то есть пользуясь только индексированием, взятем суммы по нужным осям и поэлементным произведенем (да, это возможно). Рекомендуем гуглить по запросу \"NumPy broadcasting\""
   ]
  },
  {
   "cell_type": "code",
   "execution_count": 0,
   "metadata": {
    "colab": {},
    "colab_type": "code",
    "id": "odEvxgLiSP65"
   },
   "outputs": [],
   "source": [
    "def cool_matrix_product(A, B):\n",
    "    # Ваш код здесь"
   ]
  },
  {
   "cell_type": "code",
   "execution_count": 0,
   "metadata": {
    "colab": {},
    "colab_type": "code",
    "id": "4aO8bEs9SvJ8"
   },
   "outputs": [],
   "source": [
    "# тут проверьте, что всё правильно перемножается"
   ]
  },
  {
   "cell_type": "markdown",
   "metadata": {
    "colab_type": "text",
    "id": "KrJBnpIQSpVB"
   },
   "source": [
    "Ваш код не будет проверяться нами непосредственно, однако это очень и очень полезное упражнение."
   ]
  },
  {
   "cell_type": "markdown",
   "metadata": {
    "colab_type": "text",
    "id": "J_7dapMK9kWS"
   },
   "source": [
    "## Бонусная часть (в тесте вопросов по ней не будет)"
   ]
  },
  {
   "cell_type": "markdown",
   "metadata": {
    "colab_type": "text",
    "id": "Ld2wo7J49kWT"
   },
   "source": [
    "Image = 2-D численный массив\n",
    "(или 3-D: CT, MRI, 2D + time; 4-D, …)\n",
    "В текущем задании, image == Numpy array (np.array)"
   ]
  },
  {
   "cell_type": "code",
   "execution_count": 0,
   "metadata": {
    "colab": {},
    "colab_type": "code",
    "id": "4OvzTYbo9kWT"
   },
   "outputs": [],
   "source": [
    "pic = misc.face()  # встроенная в библиотеку функция, которая загружает картинку с енотом"
   ]
  },
  {
   "cell_type": "markdown",
   "metadata": {
    "colab_type": "text",
    "id": "7bfaJn7K9kWW"
   },
   "source": [
    "Выведите тип и размеры для переменной pic. Что лежит внутри?"
   ]
  },
  {
   "cell_type": "code",
   "execution_count": 0,
   "metadata": {
    "colab": {},
    "colab_type": "code",
    "id": "MLlpZY-P9kWW"
   },
   "outputs": [],
   "source": [
    "print(#тут ваш код)"
   ]
  },
  {
   "cell_type": "markdown",
   "metadata": {
    "colab_type": "text",
    "id": "x7SVBSJO9kWY"
   },
   "source": [
    "Если вы все сделали правильно, что для формы у вас выведется кортеж из трех чисел: (X, Y, 3). Предположите, откуда там 3?\n",
    "\n",
    "**Ответ:**"
   ]
  },
  {
   "cell_type": "markdown",
   "metadata": {
    "colab_type": "text",
    "id": "4glUbq3J9kWZ"
   },
   "source": [
    "С помощью функции ниже можно вывести изображение и посмотреть, что находится внутри:"
   ]
  },
  {
   "cell_type": "code",
   "execution_count": 0,
   "metadata": {
    "colab": {},
    "colab_type": "code",
    "id": "wW3QcdHH9kWZ"
   },
   "outputs": [],
   "source": [
    "plt.imshow(pic)"
   ]
  },
  {
   "cell_type": "markdown",
   "metadata": {
    "colab_type": "text",
    "id": "JZbV8aaV9kWb"
   },
   "source": [
    "Убедитесь, что внутри массива `pic` действительно лежат числа. Выведите первые 10 записей.\n",
    "Массив состоит из троек чисел, которые характеризуют глубину цвета для каждого пикселя. Из пикселей складывается картинка."
   ]
  },
  {
   "cell_type": "code",
   "execution_count": 0,
   "metadata": {
    "colab": {},
    "colab_type": "code",
    "id": "vnO9Nu3p9kWb"
   },
   "outputs": [],
   "source": [
    "print(#тут ваш код)"
   ]
  },
  {
   "cell_type": "markdown",
   "metadata": {
    "colab_type": "text",
    "id": "OzS_dpQ59kWc"
   },
   "source": [
    "Выведите значение максимального элемента в матрице. Выведите значение минимального. Выведите среднее по всем элементам матрице. В каких пределах лежат значения глубины цветов?"
   ]
  },
  {
   "cell_type": "code",
   "execution_count": 0,
   "metadata": {
    "colab": {},
    "colab_type": "code",
    "id": "8nLbvb7G9kWd"
   },
   "outputs": [],
   "source": [
    "print(#тут ваш код)"
   ]
  },
  {
   "cell_type": "markdown",
   "metadata": {
    "colab_type": "text",
    "id": "7s08AjBO9kWf"
   },
   "source": [
    "### Задание 2"
   ]
  },
  {
   "cell_type": "markdown",
   "metadata": {
    "colab_type": "text",
    "id": "pqnS54SN9kWf"
   },
   "source": [
    "Теперь загрузим черно-белое изображение енота, чтобы наш массив был не 3-х мерным тензором, а двумерным массивом. Тензоры обрабатываются точно также, но для простоты пока что давайте работать с двумерными массивами, т.е. матрицами."
   ]
  },
  {
   "cell_type": "code",
   "execution_count": 0,
   "metadata": {
    "colab": {},
    "colab_type": "code",
    "id": "B4WAhqU39kWf"
   },
   "outputs": [],
   "source": [
    "pic = misc.face(gray=True)"
   ]
  },
  {
   "cell_type": "code",
   "execution_count": 0,
   "metadata": {
    "colab": {},
    "colab_type": "code",
    "id": "AWuyI0k69kWh"
   },
   "outputs": [],
   "source": [
    "plt.imshow(#тут ваш код)"
   ]
  },
  {
   "cell_type": "markdown",
   "metadata": {
    "colab_type": "text",
    "id": "5wGZtJnX9kWk"
   },
   "source": [
    "Выведите форму (shape) полученной картинки `pic`. Какие выводы можно сделать? Положите в `h`,`w` высоту и ширину картинки."
   ]
  },
  {
   "cell_type": "code",
   "execution_count": 0,
   "metadata": {
    "colab": {},
    "colab_type": "code",
    "id": "3vVanBzU9kWk"
   },
   "outputs": [],
   "source": [
    "print(#тут ваш код)\n",
    "h,w=#тут ваш код"
   ]
  },
  {
   "cell_type": "markdown",
   "metadata": {
    "colab_type": "text",
    "id": "xelx9Hxc9kWl"
   },
   "source": [
    "Используя библиотеку `numpy`, отразите изображение по горизонтали. Выведите картинку.\n",
    "\n",
    "Подсказка: не забывайте, что изображения -- это просто двумерные массивы"
   ]
  },
  {
   "cell_type": "code",
   "execution_count": 0,
   "metadata": {
    "colab": {},
    "colab_type": "code",
    "id": "PuBAIYwW9kWn"
   },
   "outputs": [],
   "source": [
    "#тут ваш код"
   ]
  },
  {
   "cell_type": "markdown",
   "metadata": {
    "colab_type": "text",
    "id": "XExgeFAR9kWp"
   },
   "source": [
    "Теперь давайте повысим контрастность -- для этого к каждому пикселю прибавим 50 единиц"
   ]
  },
  {
   "cell_type": "code",
   "execution_count": 0,
   "metadata": {
    "colab": {},
    "colab_type": "code",
    "id": "HqPiifvL9kWp"
   },
   "outputs": [],
   "source": [
    "#тут ваш код"
   ]
  },
  {
   "cell_type": "code",
   "execution_count": 0,
   "metadata": {
    "colab": {},
    "colab_type": "code",
    "id": "8mjGfjTK9kWs"
   },
   "outputs": [],
   "source": [
    "plt.imshow(pic)"
   ]
  },
  {
   "cell_type": "markdown",
   "metadata": {
    "colab_type": "text",
    "id": "FPWOUsQH9kWu"
   },
   "source": [
    "Теперь давайте попробуем превратить наше одноканальное изображение в трехканальный (RGB) тензор. Для этого вместо каждого пикселя в одноканальном изображении (в двумерном массиве) поставим кортеж из трех элементов -- глубины красного, зеленого и голубого соотвественно. Восстановить по ч/б картинке цветной мы не можем, так как мы не можем взять утерянную информацию из ниоткуда, но можем усилить черные и белые участки. Для этого давайте заполним все три канала одинаковыми значениями, деленными на что-то очень большое. Например $--$ на $200$.  То есть, например, если в пикселе `pic[i][j]` лежало значение **200**, то для нового изображения `new_pic` мы заполняем `new_pic[i][j]` кортежем из трех чисел `int(pic[i][j]/3)`. Функция `int` $--$ округление до целой части."
   ]
  },
  {
   "cell_type": "code",
   "execution_count": 0,
   "metadata": {
    "colab": {},
    "colab_type": "code",
    "id": "hEK9jRSf9kWv"
   },
   "outputs": [],
   "source": [
    "new_pic = np.zeros((h,w,3)) #создадим пустую матрицу, куда будем записывать значения\n",
    "for i in range(h):\n",
    "    for j in range(w):\n",
    "     #тут ваш код"
   ]
  },
  {
   "cell_type": "code",
   "execution_count": 0,
   "metadata": {
    "colab": {},
    "colab_type": "code",
    "id": "_RUpiNo69kWx"
   },
   "outputs": [],
   "source": [
    "plt.imshow(#тут ваш код)"
   ]
  },
  {
   "cell_type": "markdown",
   "metadata": {
    "colab_type": "text",
    "id": "OVO189tU9kWz"
   },
   "source": [
    "### Задание 3"
   ]
  },
  {
   "cell_type": "markdown",
   "metadata": {
    "colab_type": "text",
    "id": "kacDftwY9kW0"
   },
   "source": [
    "Теперь давайте уменьшим качество картинки в 16 раз, путем уменьшения качества изображения, т.е. теперь 16 пикселей по близости надо заполнить одним значением."
   ]
  },
  {
   "cell_type": "code",
   "execution_count": 0,
   "metadata": {
    "colab": {},
    "colab_type": "code",
    "id": "s21pa_tJ9kW0"
   },
   "outputs": [],
   "source": [
    "from sklearn.datasets import load_sample_image #импорт загрузчика изображения"
   ]
  },
  {
   "cell_type": "code",
   "execution_count": 0,
   "metadata": {
    "colab": {},
    "colab_type": "code",
    "id": "yTt_fdLC9kW2"
   },
   "outputs": [],
   "source": [
    "china = load_sample_image('china.jpg')\n",
    "plt.imshow(china)"
   ]
  },
  {
   "cell_type": "markdown",
   "metadata": {
    "colab_type": "text",
    "id": "CV3st_wn9kW4"
   },
   "source": [
    "Запишите в переменные `h`, `w`, `c` высоту, ширину, количество каналов соответственно для картинки `china`."
   ]
  },
  {
   "cell_type": "code",
   "execution_count": 0,
   "metadata": {
    "colab": {},
    "colab_type": "code",
    "id": "nJHwDMmv9kW4"
   },
   "outputs": [],
   "source": [
    "h, w, c = #тут ваш код"
   ]
  },
  {
   "cell_type": "markdown",
   "metadata": {
    "colab_type": "text",
    "id": "xu3xAGDu9kW5"
   },
   "source": [
    "Теперь давайте непосредственно перейдем к изменению картинки $--$ мы предлагаем разбивать картинки на квадраты 4 на 4 и заполнять все 16 значений внутри квадрата левым верхним значением. Вы можете сделать иначе."
   ]
  },
  {
   "cell_type": "code",
   "execution_count": 0,
   "metadata": {
    "colab": {},
    "colab_type": "code",
    "id": "GisNhXFK9kW6"
   },
   "outputs": [],
   "source": [
    "from copy import copy\n",
    "compressed_pic = copy(china)\n",
    "#тут ваш код     "
   ]
  },
  {
   "cell_type": "markdown",
   "metadata": {
    "colab_type": "text",
    "id": "0Kzb067Y9kW8"
   },
   "source": [
    "Напишите функцию, которая считает несоотвествие между исходной и сжатой картинкой. Запустите ваш код для `compressed_pic`, `china`"
   ]
  },
  {
   "cell_type": "code",
   "execution_count": 0,
   "metadata": {
    "colab": {},
    "colab_type": "code",
    "id": "39qh8JuZ9kW9"
   },
   "outputs": [],
   "source": [
    "def calculate_mismatch(a,b):\n",
    "    mismatch=0\n",
    "    #тут ваш код\n",
    "    print(mismatch)"
   ]
  },
  {
   "cell_type": "code",
   "execution_count": 0,
   "metadata": {
    "colab": {},
    "colab_type": "code",
    "id": "kVYOFPMP9kW_"
   },
   "outputs": [],
   "source": [
    "calculate_mismatch(#тут ваш код)"
   ]
  },
  {
   "cell_type": "markdown",
   "metadata": {
    "colab_type": "text",
    "id": "SxQTJIGs9kXF"
   },
   "source": [
    "Посчитайте синус от каждого значения пикселей изображения `china` по всем каналам. Выведите картинку. Используйте функцию `np.sin` "
   ]
  },
  {
   "cell_type": "code",
   "execution_count": 0,
   "metadata": {
    "colab": {},
    "colab_type": "code",
    "id": "UsXNJxLm9kXF"
   },
   "outputs": [],
   "source": [
    "#тут ваш код"
   ]
  },
  {
   "cell_type": "code",
   "execution_count": 0,
   "metadata": {
    "colab": {},
    "colab_type": "code",
    "id": "v8K8YZ3-9kXH"
   },
   "outputs": [],
   "source": [
    "plt.imshow(#тут ваш код) "
   ]
  },
  {
   "cell_type": "markdown",
   "metadata": {
    "colab_type": "text",
    "id": "0oH0MRQL9kXJ"
   },
   "source": [
    "Посмотрите на полученный результат. Как вы думаете, что можно делать с помощью такого преобразования? Какого рода объекты можно распознать?"
   ]
  },
  {
   "cell_type": "markdown",
   "metadata": {
    "colab_type": "text",
    "id": "KNJq_gfL9kXN"
   },
   "source": [
    "### Задание 4*"
   ]
  },
  {
   "cell_type": "markdown",
   "metadata": {
    "colab_type": "text",
    "id": "4ht209199kXO"
   },
   "source": [
    "Теперь давайте поработаем с аудиофайлами. Стандартный аудиофайл представляет собой обычный набор чисел, в котором хранятся значения частот, снятых с определенной периодичностью. Итак, самая простая аудиодорожка $-$ одномерный массив.\n",
    "\n",
    "Первое, что нужно сделать $--$ установить библиотеку для работы с аудио. Она называется `librosa`. Гайд по установке: https://librosa.github.io/librosa/install.html\n"
   ]
  },
  {
   "cell_type": "code",
   "execution_count": 0,
   "metadata": {
    "colab": {},
    "colab_type": "code",
    "id": "nwg7Hn349kXP"
   },
   "outputs": [],
   "source": [
    "import librosa #импортируем библиотеку\n",
    "import IPython.display"
   ]
  },
  {
   "cell_type": "code",
   "execution_count": 0,
   "metadata": {
    "colab": {},
    "colab_type": "code",
    "id": "kbvx2c_L9kXQ"
   },
   "outputs": [],
   "source": [
    "audio, sr= librosa.load('Test.wav')  \n",
    "# записываем наш массив звуковых частот в файл аудио, sr -- число точек, записываемых в секунду. \n",
    "# чтобы файл открылся, он должен лежать в той же папке, что и файл HW_2.ipynb"
   ]
  },
  {
   "cell_type": "markdown",
   "metadata": {
    "colab_type": "text",
    "id": "w9Tipzz99kXS"
   },
   "source": [
    "Нашу дорожку можно воспроизвести в самом файле `.ipynb`:"
   ]
  },
  {
   "cell_type": "code",
   "execution_count": 0,
   "metadata": {
    "colab": {},
    "colab_type": "code",
    "id": "T2Rr5zTX9kXT"
   },
   "outputs": [],
   "source": [
    "IPython.display.Audio(audio, rate=sr)"
   ]
  },
  {
   "cell_type": "markdown",
   "metadata": {
    "colab_type": "text",
    "id": "QPRjmIoZ9kXW"
   },
   "source": [
    "Выведите тип данных переменной `audio`, найдите ее длительность и среднее."
   ]
  },
  {
   "cell_type": "code",
   "execution_count": 0,
   "metadata": {
    "colab": {},
    "colab_type": "code",
    "id": "ECc4dGk49kXW"
   },
   "outputs": [],
   "source": [
    "print(#тут ваш код)"
   ]
  },
  {
   "cell_type": "markdown",
   "metadata": {
    "colab_type": "text",
    "id": "574hvLOr9kXX"
   },
   "source": [
    "    Давайте посмотрим, как выглядит наша дорожка. Для этого используем библиотеку `matplotlib.pyplot`"
   ]
  },
  {
   "cell_type": "code",
   "execution_count": 0,
   "metadata": {
    "colab": {},
    "colab_type": "code",
    "id": "uW5eBW5Q9kXY"
   },
   "outputs": [],
   "source": [
    "plt.figure(figsize=(25,5))\n",
    "plt.title('Test.wav')\n",
    "plt.plot(audio)"
   ]
  },
  {
   "cell_type": "markdown",
   "metadata": {
    "colab_type": "text",
    "id": "uMboMRu89kXZ"
   },
   "source": [
    "Обрежьте последние 4 секунды файла"
   ]
  },
  {
   "cell_type": "code",
   "execution_count": 0,
   "metadata": {
    "colab": {},
    "colab_type": "code",
    "id": "4CcwvAnb9kXb"
   },
   "outputs": [],
   "source": [
    "audio = #тут ваш код"
   ]
  },
  {
   "cell_type": "markdown",
   "metadata": {
    "colab_type": "text",
    "id": "NQTEVqad9kXd"
   },
   "source": [
    "Давайте уменьшим амплитуду на 25%. Что при этом изменится? Напоминаю, что вы всегда можете послушать изменения при помощи `IPython.display.Audio`"
   ]
  },
  {
   "cell_type": "code",
   "execution_count": 0,
   "metadata": {
    "colab": {},
    "colab_type": "code",
    "id": "aYkN5Tbe9kXd"
   },
   "outputs": [],
   "source": [
    "audio = #тут ваш код"
   ]
  },
  {
   "cell_type": "markdown",
   "metadata": {
    "colab_type": "text",
    "id": "0mEQkKbc9kXf"
   },
   "source": [
    "А еще аудиодорожку можно ускорить. Для этого попробуйте потюнить параметр `rate`"
   ]
  },
  {
   "cell_type": "code",
   "execution_count": 0,
   "metadata": {
    "colab": {},
    "colab_type": "code",
    "id": "kCIh5VqX9kXg"
   },
   "outputs": [],
   "source": [
    "IPython.display.Audio(audio, rate=sr)"
   ]
  }
 ],
 "metadata": {
  "colab": {
   "collapsed_sections": [],
   "name": "[homework]numpy.ipynb",
   "provenance": [],
   "version": "0.3.2"
  },
  "kernelspec": {
   "display_name": "Python 3",
   "language": "python",
   "name": "python3"
  },
  "language_info": {
   "codemirror_mode": {
    "name": "ipython",
    "version": 3
   },
   "file_extension": ".py",
   "mimetype": "text/x-python",
   "name": "python",
   "nbconvert_exporter": "python",
   "pygments_lexer": "ipython3",
   "version": "3.7.1"
  }
 },
 "nbformat": 4,
 "nbformat_minor": 1
}
