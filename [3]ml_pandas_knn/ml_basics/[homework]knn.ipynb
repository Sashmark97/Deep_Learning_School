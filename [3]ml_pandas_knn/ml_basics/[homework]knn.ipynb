{
  "nbformat": 4,
  "nbformat_minor": 0,
  "metadata": {
    "colab": {
      "name": "[homework]knn.ipynb",
      "version": "0.3.2",
      "provenance": [],
      "collapsed_sections": [],
      "toc_visible": true
    },
    "kernelspec": {
      "name": "python3",
      "display_name": "Python 3"
    },
    "accelerator": "GPU"
  },
  "cells": [
    {
      "metadata": {
        "colab_type": "text",
        "id": "pgFYFftQKxY5"
      },
      "cell_type": "markdown",
      "source": [
        "<img src=\"https://s8.hostingkartinok.com/uploads/images/2018/08/308b49fcfbc619d629fe4604bceb67ac.jpg\" width=500, height=450>\n",
        "<h3 style=\"text-align: center;\"><b>Физтех-Школа Прикладной математики и информатики (ФПМИ) МФТИ</b></h3>"
      ]
    },
    {
      "metadata": {
        "colab_type": "text",
        "id": "3dvlDL37LaSp"
      },
      "cell_type": "markdown",
      "source": [
        "---"
      ]
    },
    {
      "metadata": {
        "colab_type": "text",
        "id": "v4RCHGZULaWz"
      },
      "cell_type": "markdown",
      "source": [
        "На основе [курса по Машинному Обучению ФИВТ МФТИ](https://github.com/ml-mipt/ml-mipt) и [Открытого курса по Машинному Обучению](https://habr.com/ru/company/ods/blog/322626/)."
      ]
    },
    {
      "metadata": {
        "colab_type": "text",
        "id": "F2acNQu1L94J"
      },
      "cell_type": "markdown",
      "source": [
        "---"
      ]
    },
    {
      "metadata": {
        "colab_type": "text",
        "id": "Twe_cnn5KxY6"
      },
      "cell_type": "markdown",
      "source": [
        "<h2 style=\"text-align: center;\"><b>k Nearest Neighbor(KNN)</b></h2>"
      ]
    },
    {
      "metadata": {
        "colab_type": "text",
        "id": "YD0NXyUYKxY7"
      },
      "cell_type": "markdown",
      "source": [
        "Метод ближайших соседей (k Nearest Neighbors, или kNN) — очень популярный метод классификации, также иногда используемый в задачах регрессии. Это один из самых понятных подходов к классификации. На уровне интуиции суть метода такова: посмотри на соседей, какие преобладают, таков и ты. Формально основой метода является гипотеза компактности: если метрика расстояния между примерами введена достаточно удачно, то схожие примеры гораздо чаще лежат в одном классе, чем в разных. "
      ]
    },
    {
      "metadata": {
        "colab_type": "text",
        "id": "CTa2jNZkKxY8"
      },
      "cell_type": "markdown",
      "source": [
        "<img src='https://hsto.org/web/68d/a45/6f0/68da456f00f8434e87628dbe7e3f54a7.png' width=600>"
      ]
    },
    {
      "metadata": {
        "colab_type": "text",
        "id": "5H7wPU0IKxY-"
      },
      "cell_type": "markdown",
      "source": [
        "\n",
        "Для классификации каждого из объектов тестовой выборки необходимо последовательно выполнить следующие операции:\n",
        "\n",
        "* Вычислить расстояние до каждого из объектов обучающей выборки\n",
        "* Отобрать объектов обучающей выборки, расстояние до которых минимально\n",
        "* Класс классифицируемого объекта — это класс, наиболее часто встречающийся среди $k$ ближайших соседей"
      ]
    },
    {
      "metadata": {
        "colab_type": "text",
        "id": "T2docs4225pb"
      },
      "cell_type": "markdown",
      "source": [
        "Будем работать с подвыборкой из [данных о типе лесного покрытия из репозитория UCI](http://archive.ics.uci.edu/ml/datasets/Covertype). Доступно 7 различных классов. Каждый объект описывается 54 признаками, 40 из которых являются бинарными. Описание данных доступно по ссылке, а так же в файле `covtype.info.txt`."
      ]
    },
    {
      "metadata": {
        "colab_type": "text",
        "id": "AcjJQX3wKxZA"
      },
      "cell_type": "markdown",
      "source": [
        "### Обработка данных"
      ]
    },
    {
      "metadata": {
        "colab_type": "code",
        "id": "Ozcx5mVOKxZB",
        "colab": {}
      },
      "cell_type": "code",
      "source": [
        "import pandas as pd"
      ],
      "execution_count": 0,
      "outputs": []
    },
    {
      "metadata": {
        "colab_type": "text",
        "id": "Ry4bMKaUjHJj"
      },
      "cell_type": "markdown",
      "source": [
        "ССылка на датасет (лежит в в папке): https://drive.google.com/open?id=1-Z4NlDy11BzSwW13k8EgodRis0uRy1K6"
      ]
    },
    {
      "metadata": {
        "colab_type": "code",
        "id": "rvPrVRvK25pc",
        "colab": {
          "base_uri": "https://localhost:8080/",
          "height": 233
        },
        "outputId": "3a2cdd49-1220-40d3-f9d0-853935c90bef"
      },
      "cell_type": "code",
      "source": [
        "all_data = pd.read_csv('forest_dataset.csv',)\n",
        "all_data.head()"
      ],
      "execution_count": 3,
      "outputs": [
        {
          "output_type": "execute_result",
          "data": {
            "text/html": [
              "<div>\n",
              "<style scoped>\n",
              "    .dataframe tbody tr th:only-of-type {\n",
              "        vertical-align: middle;\n",
              "    }\n",
              "\n",
              "    .dataframe tbody tr th {\n",
              "        vertical-align: top;\n",
              "    }\n",
              "\n",
              "    .dataframe thead th {\n",
              "        text-align: right;\n",
              "    }\n",
              "</style>\n",
              "<table border=\"1\" class=\"dataframe\">\n",
              "  <thead>\n",
              "    <tr style=\"text-align: right;\">\n",
              "      <th></th>\n",
              "      <th>0</th>\n",
              "      <th>1</th>\n",
              "      <th>2</th>\n",
              "      <th>3</th>\n",
              "      <th>4</th>\n",
              "      <th>5</th>\n",
              "      <th>6</th>\n",
              "      <th>7</th>\n",
              "      <th>8</th>\n",
              "      <th>9</th>\n",
              "      <th>...</th>\n",
              "      <th>45</th>\n",
              "      <th>46</th>\n",
              "      <th>47</th>\n",
              "      <th>48</th>\n",
              "      <th>49</th>\n",
              "      <th>50</th>\n",
              "      <th>51</th>\n",
              "      <th>52</th>\n",
              "      <th>53</th>\n",
              "      <th>54</th>\n",
              "    </tr>\n",
              "  </thead>\n",
              "  <tbody>\n",
              "    <tr>\n",
              "      <th>0</th>\n",
              "      <td>2683</td>\n",
              "      <td>333</td>\n",
              "      <td>35</td>\n",
              "      <td>30</td>\n",
              "      <td>26</td>\n",
              "      <td>2743</td>\n",
              "      <td>121</td>\n",
              "      <td>173</td>\n",
              "      <td>179</td>\n",
              "      <td>6572</td>\n",
              "      <td>...</td>\n",
              "      <td>0</td>\n",
              "      <td>0</td>\n",
              "      <td>0</td>\n",
              "      <td>0</td>\n",
              "      <td>0</td>\n",
              "      <td>0</td>\n",
              "      <td>0</td>\n",
              "      <td>0</td>\n",
              "      <td>0</td>\n",
              "      <td>2</td>\n",
              "    </tr>\n",
              "    <tr>\n",
              "      <th>1</th>\n",
              "      <td>2915</td>\n",
              "      <td>90</td>\n",
              "      <td>8</td>\n",
              "      <td>216</td>\n",
              "      <td>11</td>\n",
              "      <td>4433</td>\n",
              "      <td>232</td>\n",
              "      <td>228</td>\n",
              "      <td>129</td>\n",
              "      <td>4019</td>\n",
              "      <td>...</td>\n",
              "      <td>0</td>\n",
              "      <td>0</td>\n",
              "      <td>0</td>\n",
              "      <td>0</td>\n",
              "      <td>0</td>\n",
              "      <td>0</td>\n",
              "      <td>0</td>\n",
              "      <td>0</td>\n",
              "      <td>0</td>\n",
              "      <td>1</td>\n",
              "    </tr>\n",
              "    <tr>\n",
              "      <th>2</th>\n",
              "      <td>2941</td>\n",
              "      <td>162</td>\n",
              "      <td>7</td>\n",
              "      <td>698</td>\n",
              "      <td>76</td>\n",
              "      <td>2783</td>\n",
              "      <td>227</td>\n",
              "      <td>242</td>\n",
              "      <td>148</td>\n",
              "      <td>1784</td>\n",
              "      <td>...</td>\n",
              "      <td>0</td>\n",
              "      <td>0</td>\n",
              "      <td>0</td>\n",
              "      <td>0</td>\n",
              "      <td>0</td>\n",
              "      <td>0</td>\n",
              "      <td>0</td>\n",
              "      <td>0</td>\n",
              "      <td>0</td>\n",
              "      <td>2</td>\n",
              "    </tr>\n",
              "    <tr>\n",
              "      <th>3</th>\n",
              "      <td>3096</td>\n",
              "      <td>60</td>\n",
              "      <td>17</td>\n",
              "      <td>170</td>\n",
              "      <td>3</td>\n",
              "      <td>3303</td>\n",
              "      <td>231</td>\n",
              "      <td>202</td>\n",
              "      <td>99</td>\n",
              "      <td>5370</td>\n",
              "      <td>...</td>\n",
              "      <td>0</td>\n",
              "      <td>0</td>\n",
              "      <td>0</td>\n",
              "      <td>0</td>\n",
              "      <td>0</td>\n",
              "      <td>0</td>\n",
              "      <td>0</td>\n",
              "      <td>0</td>\n",
              "      <td>0</td>\n",
              "      <td>1</td>\n",
              "    </tr>\n",
              "    <tr>\n",
              "      <th>4</th>\n",
              "      <td>2999</td>\n",
              "      <td>66</td>\n",
              "      <td>8</td>\n",
              "      <td>488</td>\n",
              "      <td>37</td>\n",
              "      <td>1532</td>\n",
              "      <td>228</td>\n",
              "      <td>225</td>\n",
              "      <td>131</td>\n",
              "      <td>2290</td>\n",
              "      <td>...</td>\n",
              "      <td>0</td>\n",
              "      <td>0</td>\n",
              "      <td>0</td>\n",
              "      <td>0</td>\n",
              "      <td>0</td>\n",
              "      <td>0</td>\n",
              "      <td>0</td>\n",
              "      <td>0</td>\n",
              "      <td>0</td>\n",
              "      <td>2</td>\n",
              "    </tr>\n",
              "  </tbody>\n",
              "</table>\n",
              "<p>5 rows × 55 columns</p>\n",
              "</div>"
            ],
            "text/plain": [
              "      0    1   2    3   4     5    6    7    8     9 ...  45  46  47  48  49  \\\n",
              "0  2683  333  35   30  26  2743  121  173  179  6572 ...   0   0   0   0   0   \n",
              "1  2915   90   8  216  11  4433  232  228  129  4019 ...   0   0   0   0   0   \n",
              "2  2941  162   7  698  76  2783  227  242  148  1784 ...   0   0   0   0   0   \n",
              "3  3096   60  17  170   3  3303  231  202   99  5370 ...   0   0   0   0   0   \n",
              "4  2999   66   8  488  37  1532  228  225  131  2290 ...   0   0   0   0   0   \n",
              "\n",
              "   50  51  52  53  54  \n",
              "0   0   0   0   0   2  \n",
              "1   0   0   0   0   1  \n",
              "2   0   0   0   0   2  \n",
              "3   0   0   0   0   1  \n",
              "4   0   0   0   0   2  \n",
              "\n",
              "[5 rows x 55 columns]"
            ]
          },
          "metadata": {
            "tags": []
          },
          "execution_count": 3
        }
      ]
    },
    {
      "metadata": {
        "colab_type": "code",
        "id": "_o8yXBPSKxZI",
        "colab": {
          "base_uri": "https://localhost:8080/",
          "height": 34
        },
        "outputId": "18fbbe8e-ab40-41f1-e937-c30632165026"
      },
      "cell_type": "code",
      "source": [
        "all_data.shape"
      ],
      "execution_count": 4,
      "outputs": [
        {
          "output_type": "execute_result",
          "data": {
            "text/plain": [
              "(10000, 55)"
            ]
          },
          "metadata": {
            "tags": []
          },
          "execution_count": 4
        }
      ]
    },
    {
      "metadata": {
        "id": "EC5SmnWo63eY",
        "colab_type": "code",
        "colab": {
          "base_uri": "https://localhost:8080/",
          "height": 346
        },
        "outputId": "7f5af7ef-49c8-48ec-d783-a3355d5ec20a"
      },
      "cell_type": "code",
      "source": [
        "all_data.describe()"
      ],
      "execution_count": 5,
      "outputs": [
        {
          "output_type": "execute_result",
          "data": {
            "text/html": [
              "<div>\n",
              "<style scoped>\n",
              "    .dataframe tbody tr th:only-of-type {\n",
              "        vertical-align: middle;\n",
              "    }\n",
              "\n",
              "    .dataframe tbody tr th {\n",
              "        vertical-align: top;\n",
              "    }\n",
              "\n",
              "    .dataframe thead th {\n",
              "        text-align: right;\n",
              "    }\n",
              "</style>\n",
              "<table border=\"1\" class=\"dataframe\">\n",
              "  <thead>\n",
              "    <tr style=\"text-align: right;\">\n",
              "      <th></th>\n",
              "      <th>0</th>\n",
              "      <th>1</th>\n",
              "      <th>2</th>\n",
              "      <th>3</th>\n",
              "      <th>4</th>\n",
              "      <th>5</th>\n",
              "      <th>6</th>\n",
              "      <th>7</th>\n",
              "      <th>8</th>\n",
              "      <th>9</th>\n",
              "      <th>...</th>\n",
              "      <th>45</th>\n",
              "      <th>46</th>\n",
              "      <th>47</th>\n",
              "      <th>48</th>\n",
              "      <th>49</th>\n",
              "      <th>50</th>\n",
              "      <th>51</th>\n",
              "      <th>52</th>\n",
              "      <th>53</th>\n",
              "      <th>54</th>\n",
              "    </tr>\n",
              "  </thead>\n",
              "  <tbody>\n",
              "    <tr>\n",
              "      <th>count</th>\n",
              "      <td>10000.000000</td>\n",
              "      <td>10000.000000</td>\n",
              "      <td>10000.00000</td>\n",
              "      <td>10000.000000</td>\n",
              "      <td>10000.000000</td>\n",
              "      <td>10000.000000</td>\n",
              "      <td>10000.000000</td>\n",
              "      <td>10000.000000</td>\n",
              "      <td>10000.000000</td>\n",
              "      <td>10000.000000</td>\n",
              "      <td>...</td>\n",
              "      <td>10000.000000</td>\n",
              "      <td>10000.000000</td>\n",
              "      <td>10000.000000</td>\n",
              "      <td>10000.000000</td>\n",
              "      <td>10000.000000</td>\n",
              "      <td>10000.000000</td>\n",
              "      <td>10000.000000</td>\n",
              "      <td>10000.00000</td>\n",
              "      <td>10000.000000</td>\n",
              "      <td>10000.000000</td>\n",
              "    </tr>\n",
              "    <tr>\n",
              "      <th>mean</th>\n",
              "      <td>2960.645900</td>\n",
              "      <td>154.127600</td>\n",
              "      <td>13.98120</td>\n",
              "      <td>269.502800</td>\n",
              "      <td>45.596800</td>\n",
              "      <td>2358.805400</td>\n",
              "      <td>212.382200</td>\n",
              "      <td>223.886000</td>\n",
              "      <td>142.892300</td>\n",
              "      <td>1982.005000</td>\n",
              "      <td>...</td>\n",
              "      <td>0.092300</td>\n",
              "      <td>0.078300</td>\n",
              "      <td>0.002000</td>\n",
              "      <td>0.002900</td>\n",
              "      <td>0.000300</td>\n",
              "      <td>0.000500</td>\n",
              "      <td>0.024000</td>\n",
              "      <td>0.02130</td>\n",
              "      <td>0.012300</td>\n",
              "      <td>2.034100</td>\n",
              "    </tr>\n",
              "    <tr>\n",
              "      <th>std</th>\n",
              "      <td>276.101899</td>\n",
              "      <td>111.112044</td>\n",
              "      <td>7.44313</td>\n",
              "      <td>214.741609</td>\n",
              "      <td>57.607363</td>\n",
              "      <td>1564.814207</td>\n",
              "      <td>26.560675</td>\n",
              "      <td>19.443395</td>\n",
              "      <td>37.460182</td>\n",
              "      <td>1307.685368</td>\n",
              "      <td>...</td>\n",
              "      <td>0.289463</td>\n",
              "      <td>0.268657</td>\n",
              "      <td>0.044679</td>\n",
              "      <td>0.053776</td>\n",
              "      <td>0.017319</td>\n",
              "      <td>0.022356</td>\n",
              "      <td>0.153057</td>\n",
              "      <td>0.14439</td>\n",
              "      <td>0.110227</td>\n",
              "      <td>1.378016</td>\n",
              "    </tr>\n",
              "    <tr>\n",
              "      <th>min</th>\n",
              "      <td>1866.000000</td>\n",
              "      <td>0.000000</td>\n",
              "      <td>0.00000</td>\n",
              "      <td>0.000000</td>\n",
              "      <td>-147.000000</td>\n",
              "      <td>0.000000</td>\n",
              "      <td>70.000000</td>\n",
              "      <td>88.000000</td>\n",
              "      <td>0.000000</td>\n",
              "      <td>0.000000</td>\n",
              "      <td>...</td>\n",
              "      <td>0.000000</td>\n",
              "      <td>0.000000</td>\n",
              "      <td>0.000000</td>\n",
              "      <td>0.000000</td>\n",
              "      <td>0.000000</td>\n",
              "      <td>0.000000</td>\n",
              "      <td>0.000000</td>\n",
              "      <td>0.00000</td>\n",
              "      <td>0.000000</td>\n",
              "      <td>1.000000</td>\n",
              "    </tr>\n",
              "    <tr>\n",
              "      <th>25%</th>\n",
              "      <td>2819.000000</td>\n",
              "      <td>57.000000</td>\n",
              "      <td>9.00000</td>\n",
              "      <td>108.000000</td>\n",
              "      <td>6.000000</td>\n",
              "      <td>1106.750000</td>\n",
              "      <td>199.000000</td>\n",
              "      <td>213.000000</td>\n",
              "      <td>120.000000</td>\n",
              "      <td>1041.000000</td>\n",
              "      <td>...</td>\n",
              "      <td>0.000000</td>\n",
              "      <td>0.000000</td>\n",
              "      <td>0.000000</td>\n",
              "      <td>0.000000</td>\n",
              "      <td>0.000000</td>\n",
              "      <td>0.000000</td>\n",
              "      <td>0.000000</td>\n",
              "      <td>0.00000</td>\n",
              "      <td>0.000000</td>\n",
              "      <td>1.000000</td>\n",
              "    </tr>\n",
              "    <tr>\n",
              "      <th>50%</th>\n",
              "      <td>2996.000000</td>\n",
              "      <td>128.000000</td>\n",
              "      <td>13.00000</td>\n",
              "      <td>218.000000</td>\n",
              "      <td>29.000000</td>\n",
              "      <td>2008.000000</td>\n",
              "      <td>218.000000</td>\n",
              "      <td>227.000000</td>\n",
              "      <td>143.000000</td>\n",
              "      <td>1719.000000</td>\n",
              "      <td>...</td>\n",
              "      <td>0.000000</td>\n",
              "      <td>0.000000</td>\n",
              "      <td>0.000000</td>\n",
              "      <td>0.000000</td>\n",
              "      <td>0.000000</td>\n",
              "      <td>0.000000</td>\n",
              "      <td>0.000000</td>\n",
              "      <td>0.00000</td>\n",
              "      <td>0.000000</td>\n",
              "      <td>2.000000</td>\n",
              "    </tr>\n",
              "    <tr>\n",
              "      <th>75%</th>\n",
              "      <td>3162.000000</td>\n",
              "      <td>254.000000</td>\n",
              "      <td>18.00000</td>\n",
              "      <td>390.000000</td>\n",
              "      <td>68.000000</td>\n",
              "      <td>3330.250000</td>\n",
              "      <td>231.000000</td>\n",
              "      <td>238.000000</td>\n",
              "      <td>167.000000</td>\n",
              "      <td>2542.250000</td>\n",
              "      <td>...</td>\n",
              "      <td>0.000000</td>\n",
              "      <td>0.000000</td>\n",
              "      <td>0.000000</td>\n",
              "      <td>0.000000</td>\n",
              "      <td>0.000000</td>\n",
              "      <td>0.000000</td>\n",
              "      <td>0.000000</td>\n",
              "      <td>0.00000</td>\n",
              "      <td>0.000000</td>\n",
              "      <td>2.000000</td>\n",
              "    </tr>\n",
              "    <tr>\n",
              "      <th>max</th>\n",
              "      <td>3846.000000</td>\n",
              "      <td>359.000000</td>\n",
              "      <td>57.00000</td>\n",
              "      <td>1370.000000</td>\n",
              "      <td>573.000000</td>\n",
              "      <td>7023.000000</td>\n",
              "      <td>254.000000</td>\n",
              "      <td>254.000000</td>\n",
              "      <td>247.000000</td>\n",
              "      <td>7080.000000</td>\n",
              "      <td>...</td>\n",
              "      <td>1.000000</td>\n",
              "      <td>1.000000</td>\n",
              "      <td>1.000000</td>\n",
              "      <td>1.000000</td>\n",
              "      <td>1.000000</td>\n",
              "      <td>1.000000</td>\n",
              "      <td>1.000000</td>\n",
              "      <td>1.00000</td>\n",
              "      <td>1.000000</td>\n",
              "      <td>7.000000</td>\n",
              "    </tr>\n",
              "  </tbody>\n",
              "</table>\n",
              "<p>8 rows × 55 columns</p>\n",
              "</div>"
            ],
            "text/plain": [
              "                  0             1            2             3             4  \\\n",
              "count  10000.000000  10000.000000  10000.00000  10000.000000  10000.000000   \n",
              "mean    2960.645900    154.127600     13.98120    269.502800     45.596800   \n",
              "std      276.101899    111.112044      7.44313    214.741609     57.607363   \n",
              "min     1866.000000      0.000000      0.00000      0.000000   -147.000000   \n",
              "25%     2819.000000     57.000000      9.00000    108.000000      6.000000   \n",
              "50%     2996.000000    128.000000     13.00000    218.000000     29.000000   \n",
              "75%     3162.000000    254.000000     18.00000    390.000000     68.000000   \n",
              "max     3846.000000    359.000000     57.00000   1370.000000    573.000000   \n",
              "\n",
              "                  5             6             7             8             9  \\\n",
              "count  10000.000000  10000.000000  10000.000000  10000.000000  10000.000000   \n",
              "mean    2358.805400    212.382200    223.886000    142.892300   1982.005000   \n",
              "std     1564.814207     26.560675     19.443395     37.460182   1307.685368   \n",
              "min        0.000000     70.000000     88.000000      0.000000      0.000000   \n",
              "25%     1106.750000    199.000000    213.000000    120.000000   1041.000000   \n",
              "50%     2008.000000    218.000000    227.000000    143.000000   1719.000000   \n",
              "75%     3330.250000    231.000000    238.000000    167.000000   2542.250000   \n",
              "max     7023.000000    254.000000    254.000000    247.000000   7080.000000   \n",
              "\n",
              "           ...                 45            46            47            48  \\\n",
              "count      ...       10000.000000  10000.000000  10000.000000  10000.000000   \n",
              "mean       ...           0.092300      0.078300      0.002000      0.002900   \n",
              "std        ...           0.289463      0.268657      0.044679      0.053776   \n",
              "min        ...           0.000000      0.000000      0.000000      0.000000   \n",
              "25%        ...           0.000000      0.000000      0.000000      0.000000   \n",
              "50%        ...           0.000000      0.000000      0.000000      0.000000   \n",
              "75%        ...           0.000000      0.000000      0.000000      0.000000   \n",
              "max        ...           1.000000      1.000000      1.000000      1.000000   \n",
              "\n",
              "                 49            50            51           52            53  \\\n",
              "count  10000.000000  10000.000000  10000.000000  10000.00000  10000.000000   \n",
              "mean       0.000300      0.000500      0.024000      0.02130      0.012300   \n",
              "std        0.017319      0.022356      0.153057      0.14439      0.110227   \n",
              "min        0.000000      0.000000      0.000000      0.00000      0.000000   \n",
              "25%        0.000000      0.000000      0.000000      0.00000      0.000000   \n",
              "50%        0.000000      0.000000      0.000000      0.00000      0.000000   \n",
              "75%        0.000000      0.000000      0.000000      0.00000      0.000000   \n",
              "max        1.000000      1.000000      1.000000      1.00000      1.000000   \n",
              "\n",
              "                 54  \n",
              "count  10000.000000  \n",
              "mean       2.034100  \n",
              "std        1.378016  \n",
              "min        1.000000  \n",
              "25%        1.000000  \n",
              "50%        2.000000  \n",
              "75%        2.000000  \n",
              "max        7.000000  \n",
              "\n",
              "[8 rows x 55 columns]"
            ]
          },
          "metadata": {
            "tags": []
          },
          "execution_count": 5
        }
      ]
    },
    {
      "metadata": {
        "colab_type": "text",
        "id": "itCWxHEY25pg"
      },
      "cell_type": "markdown",
      "source": [
        "Выделим значения метки класса в переменную `labels`, признаковые описания в переменную `feature_matrix`. Так как данные числовые и не имеют пропусков, переведем их в `numpy`-формат с помощью метода `.values`."
      ]
    },
    {
      "metadata": {
        "colab_type": "code",
        "id": "f_YIUOuV25ph",
        "colab": {
          "base_uri": "https://localhost:8080/",
          "height": 136
        },
        "outputId": "3e1dd468-e5c0-4b17-aaf3-890cc2f7851a"
      },
      "cell_type": "code",
      "source": [
        "labels = all_data[all_data.columns[-1]].values\n",
        "feature_matrix = all_data[all_data.columns[:-1]].values\n",
        "print(feature_matrix)"
      ],
      "execution_count": 6,
      "outputs": [
        {
          "output_type": "stream",
          "text": [
            "[[2683  333   35 ...    0    0    0]\n",
            " [2915   90    8 ...    0    0    0]\n",
            " [2941  162    7 ...    0    0    0]\n",
            " ...\n",
            " [2693   21   11 ...    0    0    0]\n",
            " [2536   42   11 ...    0    0    0]\n",
            " [3109  261   10 ...    0    0    0]]\n"
          ],
          "name": "stdout"
        }
      ]
    },
    {
      "metadata": {
        "colab_type": "text",
        "id": "BGn7U05I25pw"
      },
      "cell_type": "markdown",
      "source": [
        "Сейчас будем работать со всеми 7 типами покрытия (данные уже находятся в переменных `feature_matrix` и `labels`, если Вы их не переопределили). Разделите выборку на обучающую и тестовую с помощью метода `train_test_split`, используйте значения параметров `test_size=0.2`, `random_state=42`. Обучите логистическую регрессию  на данном датасете."
      ]
    },
    {
      "metadata": {
        "colab_type": "code",
        "id": "Q030jzyY25pl",
        "colab": {}
      },
      "cell_type": "code",
      "source": [
        "from sklearn.model_selection import train_test_split\n",
        "from sklearn.preprocessing import StandardScaler"
      ],
      "execution_count": 0,
      "outputs": []
    },
    {
      "metadata": {
        "colab_type": "code",
        "id": "YJN0jFARKxZX",
        "colab": {
          "base_uri": "https://localhost:8080/",
          "height": 173
        },
        "outputId": "973d6a24-530c-4d66-b874-ae57794e5a3b"
      },
      "cell_type": "code",
      "source": [
        "train_feature_matrix, test_feature_matrix, train_labels, test_labels = train_test_split(feature_matrix, labels, test_size = 0.2, random_state = 42)\n",
        "\n",
        "# нормируйте данные по параметрам нормировки для train_feature_matrix\n",
        "scaler = StandardScaler()\n",
        "\n",
        "train_feature_matrix = scaler.fit_transform(train_feature_matrix)\n",
        "test_feature_matrix = scaler.fit_transform(test_feature_matrix)\n"
      ],
      "execution_count": 8,
      "outputs": [
        {
          "output_type": "stream",
          "text": [
            "/usr/local/lib/python3.6/dist-packages/sklearn/utils/validation.py:595: DataConversionWarning: Data with input dtype int64 was converted to float64 by StandardScaler.\n",
            "  warnings.warn(msg, DataConversionWarning)\n",
            "/usr/local/lib/python3.6/dist-packages/sklearn/utils/validation.py:595: DataConversionWarning: Data with input dtype int64 was converted to float64 by StandardScaler.\n",
            "  warnings.warn(msg, DataConversionWarning)\n",
            "/usr/local/lib/python3.6/dist-packages/sklearn/utils/validation.py:595: DataConversionWarning: Data with input dtype int64 was converted to float64 by StandardScaler.\n",
            "  warnings.warn(msg, DataConversionWarning)\n",
            "/usr/local/lib/python3.6/dist-packages/sklearn/utils/validation.py:595: DataConversionWarning: Data with input dtype int64 was converted to float64 by StandardScaler.\n",
            "  warnings.warn(msg, DataConversionWarning)\n"
          ],
          "name": "stderr"
        }
      ]
    },
    {
      "metadata": {
        "colab_type": "text",
        "id": "z8W__017KxZc"
      },
      "cell_type": "markdown",
      "source": [
        "### Обучение модели"
      ]
    },
    {
      "metadata": {
        "colab_type": "text",
        "id": "02uT6CPYKxZe"
      },
      "cell_type": "markdown",
      "source": [
        "Качество классификации/регрессии методом ближайших соседей зависит от нескольких параметров:\n",
        "\n",
        "* число соседей `n_neighbors`\n",
        "* метрика расстояния между объектами `metric`\n",
        "* веса соседей (соседи тестового примера могут входить с разными весами, например, чем дальше пример, тем с меньшим коэффициентом учитывается его \"голос\") `weights`\n"
      ]
    },
    {
      "metadata": {
        "colab_type": "text",
        "id": "BHVNCaJ325qD"
      },
      "cell_type": "markdown",
      "source": [
        "Обучите на датасете `KNeighborsClassifier` из `sklearn`."
      ]
    },
    {
      "metadata": {
        "colab_type": "code",
        "id": "o4CMnnOY25qD",
        "colab": {
          "base_uri": "https://localhost:8080/",
          "height": 34
        },
        "outputId": "efb7b91f-d3b0-43a5-8528-33ad88801a07"
      },
      "cell_type": "code",
      "source": [
        "\n",
        "from sklearn.neighbors import KNeighborsClassifier\n",
        "from sklearn.metrics import accuracy_score\n",
        "\n",
        "clf = KNeighborsClassifier()\n",
        "clf.fit(train_feature_matrix, train_labels)\n",
        "pred_labels = clf.predict(test_feature_matrix)\n",
        "accuracy_score(test_labels, pred_labels)"
      ],
      "execution_count": 12,
      "outputs": [
        {
          "output_type": "execute_result",
          "data": {
            "text/plain": [
              "0.732"
            ]
          },
          "metadata": {
            "tags": []
          },
          "execution_count": 12
        }
      ]
    },
    {
      "metadata": {
        "colab_type": "text",
        "id": "r_2Mf8BiKxZk"
      },
      "cell_type": "markdown",
      "source": [
        "### Вопрос 1:\n",
        "* Какое качество у вас получилось?"
      ]
    },
    {
      "metadata": {
        "colab_type": "text",
        "id": "uFTIaPdrKxZl"
      },
      "cell_type": "markdown",
      "source": [
        "Подбирем параметры нашей модели"
      ]
    },
    {
      "metadata": {
        "colab_type": "text",
        "id": "8WzoRJZd25qF"
      },
      "cell_type": "markdown",
      "source": [
        "* Переберите по сетке от `1` до `10` параметр числа соседей\n",
        "\n",
        "* Также вы попробуйте использоввать различные метрики: `['manhattan', 'euclidean']`\n",
        "\n",
        "* Попробуйте использовать различные стратегии вычисления весов: `[‘uniform’, ‘distance’]`"
      ]
    },
    {
      "metadata": {
        "colab_type": "code",
        "id": "4lMSy-6f25qG",
        "scrolled": true,
        "colab": {
          "base_uri": "https://localhost:8080/",
          "height": 51
        },
        "outputId": "d5d086c0-b79e-4f7a-d85e-c326a4d0fadc"
      },
      "cell_type": "code",
      "source": [
        "%%time\n",
        "from sklearn.model_selection import GridSearchCV\n",
        "params = {'weights': ['uniform', 'distance'], 'n_neighbors': [*range(1, 11)], 'metric': ['manhattan', 'euclidean']}\n",
        "#print(params)\n",
        "clf_grid = GridSearchCV(clf, params, cv=5, scoring='accuracy', n_jobs=-1)\n",
        "clf_grid.fit(train_feature_matrix, train_labels)"
      ],
      "execution_count": 13,
      "outputs": [
        {
          "output_type": "stream",
          "text": [
            "CPU times: user 882 ms, sys: 68 ms, total: 950 ms\n",
            "Wall time: 12min 46s\n"
          ],
          "name": "stdout"
        }
      ]
    },
    {
      "metadata": {
        "colab_type": "text",
        "id": "SO7E6G8jKxZp"
      },
      "cell_type": "markdown",
      "source": [
        "Выведем лучшие параметры"
      ]
    },
    {
      "metadata": {
        "colab_type": "code",
        "id": "md48pHrMKxZq",
        "colab": {
          "base_uri": "https://localhost:8080/",
          "height": 34
        },
        "outputId": "4700fff9-cc23-4d2a-e34d-0e39fa1854b9"
      },
      "cell_type": "code",
      "source": [
        "clf_grid.best_params_"
      ],
      "execution_count": 14,
      "outputs": [
        {
          "output_type": "execute_result",
          "data": {
            "text/plain": [
              "{'metric': 'manhattan', 'n_neighbors': 4, 'weights': 'distance'}"
            ]
          },
          "metadata": {
            "tags": []
          },
          "execution_count": 14
        }
      ]
    },
    {
      "metadata": {
        "colab_type": "text",
        "id": "M05n9l8pKxZt"
      },
      "cell_type": "markdown",
      "source": [
        "### Вопрос 2:\n",
        "* Какую metric следует использовать?"
      ]
    },
    {
      "metadata": {
        "colab_type": "text",
        "id": "Pmjx38OoKxZt"
      },
      "cell_type": "markdown",
      "source": [
        "### Вопрос 3:\n",
        "* Сколько n_neighbors следует использовать?"
      ]
    },
    {
      "metadata": {
        "colab_type": "text",
        "id": "eqLeJUP8KxZu"
      },
      "cell_type": "markdown",
      "source": [
        "### Вопрос 4:\n",
        "* Какой тип weights следует использовать?"
      ]
    },
    {
      "metadata": {
        "colab_type": "text",
        "id": "aBmiDbvV25qI"
      },
      "cell_type": "markdown",
      "source": [
        "Используя найденное оптимальное число соседей, вычислите вероятности принадлежности к классам для тестовой выборки (`.predict_proba`)."
      ]
    },
    {
      "metadata": {
        "colab_type": "code",
        "id": "ig_vS8O925qI",
        "colab": {
          "base_uri": "https://localhost:8080/",
          "height": 136
        },
        "outputId": "5f82a722-bc49-4ee0-989b-47387364be04"
      },
      "cell_type": "code",
      "source": [
        "optimal_clf = KNeighborsClassifier(n_neighbors = 4)\n",
        "optimal_clf.fit(train_feature_matrix, train_labels)\n",
        "pred_prob = optimal_clf.predict_proba(test_feature_matrix)\n",
        "print(pred_prob)"
      ],
      "execution_count": 18,
      "outputs": [
        {
          "output_type": "stream",
          "text": [
            "[[0.   1.   0.   ... 0.   0.   0.  ]\n",
            " [0.25 0.75 0.   ... 0.   0.   0.  ]\n",
            " [0.75 0.25 0.   ... 0.   0.   0.  ]\n",
            " ...\n",
            " [1.   0.   0.   ... 0.   0.   0.  ]\n",
            " [0.25 0.75 0.   ... 0.   0.   0.  ]\n",
            " [0.5  0.25 0.   ... 0.   0.   0.25]]\n"
          ],
          "name": "stdout"
        }
      ]
    },
    {
      "metadata": {
        "colab_type": "code",
        "id": "2kkapT38KxZz",
        "colab": {
          "base_uri": "https://localhost:8080/",
          "height": 517
        },
        "outputId": "88bc73ef-0532-4265-916d-d72618af414f"
      },
      "cell_type": "code",
      "source": [
        "import matplotlib.pyplot as plt\n",
        "import numpy as np\n",
        "\n",
        "unique, freq = np.unique(test_labels, return_counts=True)\n",
        "freq = list(map(lambda x: x / len(test_labels),freq))\n",
        "\n",
        "pred_freq = pred_prob.mean(axis=0)\n",
        "print(pred_freq)\n",
        "print(freq)\n",
        "plt.figure(figsize=(10, 8))\n",
        "plt.bar(range(1, 8), pred_freq, width=0.4, align=\"edge\", label='prediction')\n",
        "plt.bar(range(1, 8), freq, width=-0.4, align=\"edge\", label='real')\n",
        "plt.legend()\n",
        "plt.show()"
      ],
      "execution_count": 20,
      "outputs": [
        {
          "output_type": "stream",
          "text": [
            "[0.365   0.49575 0.05825 0.00525 0.0175  0.02725 0.031  ]\n",
            "[0.368, 0.4865, 0.0555, 0.0055, 0.0165, 0.028, 0.04]\n"
          ],
          "name": "stdout"
        },
        {
          "output_type": "display_data",
          "data": {
            "image/png": "[encoded data removed]",
            "text/plain": [
              "<Figure size 720x576 with 1 Axes>"
            ]
          },
          "metadata": {
            "tags": []
          }
        }
      ]
    },
    {
      "metadata": {
        "colab_type": "text",
        "id": "gp4uDyLmKxZ3"
      },
      "cell_type": "markdown",
      "source": [
        "### Вопрос 5:\n",
        "* Какая прогнозируемая вероятность pred_freq класса под номером 3(до 2 знаков после запятой)?"
      ]
    }
  ]
}