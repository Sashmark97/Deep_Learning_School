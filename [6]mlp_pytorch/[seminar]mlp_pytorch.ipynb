{
 "cells": [
  {
   "cell_type": "markdown",
   "metadata": {
    "colab_type": "text",
    "id": "aaSoSTVpYJcu"
   },
   "source": [
    "<img src=\"https://s8.hostingkartinok.com/uploads/images/2018/08/308b49fcfbc619d629fe4604bceb67ac.jpg\" width=500,>\n",
    "<h3 style=\"text-align: center;\"><b>Физтех-Школа Прикладной математики и информатики (ФПМИ) МФТИ</b></h3>"
   ]
  },
  {
   "cell_type": "markdown",
   "metadata": {
    "colab_type": "text",
    "id": "GpZt9IYkYJcw"
   },
   "source": [
    "---"
   ]
  },
  {
   "cell_type": "markdown",
   "metadata": {
    "colab_type": "text",
    "id": "s4wplUzDYJcx"
   },
   "source": [
    "<h2 style=\"text-align: center;\"><b>Многослойная сеть на PyTorch</b></h3>"
   ]
  },
  {
   "cell_type": "markdown",
   "metadata": {
    "colab_type": "text",
    "id": "J2msuyHTYJcx"
   },
   "source": [
    "В этом ноутбке мы научимся писать свои нейросети на фреймворке PyTorch, конкретно - рассмотрим, как написать многослойную полносвязную сеть (Fully-Connected, FC), и сравним их качество на датасете картинок MNIST."
   ]
  },
  {
   "cell_type": "markdown",
   "metadata": {
    "colab_type": "text",
    "id": "9xJnMEZrYJcz"
   },
   "source": [
    "<h3 style=\"text-align: center;\"><b>Компоненты нейросети</b></h3>"
   ]
  },
  {
   "cell_type": "markdown",
   "metadata": {
    "colab_type": "text",
    "id": "InwacmvIYJc0"
   },
   "source": [
    "Здесь самое время напомнить о том, какие вещи играют принципиальную роль в построении любой ***нейронной сети*** (все их мы задаём *руками*, самостоятельно):  \n",
    "\n",
    "- непосредственно, сама **архитектура** нейросети (сюда входят типы функций активации у каждого нейрона);\n",
    "- начальная **инициализация** весов каждого слоя;\n",
    "- метод **оптимизации** нейросети (сюда ещё входит метод изменения `learning_rate`);\n",
    "- размер **батчей** (`batch_size`);\n",
    "- количество итераций обучения (`num_epochs`);\n",
    "- **функция потерь** (`loss`);  \n",
    "- тип **регуляризации** нейросети (для каждого слоя можно свой);  \n",
    "\n",
    "То, что связано с ***данными и задачей***:  \n",
    "- само **качество** выборки (непротиворечивость, чистота, корректность постановки задачи);  \n",
    "- **размер** выборки;  "
   ]
  },
  {
   "cell_type": "markdown",
   "metadata": {
    "colab_type": "text",
    "id": "tXujEOB0YJc1"
   },
   "source": [
    "<h3 style=\"text-align: center;\"><b>Многослойная нейронная сеть</b></h3>"
   ]
  },
  {
   "cell_type": "markdown",
   "metadata": {
    "colab_type": "text",
    "id": "mnxH-DajYJc3"
   },
   "source": [
    "Как можно понять из названия, многослойная нейросеть состоит из нескольких **слоёв**. Каждый слой состоит из **нейронов**. Ранее мы уже писали свой нейрон на NumPy, вот из таких нейронов и состоит ***MLP (Multi-Layer Perceptron)***. Ещё такую многослойную нейросеть, у которой каждый нейрон на предыдущем уровне соединён с нейроном на следующем уровне, называют ***Fully-Connected-сетью*** (или ***Dense-сетью***).  \n",
    "\n",
    "Расмотрим их устройство более подробно:"
   ]
  },
  {
   "cell_type": "markdown",
   "metadata": {
    "colab_type": "text",
    "id": "onjJUneMYJc5"
   },
   "source": [
    "* Вот так выглядит двухслойная нейросеть (первый слой - input layer - не считается, потому что это, по сути, не слой):"
   ]
  },
  {
   "cell_type": "markdown",
   "metadata": {
    "colab_type": "text",
    "id": "owRRulLzYJc6"
   },
   "source": [
    "<img src=\"http://cs231n.github.io/assets/nn1/neural_net.jpeg\" width=300, height=200>"
   ]
  },
  {
   "cell_type": "markdown",
   "metadata": {
    "colab_type": "text",
    "id": "tFNxGGBEYJc8"
   },
   "source": [
    "* Так выглядит трёхслойная нейросеть:"
   ]
  },
  {
   "cell_type": "markdown",
   "metadata": {
    "colab_type": "text",
    "id": "zRaKX35eYJc9"
   },
   "source": [
    "<img src=\"http://cs231n.github.io/assets/nn1/neural_net2.jpeg\" width=400>"
   ]
  },
  {
   "cell_type": "markdown",
   "metadata": {
    "colab_type": "text",
    "id": "6w1FTkO1YJc-"
   },
   "source": [
    ".. и так далее для большего случая слоёв."
   ]
  },
  {
   "cell_type": "markdown",
   "metadata": {
    "colab_type": "text",
    "id": "8iKV7m5YYJc_"
   },
   "source": [
    "**Обратите внимание:** связи есть у нейронов со слоя $L_{i-1}$  и нейронов $L_{i}$, но между нейронами в одном слое связей **нет**."
   ]
  },
  {
   "cell_type": "markdown",
   "metadata": {
    "colab_type": "text",
    "id": "URV9qWkfYJdA"
   },
   "source": [
    "**Входной слой** -- это данные (матрица $(n, m)$)."
   ]
  },
  {
   "cell_type": "markdown",
   "metadata": {
    "colab_type": "text",
    "id": "zK8tWuHHYJdB"
   },
   "source": [
    "Слои, которые не являются входными или выходными, называются **скрытыми слоями (hidden layers)**."
   ]
  },
  {
   "cell_type": "markdown",
   "metadata": {
    "colab_type": "text",
    "id": "fz9clUlCYJdC"
   },
   "source": [
    "При решении ***задачи регрессии*** на **выходном слое** обычно один нейрон, который возвращает предсказанные числа (для каждого объекта по числу).  \n",
    "\n",
    "В случае ***задачи классификации*** на **выходном слое** обычно один нейрон, если задача бинарной классификации, и $K$ нейронов, если задача $K$-класовой классификации."
   ]
  },
  {
   "cell_type": "markdown",
   "metadata": {
    "colab_type": "text",
    "id": "nJblXqY5YJdE"
   },
   "source": [
    "#### Forward pass в MLP"
   ]
  },
  {
   "cell_type": "markdown",
   "metadata": {
    "colab_type": "text",
    "id": "D87xoAl8YJdF"
   },
   "source": [
    "Каждый слой многослойной нейросети - это матрица весов, строки которой - это нейроны (одна строка - один нейрон), а столбцы - веса каждого нейрона (то есть одна строка - это веса одного нейрона)."
   ]
  },
  {
   "cell_type": "markdown",
   "metadata": {
    "colab_type": "text",
    "collapsed": true,
    "id": "RyXUqCfVYJdG"
   },
   "source": [
    "Допустим, мы решаем задачу $K$-классовой классификации (на последнем слое $K$ нейронов). Рассмотрим, как в таком случае выглядит `forward_pass` нейросети:"
   ]
  },
  {
   "cell_type": "markdown",
   "metadata": {
    "colab_type": "text",
    "id": "YO6gHbOjYJdH"
   },
   "source": [
    "* Вход: $$X =\n",
    "\\left(\n",
    "\\begin{matrix} \n",
    "x_{11} & ... & x_{1M} \\\\\n",
    "... & \\ddots  & ...\\\\\n",
    "x_{N1} & ... & x_{NM} \n",
    "\\end{matrix}\n",
    "\\right)\n",
    "$$\n",
    "\n",
    "-- матрица $(N, M)$"
   ]
  },
  {
   "cell_type": "markdown",
   "metadata": {
    "colab_type": "text",
    "collapsed": true,
    "id": "XdImZiQkYJdI"
   },
   "source": [
    "* Структура сети - много слоёв, в слоях много нейронов. Первый слой (после входного) выглядит так:"
   ]
  },
  {
   "cell_type": "markdown",
   "metadata": {
    "colab_type": "text",
    "id": "U2c2M4MJYJdJ"
   },
   "source": [
    "$$ W^1 =\n",
    "\\left(\n",
    "\\begin{matrix} \n",
    "w_{11} & ... & w_{1L_1} \\\\\n",
    "... & \\ddots  & ...\\\\\n",
    "w_{M1} & ... & w_{ML_1} \n",
    "\\end{matrix}\n",
    "\\right)\n",
    "$$\n",
    "\n",
    "-- матрица $(M, L_1)$"
   ]
  },
  {
   "cell_type": "markdown",
   "metadata": {
    "colab_type": "text",
    "id": "UUCdeLN0YJdK"
   },
   "source": [
    "То есть это в точности $L_1$ нейронов, каждый имеет свои собственные веса, их $M$ штук."
   ]
  },
  {
   "cell_type": "markdown",
   "metadata": {
    "colab_type": "text",
    "id": "ixHtlMwKYJdL"
   },
   "source": [
    "Мы помним, что нейрон - это линейное преобразование и потом нелинейная функция активации от этого преобразования. Однако в многослойных нейростеях часто отделяют `Linear` часть и `Activation`, то есть слоем считаем набор весов нейронов, а следующий слой всегда функция активации (у всех нейронов из слоя она одна и та же, обычно фреймворки не позволяют задавать конкретному нейрону в слое отличную от других нейронов в этом слое функцию активации, однако это легко сделать, объявив слой из одного нейрона)."
   ]
  },
  {
   "cell_type": "markdown",
   "metadata": {
    "colab_type": "text",
    "id": "AUt1NgTvYJdN"
   },
   "source": [
    "* Другие слои выглядит точно так же, как первый слой. Например, у второй слой будет такой:"
   ]
  },
  {
   "cell_type": "markdown",
   "metadata": {
    "colab_type": "text",
    "id": "IdtSTvTmYJdN"
   },
   "source": [
    "$$ W^2 =\n",
    "\\left(\n",
    "\\begin{matrix} \n",
    "w_{11} & ... & w_{1L_2} \\\\\n",
    "... & \\ddots  & ...\\\\\n",
    "w_{L_11} & ... & w_{L_1L_2} \n",
    "\\end{matrix}\n",
    "\\right)\n",
    "$$\n",
    "\n",
    "-- матрица $(L_1, L_2)$"
   ]
  },
  {
   "cell_type": "markdown",
   "metadata": {
    "colab_type": "text",
    "id": "R3nGnHoLYJdP"
   },
   "source": [
    "То есть это в точности $L_2$ нейронов, каждый имеет свои собственные веса, их $L_1$ штук."
   ]
  },
  {
   "cell_type": "markdown",
   "metadata": {
    "colab_type": "text",
    "id": "bQhOAQjSYJdR"
   },
   "source": [
    "* Выходной слой:  \n",
    "\n",
    "Пусть в нейросети до выходного слоя идут $t$ слоёв. Тогда выходной слой имеет форму:"
   ]
  },
  {
   "cell_type": "markdown",
   "metadata": {
    "colab_type": "text",
    "id": "fWvqm-K0YJdT"
   },
   "source": [
    "$$ W^{out} =\n",
    "\\left(\n",
    "\\begin{matrix} \n",
    "w_{11} & ... & w_{1K} \\\\\n",
    "... & \\ddots  & ...\\\\\n",
    "w_{L_t1} & ... & w_{L_tK} \n",
    "\\end{matrix}\n",
    "\\right)\n",
    "$$\n",
    "\n",
    "-- матрица $(L_t, K)$, где $L_t$ - количество нейронов в $t$-ом слое, а $K$ -- количество классов."
   ]
  },
  {
   "cell_type": "markdown",
   "metadata": {
    "colab_type": "text",
    "id": "2z5tO89NYJdU"
   },
   "source": [
    "В итоге ***для `forward_pass` нам нужно просто последовтельно перемножить матрицы друг за другом, применяя после каждого умножения соответсвующую функцию активации***."
   ]
  },
  {
   "cell_type": "markdown",
   "metadata": {
    "colab_type": "text",
    "id": "IZT4GgsCYJdV"
   },
   "source": [
    "*Примечание*: можно думать об умножении на очередную матрицу весов как на переход в **новое признаковое пространство**. Действительно, когда подаём матрицу $X$ и умножаем на матрицу первого слоя, мы получаем матрицу размера $(N, L_1)$, то есть как будто $L_1$ \"новых\" признаков (построенных как линейная комбинация старых до применения функции активации, и уже как нелинейная комбинация после активации)."
   ]
  },
  {
   "cell_type": "markdown",
   "metadata": {
    "colab_type": "text",
    "id": "4RhJ4fsHYJdW"
   },
   "source": [
    "**Backward pass в MLP**"
   ]
  },
  {
   "cell_type": "markdown",
   "metadata": {
    "colab_type": "text",
    "id": "MYN043DbYJdX"
   },
   "source": [
    "Обучается с помощью метода \"Error Backpropagation\" - [\"Обратное распространение ошибки\"](https://ru.wikipedia.org/wiki/%D0%9C%D0%B5%D1%82%D0%BE%D0%B4_%D0%BE%D0%B1%D1%80%D0%B0%D1%82%D0%BD%D0%BE%D0%B3%D0%BE_%D1%80%D0%B0%D1%81%D0%BF%D1%80%D0%BE%D1%81%D1%82%D1%80%D0%B0%D0%BD%D0%B5%D0%BD%D0%B8%D1%8F_%D0%BE%D1%88%D0%B8%D0%B1%D0%BA%D0%B8), принцип распространения очень похож на то, как мы обучали один нейрон - это градиентный спуск, но по \"всей нейросети\" сразу.  "
   ]
  },
  {
   "cell_type": "markdown",
   "metadata": {
    "colab_type": "text",
    "collapsed": true,
    "id": "oK7Vi4bxYJdZ"
   },
   "source": [
    "Backpropagation работает корректно благодаря ***chain rule*** (=правилу взятия производной сложной функции):  \n",
    "\n",
    "Если $f(x) = f(g(x))$, то:  \n",
    "\n",
    "$$\\frac{\\partial{f}}{\\partial{x}} = \\frac{\\partial{f}}{\\partial{g}} \\frac{\\partial{g}}{\\partial{x}}$$"
   ]
  },
  {
   "cell_type": "markdown",
   "metadata": {
    "colab_type": "text",
    "collapsed": true,
    "id": "WKvMsaEBYJda"
   },
   "source": [
    "Более подробно про backpropagation можно прочитать здесь (на английском):  https://mattmazur.com/2015/03/17/a-step-by-step-backpropagation-example/"
   ]
  },
  {
   "cell_type": "markdown",
   "metadata": {
    "colab_type": "text",
    "id": "z5dyjPVNYJdc"
   },
   "source": [
    "<h3 style=\"text-align: center;\"><b>Многослойная нейросеть на PyTorch</b></h3>"
   ]
  },
  {
   "cell_type": "markdown",
   "metadata": {
    "colab_type": "text",
    "id": "T9ufk3ECYJde"
   },
   "source": [
    "Ешё раз напомним про основные компоненты нейросети:\n",
    "\n",
    "- непосредственно, сама **архитектура** нейросети (сюда входят типы функций активации у каждого нейрона);\n",
    "- начальная **инициализация** весов каждого слоя;\n",
    "- метод **оптимизации** нейросети (сюда ещё входит метод изменения `learning_rate`);\n",
    "- размер **батчей** (`batch_size`);\n",
    "- количетсво итераций обучения (`num_epochs`);\n",
    "- **функция потерь** (`loss`);  \n",
    "- тип **регуляризации** нейросети (для каждого слоя можно свой);  \n",
    "\n",
    "То, что связано с ***данными и задачей***:  \n",
    "- само **качество** выборки (непротиворечивость, чистота, корректность постановки задачи);  \n",
    "- **размер** выборки;  "
   ]
  },
  {
   "cell_type": "markdown",
   "metadata": {
    "colab_type": "text",
    "id": "9KrWarqTYJdf"
   },
   "source": [
    "Не будем медлить - бахнем 100 нейронов в двуслойную нейросеть (датасет - снова \"Игрушка дьявола\"):"
   ]
  },
  {
   "cell_type": "code",
   "execution_count": 1,
   "metadata": {
    "colab": {},
    "colab_type": "code",
    "id": "bLjkPg19YJdg"
   },
   "outputs": [],
   "source": [
    "import matplotlib.pyplot as plt\n",
    "import numpy as np\n",
    "\n",
    "import torch"
   ]
  },
  {
   "cell_type": "markdown",
   "metadata": {
    "colab_type": "text",
    "id": "iCDVRvQJYJdl"
   },
   "source": [
    "Генерация и отрисовка датасета:"
   ]
  },
  {
   "cell_type": "code",
   "execution_count": 2,
   "metadata": {
    "colab": {},
    "colab_type": "code",
    "id": "k0J27RcLYJdm"
   },
   "outputs": [],
   "source": [
    "# код для генерации взят из Стэнфордсокго курса:\n",
    "# http://cs231n.github.io/neural-networks-case-study/#linear\n",
    "\n",
    "N = 100\n",
    "D = 2\n",
    "K = 3\n",
    "X = np.zeros((N * K, D))\n",
    "y = np.zeros(N * K, dtype='uint8')\n",
    "\n",
    "for j in range(K):\n",
    "    ix = range(N * j,N * (j + 1))\n",
    "    r = np.linspace(0.0, 1, N)\n",
    "    t = np.linspace(j * 4, (j + 1) * 4,N) + np.random.randn(N) * 0.2 # theta\n",
    "    X[ix] = np.c_[r * np.sin(t), r * np.cos(t)]\n",
    "    y[ix] = j"
   ]
  },
  {
   "cell_type": "markdown",
   "metadata": {
    "colab_type": "text",
    "id": "X9FHhqX_YJdp"
   },
   "source": [
    "Не забываем оборачивать данные (без этого градиенты не посчитать):"
   ]
  },
  {
   "cell_type": "code",
   "execution_count": 9,
   "metadata": {
    "colab": {},
    "colab_type": "code",
    "id": "pQINaQqZYJdq"
   },
   "outputs": [],
   "source": [
    "X = torch.autograd.Variable(torch.FloatTensor(X))\n",
    "y = torch.autograd.Variable(torch.LongTensor(y.astype(np.int64)))"
   ]
  },
  {
   "cell_type": "code",
   "execution_count": 10,
   "metadata": {
    "colab": {},
    "colab_type": "code",
    "id": "Who9mS8oYJdu",
    "outputId": "1ec6e30a-2cd9-4bd6-d0e0-3b7c936d1b8a"
   },
   "outputs": [
    {
     "name": "stdout",
     "output_type": "stream",
     "text": [
      "torch.Size([300, 2]) torch.Size([300])\n"
     ]
    }
   ],
   "source": [
    "print(X.data.shape, y.data.shape)"
   ]
  },
  {
   "cell_type": "markdown",
   "metadata": {
    "colab_type": "text",
    "id": "I-9dFW5CYJd0"
   },
   "source": [
    "Сама ячейка с сеткой и обучением:"
   ]
  },
  {
   "cell_type": "code",
   "execution_count": 5,
   "metadata": {
    "colab": {},
    "colab_type": "code",
    "id": "kf-YapleYJd1",
    "outputId": "d71315ae-670a-48e3-bcf7-b425ebe198fe"
   },
   "outputs": [
    {
     "name": "stderr",
     "output_type": "stream",
     "text": [
      "/home/scarlet/anaconda3/lib/python3.7/site-packages/torch/nn/_reduction.py:49: UserWarning: size_average and reduce args will be deprecated, please use reduction='sum' instead.\n",
      "  warnings.warn(warning.format(ret))\n"
     ]
    },
    {
     "name": "stdout",
     "output_type": "stream",
     "text": [
      "0 338.8421936035156\n",
      "1 336.81378173828125\n",
      "2 334.8744812011719\n",
      "3 333.0155334472656\n",
      "4 331.22882080078125\n",
      "5 329.5068054199219\n",
      "6 327.8438415527344\n",
      "7 326.2343444824219\n",
      "8 324.6737365722656\n",
      "9 323.1583557128906\n",
      "10 321.6843566894531\n",
      "11 320.2491455078125\n",
      "12 318.8495788574219\n",
      "13 317.4836730957031\n",
      "14 316.1490478515625\n",
      "15 314.8441467285156\n",
      "16 313.5672607421875\n",
      "17 312.3168029785156\n",
      "18 311.0918884277344\n",
      "19 309.8909606933594\n",
      "20 308.7131652832031\n",
      "21 307.5574951171875\n",
      "22 306.42303466796875\n",
      "23 305.3092956542969\n",
      "24 304.2154846191406\n",
      "25 303.1405944824219\n",
      "26 302.08465576171875\n",
      "27 301.0464172363281\n",
      "28 300.0257263183594\n",
      "29 299.0216979980469\n",
      "30 298.0343933105469\n",
      "31 297.06304931640625\n",
      "32 296.10748291015625\n",
      "33 295.16705322265625\n",
      "34 294.2416076660156\n",
      "35 293.33062744140625\n",
      "36 292.43389892578125\n",
      "37 291.5506896972656\n",
      "38 290.6811828613281\n",
      "39 289.8249206542969\n",
      "40 288.98150634765625\n",
      "41 288.1512145996094\n",
      "42 287.3330993652344\n",
      "43 286.527099609375\n",
      "44 285.7330322265625\n",
      "45 284.9505310058594\n",
      "46 284.1793518066406\n",
      "47 283.41937255859375\n",
      "48 282.6701354980469\n",
      "49 281.93194580078125\n",
      "50 281.2041931152344\n",
      "51 280.4872741699219\n",
      "52 279.7803039550781\n",
      "53 279.0834045410156\n",
      "54 278.3962707519531\n",
      "55 277.71856689453125\n",
      "56 277.0503234863281\n",
      "57 276.3910827636719\n",
      "58 275.7409973144531\n",
      "59 275.0997009277344\n",
      "60 274.4670715332031\n",
      "61 273.8429870605469\n",
      "62 273.227294921875\n",
      "63 272.6196594238281\n",
      "64 272.020263671875\n",
      "65 271.42864990234375\n",
      "66 270.8449401855469\n",
      "67 270.2689208984375\n",
      "68 269.7002868652344\n",
      "69 269.1392517089844\n",
      "70 268.585205078125\n",
      "71 268.0382080078125\n",
      "72 267.49835205078125\n",
      "73 266.9654541015625\n",
      "74 266.43927001953125\n",
      "75 265.9195861816406\n",
      "76 265.4065246582031\n",
      "77 264.9001770019531\n",
      "78 264.39971923828125\n",
      "79 263.9055480957031\n",
      "80 263.4176940917969\n",
      "81 262.9356689453125\n",
      "82 262.4595947265625\n",
      "83 261.9891662597656\n",
      "84 261.524658203125\n",
      "85 261.0658264160156\n",
      "86 260.612548828125\n",
      "87 260.1645202636719\n",
      "88 259.72198486328125\n",
      "89 259.2845153808594\n",
      "90 258.85223388671875\n",
      "91 258.4249572753906\n",
      "92 258.0027770996094\n",
      "93 257.58563232421875\n",
      "94 257.1731262207031\n",
      "95 256.7654724121094\n",
      "96 256.3626708984375\n",
      "97 255.9644775390625\n",
      "98 255.57078552246094\n",
      "99 255.18173217773438\n",
      "100 254.79681396484375\n",
      "101 254.41648864746094\n",
      "102 254.0402069091797\n",
      "103 253.6681671142578\n",
      "104 253.30038452148438\n",
      "105 252.9367218017578\n",
      "106 252.57717895507812\n",
      "107 252.22161865234375\n",
      "108 251.86984252929688\n",
      "109 251.5220184326172\n",
      "110 251.17788696289062\n",
      "111 250.8375244140625\n",
      "112 250.5007781982422\n",
      "113 250.16758728027344\n",
      "114 249.83798217773438\n",
      "115 249.51202392578125\n",
      "116 249.18951416015625\n",
      "117 248.870361328125\n",
      "118 248.5547332763672\n",
      "119 248.2423095703125\n",
      "120 247.93321228027344\n",
      "121 247.62738037109375\n",
      "122 247.32476806640625\n",
      "123 247.0253143310547\n",
      "124 246.7290802001953\n",
      "125 246.43565368652344\n",
      "126 246.14520263671875\n",
      "127 245.857666015625\n",
      "128 245.57322692871094\n",
      "129 245.29168701171875\n",
      "130 245.01272583007812\n",
      "131 244.73680114746094\n",
      "132 244.46343994140625\n",
      "133 244.1929931640625\n",
      "134 243.9250946044922\n",
      "135 243.65997314453125\n",
      "136 243.39749145507812\n",
      "137 243.13751220703125\n",
      "138 242.87998962402344\n",
      "139 242.62515258789062\n",
      "140 242.37257385253906\n",
      "141 242.12246704101562\n",
      "142 241.8749237060547\n",
      "143 241.62950134277344\n",
      "144 241.3865203857422\n",
      "145 241.1460723876953\n",
      "146 240.9076385498047\n",
      "147 240.67123413085938\n",
      "148 240.43719482421875\n",
      "149 240.20550537109375\n",
      "150 239.97560119628906\n",
      "151 239.74807739257812\n",
      "152 239.52267456054688\n",
      "153 239.2994842529297\n",
      "154 239.0786590576172\n",
      "155 238.8597869873047\n",
      "156 238.64312744140625\n",
      "157 238.4285430908203\n",
      "158 238.21572875976562\n",
      "159 238.0048828125\n",
      "160 237.7959747314453\n",
      "161 237.58908081054688\n",
      "162 237.38380432128906\n",
      "163 237.180419921875\n",
      "164 236.97901916503906\n",
      "165 236.77940368652344\n",
      "166 236.58143615722656\n",
      "167 236.38536071777344\n",
      "168 236.19088745117188\n",
      "169 235.99806213378906\n",
      "170 235.80697631835938\n",
      "171 235.6175079345703\n",
      "172 235.42967224121094\n",
      "173 235.2434844970703\n",
      "174 235.05870056152344\n",
      "175 234.87562561035156\n",
      "176 234.69430541992188\n",
      "177 234.51417541503906\n",
      "178 234.33572387695312\n",
      "179 234.15895080566406\n",
      "180 233.98350524902344\n",
      "181 233.80967712402344\n",
      "182 233.6371307373047\n",
      "183 233.4661407470703\n",
      "184 233.2964324951172\n",
      "185 233.12808227539062\n",
      "186 232.96107482910156\n",
      "187 232.79550170898438\n",
      "188 232.6311492919922\n",
      "189 232.46820068359375\n",
      "190 232.30648803710938\n",
      "191 232.1460418701172\n",
      "192 231.9869384765625\n",
      "193 231.82904052734375\n",
      "194 231.6724395751953\n",
      "195 231.51707458496094\n",
      "196 231.36305236816406\n",
      "197 231.21044921875\n",
      "198 231.05892944335938\n",
      "199 230.90850830078125\n",
      "200 230.75924682617188\n",
      "201 230.61114501953125\n",
      "202 230.4643096923828\n",
      "203 230.31854248046875\n",
      "204 230.17413330078125\n",
      "205 230.03065490722656\n",
      "206 229.88836669921875\n",
      "207 229.74685668945312\n",
      "208 229.60653686523438\n",
      "209 229.46737670898438\n",
      "210 229.3290252685547\n",
      "211 229.1919403076172\n",
      "212 229.0557861328125\n",
      "213 228.92071533203125\n",
      "214 228.7865753173828\n",
      "215 228.65350341796875\n",
      "216 228.52127075195312\n",
      "217 228.39013671875\n",
      "218 228.2597198486328\n",
      "219 228.13018798828125\n",
      "220 228.0016632080078\n",
      "221 227.87391662597656\n",
      "222 227.7471923828125\n",
      "223 227.62123107910156\n",
      "224 227.4962615966797\n",
      "225 227.37222290039062\n",
      "226 227.2489776611328\n",
      "227 227.12657165527344\n",
      "228 227.0050506591797\n",
      "229 226.8843994140625\n",
      "230 226.7645721435547\n",
      "231 226.6453857421875\n",
      "232 226.52734375\n",
      "233 226.4098663330078\n",
      "234 226.2936248779297\n",
      "235 226.17813110351562\n",
      "236 226.06336975097656\n",
      "237 225.94940185546875\n",
      "238 225.83616638183594\n",
      "239 225.72372436523438\n",
      "240 225.6117706298828\n",
      "241 225.5009307861328\n",
      "242 225.39060974121094\n",
      "243 225.28103637695312\n",
      "244 225.17214965820312\n",
      "245 225.06378173828125\n",
      "246 224.9563751220703\n",
      "247 224.84939575195312\n",
      "248 224.74313354492188\n",
      "249 224.63754272460938\n",
      "250 224.53268432617188\n",
      "251 224.4283905029297\n",
      "252 224.32479858398438\n",
      "253 224.22189331054688\n",
      "254 224.11956787109375\n",
      "255 224.0178985595703\n",
      "256 223.9169158935547\n",
      "257 223.8166046142578\n",
      "258 223.7166748046875\n",
      "259 223.61740112304688\n",
      "260 223.5188751220703\n",
      "261 223.42080688476562\n",
      "262 223.32334899902344\n",
      "263 223.2263946533203\n",
      "264 223.13009643554688\n",
      "265 223.03433227539062\n",
      "266 222.9390106201172\n",
      "267 222.84429931640625\n",
      "268 222.75010681152344\n",
      "269 222.65647888183594\n",
      "270 222.56338500976562\n",
      "271 222.47071838378906\n",
      "272 222.37860107421875\n",
      "273 222.28707885742188\n",
      "274 222.19606018066406\n",
      "275 222.10533142089844\n",
      "276 222.01535034179688\n",
      "277 221.92567443847656\n",
      "278 221.83668518066406\n",
      "279 221.74798583984375\n",
      "280 221.65997314453125\n",
      "281 221.5723419189453\n",
      "282 221.48516845703125\n",
      "283 221.3983917236328\n",
      "284 221.3121337890625\n",
      "285 221.226318359375\n",
      "286 221.14097595214844\n",
      "287 221.05593872070312\n",
      "288 220.9713592529297\n",
      "289 220.88723754882812\n",
      "290 220.80345153808594\n",
      "291 220.72015380859375\n",
      "292 220.63729858398438\n",
      "293 220.55487060546875\n",
      "294 220.47291564941406\n",
      "295 220.39114379882812\n",
      "296 220.3098907470703\n",
      "297 220.2291259765625\n",
      "298 220.14889526367188\n",
      "299 220.06887817382812\n",
      "300 219.98953247070312\n",
      "301 219.91043090820312\n",
      "302 219.8316650390625\n",
      "303 219.75344848632812\n",
      "304 219.67547607421875\n",
      "305 219.59779357910156\n",
      "306 219.52052307128906\n",
      "307 219.44366455078125\n",
      "308 219.36708068847656\n",
      "309 219.2909698486328\n",
      "310 219.21495056152344\n",
      "311 219.139404296875\n",
      "312 219.06423950195312\n",
      "313 218.9893798828125\n",
      "314 218.9148406982422\n",
      "315 218.840576171875\n",
      "316 218.76657104492188\n",
      "317 218.69285583496094\n",
      "318 218.61947631835938\n",
      "319 218.54669189453125\n",
      "320 218.47381591796875\n",
      "321 218.4014434814453\n",
      "322 218.3294219970703\n",
      "323 218.25762939453125\n",
      "324 218.1861572265625\n",
      "325 218.11505126953125\n",
      "326 218.04393005371094\n",
      "327 217.9734649658203\n",
      "328 217.90335083007812\n",
      "329 217.8334503173828\n",
      "330 217.76358032226562\n",
      "331 217.69448852539062\n",
      "332 217.62530517578125\n",
      "333 217.5563201904297\n",
      "334 217.48788452148438\n",
      "335 217.41964721679688\n",
      "336 217.35174560546875\n",
      "337 217.283935546875\n",
      "338 217.21656799316406\n",
      "339 217.1493682861328\n",
      "340 217.0823211669922\n",
      "341 217.01585388183594\n",
      "342 216.94947814941406\n",
      "343 216.88327026367188\n",
      "344 216.8174285888672\n",
      "345 216.7518768310547\n",
      "346 216.686279296875\n",
      "347 216.62127685546875\n",
      "348 216.55636596679688\n",
      "349 216.49148559570312\n",
      "350 216.42697143554688\n",
      "351 216.3627471923828\n",
      "352 216.29888916015625\n",
      "353 216.23500061035156\n",
      "354 216.17152404785156\n",
      "355 216.1082000732422\n",
      "356 216.0452880859375\n",
      "357 215.9823760986328\n",
      "358 215.9197235107422\n",
      "359 215.85731506347656\n",
      "360 215.79513549804688\n",
      "361 215.73306274414062\n",
      "362 215.67124938964844\n",
      "363 215.6097869873047\n",
      "364 215.54840087890625\n",
      "365 215.48716735839844\n",
      "366 215.4263153076172\n",
      "367 215.36546325683594\n",
      "368 215.30503845214844\n",
      "369 215.24453735351562\n",
      "370 215.1843719482422\n",
      "371 215.12435913085938\n",
      "372 215.06442260742188\n",
      "373 215.00479125976562\n",
      "374 214.9453887939453\n",
      "375 214.88624572753906\n",
      "376 214.82723999023438\n",
      "377 214.76844787597656\n",
      "378 214.70982360839844\n",
      "379 214.6513671875\n",
      "380 214.59317016601562\n",
      "381 214.5353546142578\n",
      "382 214.47740173339844\n",
      "383 214.419677734375\n",
      "384 214.36236572265625\n",
      "385 214.30520629882812\n",
      "386 214.24803161621094\n",
      "387 214.19114685058594\n",
      "388 214.13453674316406\n",
      "389 214.0780029296875\n",
      "390 214.0217742919922\n",
      "391 213.96563720703125\n",
      "392 213.90985107421875\n",
      "393 213.85409545898438\n",
      "394 213.7986602783203\n",
      "395 213.74317932128906\n",
      "396 213.6878662109375\n",
      "397 213.6327667236328\n",
      "398 213.5779266357422\n",
      "399 213.5230255126953\n",
      "400 213.46856689453125\n",
      "401 213.41424560546875\n",
      "402 213.36009216308594\n",
      "403 213.30604553222656\n",
      "404 213.25238037109375\n",
      "405 213.1986846923828\n",
      "406 213.14508056640625\n",
      "407 213.0917205810547\n",
      "408 213.03843688964844\n",
      "409 212.98562622070312\n",
      "410 212.9325408935547\n",
      "411 212.87982177734375\n",
      "412 212.82730102539062\n",
      "413 212.77481079101562\n",
      "414 212.72251892089844\n",
      "415 212.670166015625\n",
      "416 212.61819458007812\n",
      "417 212.5663299560547\n",
      "418 212.5145263671875\n",
      "419 212.46275329589844\n",
      "420 212.41136169433594\n",
      "421 212.35986328125\n",
      "422 212.30873107910156\n",
      "423 212.2573699951172\n",
      "424 212.2063751220703\n",
      "425 212.15542602539062\n",
      "426 212.10455322265625\n",
      "427 212.05380249023438\n",
      "428 212.0032501220703\n",
      "429 211.95277404785156\n",
      "430 211.90231323242188\n",
      "431 211.85205078125\n",
      "432 211.80198669433594\n",
      "433 211.75172424316406\n",
      "434 211.7018585205078\n",
      "435 211.65191650390625\n",
      "436 211.602294921875\n",
      "437 211.55270385742188\n",
      "438 211.50320434570312\n",
      "439 211.4538116455078\n",
      "440 211.404541015625\n",
      "441 211.35543823242188\n",
      "442 211.30615234375\n",
      "443 211.25718688964844\n",
      "444 211.20826721191406\n",
      "445 211.15940856933594\n",
      "446 211.1107635498047\n",
      "447 211.06211853027344\n",
      "448 211.0137176513672\n",
      "449 210.9652862548828\n",
      "450 210.91693115234375\n",
      "451 210.8687744140625\n",
      "452 210.82058715820312\n",
      "453 210.77259826660156\n",
      "454 210.7245635986328\n",
      "455 210.67660522460938\n",
      "456 210.62881469726562\n",
      "457 210.58103942871094\n",
      "458 210.53330993652344\n",
      "459 210.4856719970703\n",
      "460 210.4381561279297\n",
      "461 210.3907470703125\n"
     ]
    },
    {
     "name": "stdout",
     "output_type": "stream",
     "text": [
      "462 210.34336853027344\n",
      "463 210.2957763671875\n",
      "464 210.24853515625\n",
      "465 210.20127868652344\n",
      "466 210.15414428710938\n",
      "467 210.10694885253906\n",
      "468 210.0600128173828\n",
      "469 210.01312255859375\n",
      "470 209.9662322998047\n",
      "471 209.91941833496094\n",
      "472 209.872802734375\n",
      "473 209.8261260986328\n",
      "474 209.77972412109375\n",
      "475 209.73324584960938\n",
      "476 209.68698120117188\n",
      "477 209.6407470703125\n",
      "478 209.59446716308594\n",
      "479 209.54823303222656\n",
      "480 209.5020294189453\n",
      "481 209.45596313476562\n",
      "482 209.41000366210938\n",
      "483 209.3642120361328\n",
      "484 209.31834411621094\n",
      "485 209.27261352539062\n",
      "486 209.2271270751953\n",
      "487 209.1812744140625\n",
      "488 209.1357879638672\n",
      "489 209.09027099609375\n",
      "490 209.0447540283203\n",
      "491 208.99942016601562\n",
      "492 208.9541473388672\n",
      "493 208.9089813232422\n",
      "494 208.86402893066406\n",
      "495 208.81878662109375\n",
      "496 208.77366638183594\n",
      "497 208.7287139892578\n",
      "498 208.6836700439453\n",
      "499 208.63876342773438\n"
     ]
    }
   ],
   "source": [
    "# пример взят из официального туториала: \n",
    "# https://pytorch.org/tutorials/beginner/pytorch_with_examples.html\n",
    "\n",
    "# N - размер батча (batch_size, нужно для метода оптимизации); \n",
    "# D_in - размерность входа (количество признаков у объекта);\n",
    "# H - размерность скрытых слоёв; \n",
    "# D_out - размерность выходного слоя (суть - количество классов)\n",
    "N, D_in, H, D_out = 64, 2, 100, 3\n",
    "\n",
    "# Use the nn package to define our model and loss function.\n",
    "two_layer_net = torch.nn.Sequential(\n",
    "    torch.nn.Linear(D_in, H),\n",
    "    torch.nn.ReLU(),\n",
    "    torch.nn.Linear(H, D_out),\n",
    ")\n",
    "\n",
    "loss_fn = torch.nn.CrossEntropyLoss(size_average=False)\n",
    "\n",
    "learning_rate = 1e-4\n",
    "optimizer = torch.optim.SGD(two_layer_net.parameters(), lr=learning_rate)\n",
    "for t in range(500):\n",
    "    # forward\n",
    "    y_pred = two_layer_net(X)\n",
    "\n",
    "    # loss\n",
    "    loss = loss_fn(y_pred, y)\n",
    "    print('{} {}'.format(t, loss.data))\n",
    "\n",
    "    # ЗАНУЛЯЕМ!\n",
    "    optimizer.zero_grad()\n",
    "\n",
    "    # backward\n",
    "    loss.backward()\n",
    "\n",
    "    # ОБНОВЛЯЕМ! \n",
    "    optimizer.step()"
   ]
  },
  {
   "cell_type": "markdown",
   "metadata": {
    "colab_type": "text",
    "id": "zTQiN0bcYJd6"
   },
   "source": [
    "**Обратите внимание:** несмотря на то, что это задача 3-х классовой классификации и столбец $y$ нужно по-хорошему кодировать OneHotEncoding'ом, мы подали просто столбец из 0, 1 и 2 и всё отработало. Вывод - PyTorch сам делает OneHot в таком случае."
   ]
  },
  {
   "cell_type": "markdown",
   "metadata": {
    "colab_type": "text",
    "id": "apsWWq17YJd8"
   },
   "source": [
    "Проверим, насколько хороша наша сеть из 100 нейронов:"
   ]
  },
  {
   "cell_type": "code",
   "execution_count": 6,
   "metadata": {
    "colab": {},
    "colab_type": "code",
    "id": "X0ICB6Z-YJd-"
   },
   "outputs": [],
   "source": [
    "# Обратно в Numpy для отрисовки\n",
    "X = X.data.numpy()\n",
    "y = y.data.numpy()"
   ]
  },
  {
   "cell_type": "code",
   "execution_count": 7,
   "metadata": {
    "colab": {},
    "colab_type": "code",
    "id": "JvjfvgbPYJeB",
    "outputId": "cf5545ff-3315-45c9-c674-af44f63a346b"
   },
   "outputs": [
    {
     "data": {
      "image/png": "[encoded data removed]",
      "text/plain": [
       "<Figure size 720x576 with 1 Axes>"
      ]
     },
     "metadata": {
      "needs_background": "light"
     },
     "output_type": "display_data"
    }
   ],
   "source": [
    "# Отрисовочная магия, снова взято из:\n",
    "# http://cs231n.github.io/neural-networks-case-study/#linear\n",
    "\n",
    "h = 0.02\n",
    "x_min, x_max = X[:, 0].min() - 1, X[:, 0].max() + 1\n",
    "y_min, y_max = X[:, 1].min() - 1, X[:, 1].max() + 1\n",
    "\n",
    "xx, yy = np.meshgrid(np.arange(x_min, x_max, h),\n",
    "                     np.arange(y_min, y_max, h))\n",
    "grid_tensor = torch.FloatTensor(np.c_[xx.ravel(), yy.ravel()])\n",
    "\n",
    "Z = two_layer_net(torch.autograd.Variable(grid_tensor))\n",
    "Z = Z.data.numpy()\n",
    "Z = np.argmax(Z, axis=1)\n",
    "Z = Z.reshape(xx.shape)\n",
    "\n",
    "plt.figure(figsize=(10, 8))\n",
    "\n",
    "plt.contourf(xx, yy, Z, cmap=plt.cm.rainbow, alpha=0.3)\n",
    "plt.scatter(X[:, 0], X[:, 1], c=y, s=40, cmap=plt.cm.rainbow)\n",
    "\n",
    "plt.xlim(xx.min(), xx.max())\n",
    "plt.ylim(yy.min(), yy.max())\n",
    "\n",
    "plt.title('Игрушка дьявола', fontsize=15)\n",
    "plt.xlabel('$x$', fontsize=14)\n",
    "plt.ylabel('$y$', fontsize=14)\n",
    "plt.show();"
   ]
  },
  {
   "cell_type": "markdown",
   "metadata": {
    "colab_type": "text",
    "id": "I-LuUcmNYJeE"
   },
   "source": [
    "Качество не очень. Как же так, ведь мы использовали 100 нейронов? Разве их мало?"
   ]
  },
  {
   "cell_type": "markdown",
   "metadata": {
    "colab_type": "text",
    "id": "CUh5va_PYJeF"
   },
   "source": [
    "---"
   ]
  },
  {
   "cell_type": "markdown",
   "metadata": {
    "colab_type": "text",
    "id": "34q5qIBvYJeG"
   },
   "source": [
    "### Задача 2"
   ]
  },
  {
   "cell_type": "markdown",
   "metadata": {
    "colab_type": "text",
    "id": "G2wNgoh5YJeG"
   },
   "source": [
    "Улучшите сеть (помните про вещи, которые можно менять (см. Компоненты нейросети)). Экспериментируйте, в этом **вся суть deep learning** (и в том, чтобы рано или поздно сетка научилась экспериментировать за Вас :)"
   ]
  },
  {
   "cell_type": "code",
   "execution_count": 14,
   "metadata": {
    "colab": {},
    "colab_type": "code",
    "id": "k0J27RcLYJdm"
   },
   "outputs": [],
   "source": [
    "# код для генерации взят из Стэнфордсокго курса:\n",
    "# http://cs231n.github.io/neural-networks-case-study/#linear\n",
    "\n",
    "N = 100\n",
    "D = 2\n",
    "K = 3\n",
    "X = np.zeros((N * K, D))\n",
    "y = np.zeros(N * K, dtype='uint8')\n",
    "\n",
    "for j in range(K):\n",
    "    ix = range(N * j,N * (j + 1))\n",
    "    r = np.linspace(0.0, 1, N)\n",
    "    t = np.linspace(j * 4, (j + 1) * 4,N) + np.random.randn(N) * 0.2 # theta\n",
    "    X[ix] = np.c_[r * np.sin(t), r * np.cos(t)]\n",
    "    y[ix] = j"
   ]
  },
  {
   "cell_type": "code",
   "execution_count": 15,
   "metadata": {
    "colab": {},
    "colab_type": "code",
    "id": "pQINaQqZYJdq"
   },
   "outputs": [],
   "source": [
    "X = torch.autograd.Variable(torch.FloatTensor(X))\n",
    "y = torch.autograd.Variable(torch.LongTensor(y.astype(np.int64)))"
   ]
  },
  {
   "cell_type": "code",
   "execution_count": 16,
   "metadata": {
    "colab": {},
    "colab_type": "code",
    "id": "Who9mS8oYJdu",
    "outputId": "1ec6e30a-2cd9-4bd6-d0e0-3b7c936d1b8a"
   },
   "outputs": [
    {
     "name": "stdout",
     "output_type": "stream",
     "text": [
      "torch.Size([300, 2]) torch.Size([300])\n"
     ]
    }
   ],
   "source": [
    "print(X.data.shape, y.data.shape)"
   ]
  },
  {
   "cell_type": "code",
   "execution_count": 17,
   "metadata": {
    "colab": {},
    "colab_type": "code",
    "id": "ZYzvOiPgYJeH"
   },
   "outputs": [
    {
     "name": "stdout",
     "output_type": "stream",
     "text": [
      "0 331.6755676269531\n",
      "1 329.32135009765625\n",
      "2 327.3880310058594\n",
      "3 325.6453552246094\n",
      "4 323.9328918457031\n",
      "5 322.30169677734375\n",
      "6 320.6200256347656\n",
      "7 318.85546875\n",
      "8 316.9057922363281\n",
      "9 314.7525634765625\n",
      "10 312.39605712890625\n",
      "11 309.81829833984375\n",
      "12 306.9748840332031\n",
      "13 303.8161315917969\n",
      "14 300.3461608886719\n",
      "15 296.5812683105469\n",
      "16 292.4780578613281\n",
      "17 288.07073974609375\n",
      "18 283.3589172363281\n",
      "19 278.3885498046875\n",
      "20 273.2410888671875\n",
      "21 268.0005798339844\n",
      "22 262.730224609375\n",
      "23 257.5299377441406\n",
      "24 252.4752655029297\n",
      "25 247.61907958984375\n",
      "26 242.99404907226562\n",
      "27 238.60531616210938\n",
      "28 234.45364379882812\n",
      "29 230.55682373046875\n",
      "30 226.91720581054688\n",
      "31 223.53579711914062\n",
      "32 220.4131622314453\n",
      "33 217.53318786621094\n",
      "34 214.88661193847656\n",
      "35 212.4600372314453\n",
      "36 210.2335662841797\n",
      "37 208.2110595703125\n",
      "38 206.51744079589844\n",
      "39 205.6695098876953\n",
      "40 207.5786590576172\n",
      "41 220.60086059570312\n",
      "42 264.739501953125\n",
      "43 342.4800109863281\n",
      "44 259.43701171875\n",
      "45 216.2349090576172\n",
      "46 207.6148223876953\n",
      "47 202.585693359375\n",
      "48 199.1691436767578\n",
      "49 196.87081909179688\n",
      "50 195.3372344970703\n",
      "51 195.0089569091797\n",
      "52 196.1671142578125\n",
      "53 201.3756561279297\n",
      "54 213.67845153808594\n",
      "55 234.9059600830078\n",
      "56 254.34449768066406\n",
      "57 232.79779052734375\n",
      "58 206.2097625732422\n",
      "59 197.21078491210938\n",
      "60 192.73147583007812\n",
      "61 190.61602783203125\n",
      "62 189.11378479003906\n",
      "63 191.09698486328125\n",
      "64 194.30471801757812\n",
      "65 211.50698852539062\n",
      "66 238.92752075195312\n",
      "67 256.6562805175781\n",
      "68 254.88204956054688\n",
      "69 195.93405151367188\n",
      "70 184.08604431152344\n",
      "71 177.86688232421875\n",
      "72 173.68490600585938\n",
      "73 170.78848266601562\n",
      "74 169.72775268554688\n",
      "75 172.3125\n",
      "76 184.10975646972656\n",
      "77 219.64401245117188\n",
      "78 216.94227600097656\n",
      "79 214.00929260253906\n",
      "80 179.7610626220703\n",
      "81 168.86285400390625\n",
      "82 164.854248046875\n",
      "83 163.65658569335938\n",
      "84 167.9050750732422\n",
      "85 183.21324157714844\n",
      "86 214.0852508544922\n",
      "87 248.4800262451172\n",
      "88 229.85739135742188\n",
      "89 200.98519897460938\n",
      "90 181.78587341308594\n",
      "91 185.16314697265625\n",
      "92 200.5304718017578\n",
      "93 188.15753173828125\n",
      "94 203.2037353515625\n",
      "95 166.6408233642578\n",
      "96 166.01681518554688\n",
      "97 160.58238220214844\n",
      "98 167.84083557128906\n",
      "99 164.55804443359375\n",
      "100 181.1538848876953\n",
      "101 160.58465576171875\n",
      "102 169.90208435058594\n",
      "103 155.82803344726562\n",
      "104 165.892333984375\n",
      "105 174.7911834716797\n",
      "106 200.54470825195312\n",
      "107 222.90728759765625\n",
      "108 189.48345947265625\n",
      "109 170.48081970214844\n",
      "110 168.27711486816406\n",
      "111 158.80776977539062\n",
      "112 163.62161254882812\n",
      "113 159.64291381835938\n",
      "114 167.77902221679688\n",
      "115 162.45314025878906\n",
      "116 168.5353546142578\n",
      "117 157.446533203125\n",
      "118 159.8599395751953\n",
      "119 147.28668212890625\n",
      "120 149.611328125\n",
      "121 143.3844757080078\n",
      "122 152.65676879882812\n",
      "123 175.591796875\n",
      "124 217.79856872558594\n",
      "125 184.18544006347656\n",
      "126 144.4364776611328\n",
      "127 127.98960876464844\n",
      "128 125.21669006347656\n",
      "129 125.36213684082031\n",
      "130 138.22900390625\n",
      "131 141.58460998535156\n",
      "132 170.1736297607422\n",
      "133 127.65245056152344\n",
      "134 131.9231719970703\n",
      "135 120.39822387695312\n",
      "136 126.63011169433594\n",
      "137 116.98014831542969\n",
      "138 123.80165100097656\n",
      "139 116.50568389892578\n",
      "140 126.74279022216797\n",
      "141 132.80813598632812\n",
      "142 160.3240203857422\n",
      "143 225.1771240234375\n",
      "144 257.3017578125\n",
      "145 179.82066345214844\n",
      "146 110.59270477294922\n",
      "147 100.13813781738281\n",
      "148 95.31316375732422\n",
      "149 92.78668212890625\n",
      "150 93.53186798095703\n",
      "151 97.27513885498047\n",
      "152 110.03661346435547\n",
      "153 134.68551635742188\n",
      "154 179.99069213867188\n",
      "155 216.0411834716797\n",
      "156 122.44270324707031\n",
      "157 103.48856353759766\n",
      "158 91.18351745605469\n",
      "159 87.36924743652344\n",
      "160 83.14373779296875\n",
      "161 81.04911041259766\n",
      "162 79.22944641113281\n",
      "163 78.15121459960938\n",
      "164 78.00125885009766\n",
      "165 77.8979721069336\n",
      "166 79.72583770751953\n",
      "167 80.68170166015625\n",
      "168 85.69965362548828\n",
      "169 86.908935546875\n",
      "170 95.33570861816406\n",
      "171 96.38059997558594\n",
      "172 106.56120300292969\n",
      "173 108.01067352294922\n",
      "174 116.3287582397461\n",
      "175 124.5678939819336\n",
      "176 128.65774536132812\n",
      "177 145.3386993408203\n",
      "178 130.82554626464844\n",
      "179 132.44976806640625\n",
      "180 122.9173583984375\n",
      "181 167.9996337890625\n",
      "182 172.2455596923828\n",
      "183 169.1948699951172\n",
      "184 79.74171447753906\n",
      "185 65.00315856933594\n",
      "186 60.531150817871094\n",
      "187 57.780635833740234\n",
      "188 55.784339904785156\n",
      "189 54.1506233215332\n",
      "190 52.73012924194336\n",
      "191 51.4510383605957\n",
      "192 50.280853271484375\n",
      "193 49.20036697387695\n",
      "194 48.185760498046875\n",
      "195 47.232147216796875\n",
      "196 46.31956481933594\n",
      "197 45.454490661621094\n",
      "198 44.622291564941406\n",
      "199 43.84095001220703\n",
      "200 43.095943450927734\n",
      "201 42.39008331298828\n",
      "202 41.71784591674805\n",
      "203 41.10652160644531\n",
      "204 40.554317474365234\n",
      "205 40.07646942138672\n",
      "206 39.73031234741211\n",
      "207 39.59250259399414\n",
      "208 39.70740509033203\n",
      "209 40.47886657714844\n",
      "210 41.736961364746094\n",
      "211 44.978118896484375\n",
      "212 48.22188186645508\n",
      "213 56.08824920654297\n",
      "214 59.574607849121094\n",
      "215 73.95760345458984\n",
      "216 69.64920043945312\n",
      "217 83.31259155273438\n",
      "218 65.73872375488281\n",
      "219 66.85734558105469\n",
      "220 47.4991455078125\n",
      "221 44.05336380004883\n",
      "222 38.17631149291992\n",
      "223 37.12615966796875\n",
      "224 35.21775436401367\n",
      "225 34.86674880981445\n",
      "226 34.22492980957031\n",
      "227 34.132957458496094\n",
      "228 34.170162200927734\n",
      "229 34.24882507324219\n",
      "230 35.19511413574219\n",
      "231 35.29240798950195\n",
      "232 37.549434661865234\n",
      "233 37.0911750793457\n",
      "234 40.84787368774414\n",
      "235 39.05683517456055\n",
      "236 44.139915466308594\n",
      "237 40.39899444580078\n",
      "238 45.90595245361328\n",
      "239 40.17306137084961\n",
      "240 44.87738037109375\n",
      "241 38.0451774597168\n",
      "242 41.27967071533203\n",
      "243 35.19236373901367\n",
      "244 37.198143005371094\n",
      "245 32.661075592041016\n",
      "246 33.807762145996094\n",
      "247 30.829235076904297\n",
      "248 31.581619262695312\n",
      "249 29.649547576904297\n",
      "250 30.083696365356445\n",
      "251 28.851177215576172\n",
      "252 29.06626319885254\n",
      "253 28.39303207397461\n",
      "254 28.457115173339844\n",
      "255 28.38411521911621\n",
      "256 28.258996963500977\n",
      "257 28.788084030151367\n",
      "258 28.412904739379883\n",
      "259 29.746257781982422\n",
      "260 29.07962989807129\n",
      "261 31.193572998046875\n",
      "262 29.697877883911133\n",
      "263 32.30531311035156\n",
      "264 30.19464111328125\n",
      "265 32.8768424987793\n",
      "266 30.381561279296875\n",
      "267 32.635860443115234\n",
      "268 29.803688049316406\n",
      "269 31.428325653076172\n",
      "270 29.030590057373047\n",
      "271 30.02131462097168\n",
      "272 27.75829315185547\n",
      "273 28.204242706298828\n",
      "274 26.670940399169922\n",
      "275 26.801198959350586\n",
      "276 25.773487091064453\n",
      "277 25.699726104736328\n",
      "278 24.994836807250977\n",
      "279 24.75961685180664\n",
      "280 24.36863136291504\n",
      "281 24.047489166259766\n",
      "282 23.80447769165039\n",
      "283 23.428882598876953\n",
      "284 23.369037628173828\n",
      "285 22.91432762145996\n",
      "286 22.96172523498535\n",
      "287 22.461811065673828\n",
      "288 22.680675506591797\n",
      "289 22.09714698791504\n",
      "290 22.432632446289062\n",
      "291 21.745975494384766\n",
      "292 22.216148376464844\n",
      "293 21.443025588989258\n",
      "294 22.042301177978516\n",
      "295 21.176774978637695\n",
      "296 21.868114471435547\n",
      "297 20.93037986755371\n",
      "298 21.748775482177734\n",
      "299 20.734172821044922\n",
      "300 21.706890106201172\n",
      "301 20.618066787719727\n",
      "302 21.620704650878906\n",
      "303 20.59183692932129\n",
      "304 21.61004066467285\n",
      "305 20.749797821044922\n",
      "306 21.637094497680664\n",
      "307 21.142261505126953\n",
      "308 21.756877899169922\n",
      "309 21.92061996459961\n",
      "310 21.93768310546875\n",
      "311 22.994089126586914\n",
      "312 22.12480926513672\n",
      "313 24.303096771240234\n",
      "314 22.45391845703125\n",
      "315 25.471240997314453\n",
      "316 22.685321807861328\n",
      "317 25.963064193725586\n",
      "318 22.831390380859375\n",
      "319 25.778907775878906\n",
      "320 22.799753189086914\n",
      "321 24.989376068115234\n",
      "322 22.765039443969727\n",
      "323 24.050399780273438\n",
      "324 22.70496368408203\n",
      "325 23.132457733154297\n",
      "326 22.535491943359375\n",
      "327 22.289888381958008\n",
      "328 22.294662475585938\n",
      "329 21.49793243408203\n",
      "330 21.910429000854492\n",
      "331 20.792856216430664\n",
      "332 21.432310104370117\n",
      "333 20.163909912109375\n",
      "334 20.961986541748047\n",
      "335 19.585987091064453\n",
      "336 20.468969345092773\n",
      "337 19.092802047729492\n",
      "338 19.952058792114258\n",
      "339 18.648475646972656\n",
      "340 19.521404266357422\n",
      "341 18.267793655395508\n",
      "342 19.14028549194336\n",
      "343 17.899066925048828\n",
      "344 18.738380432128906\n",
      "345 17.559659957885742\n",
      "346 18.37067985534668\n",
      "347 17.28952407836914\n",
      "348 18.0819149017334\n",
      "349 17.021907806396484\n",
      "350 17.799861907958984\n",
      "351 16.804149627685547\n",
      "352 17.566383361816406\n",
      "353 16.61865234375\n",
      "354 17.381410598754883\n",
      "355 16.461605072021484\n",
      "356 17.215076446533203\n",
      "357 16.295185089111328\n",
      "358 17.059158325195312\n",
      "359 16.201610565185547\n",
      "360 16.973400115966797\n",
      "361 16.084049224853516\n",
      "362 16.846965789794922\n",
      "363 15.960261344909668\n",
      "364 16.706737518310547\n",
      "365 15.870748519897461\n",
      "366 16.614051818847656\n",
      "367 15.7708101272583\n",
      "368 16.482627868652344\n",
      "369 15.722411155700684\n",
      "370 16.397615432739258\n",
      "371 15.66195297241211\n",
      "372 16.28632926940918\n",
      "373 15.611663818359375\n",
      "374 16.13265609741211\n",
      "375 15.565055847167969\n",
      "376 15.987353324890137\n",
      "377 15.552837371826172\n",
      "378 15.864373207092285\n",
      "379 15.59247875213623\n",
      "380 15.759649276733398\n",
      "381 15.714470863342285\n",
      "382 15.706456184387207\n",
      "383 15.848346710205078\n",
      "384 15.632587432861328\n"
     ]
    },
    {
     "name": "stdout",
     "output_type": "stream",
     "text": [
      "385 16.109926223754883\n",
      "386 15.604096412658691\n",
      "387 16.35442543029785\n",
      "388 15.561688423156738\n",
      "389 16.598691940307617\n",
      "390 15.550088882446289\n",
      "391 16.81388282775879\n",
      "392 15.549018859863281\n",
      "393 16.90004539489746\n",
      "394 15.55578327178955\n",
      "395 17.001659393310547\n",
      "396 15.60678768157959\n",
      "397 16.979331970214844\n",
      "398 15.650579452514648\n",
      "399 16.859817504882812\n",
      "400 15.710058212280273\n",
      "401 16.66088104248047\n",
      "402 15.785473823547363\n",
      "403 16.34166717529297\n",
      "404 15.896123886108398\n",
      "405 16.110164642333984\n",
      "406 16.0804443359375\n",
      "407 15.86901569366455\n",
      "408 16.31171989440918\n",
      "409 15.694849967956543\n",
      "410 16.643184661865234\n",
      "411 15.582512855529785\n",
      "412 16.966821670532227\n",
      "413 15.568668365478516\n",
      "414 17.29843521118164\n",
      "415 15.617413520812988\n",
      "416 17.491666793823242\n",
      "417 15.655769348144531\n",
      "418 17.46674346923828\n",
      "419 15.722661972045898\n",
      "420 17.334117889404297\n",
      "421 15.75767993927002\n",
      "422 17.061473846435547\n",
      "423 15.757247924804688\n",
      "424 16.690078735351562\n",
      "425 15.714656829833984\n",
      "426 16.28118896484375\n",
      "427 15.651238441467285\n",
      "428 15.890419006347656\n",
      "429 15.550030708312988\n",
      "430 15.504599571228027\n",
      "431 15.427559852600098\n",
      "432 15.156597137451172\n",
      "433 15.3071870803833\n",
      "434 14.845975875854492\n",
      "435 15.1822509765625\n",
      "436 14.56479549407959\n",
      "437 15.054136276245117\n",
      "438 14.303050994873047\n",
      "439 14.926047325134277\n",
      "440 14.06086254119873\n",
      "441 14.80542278289795\n",
      "442 13.845020294189453\n",
      "443 14.696199417114258\n",
      "444 13.663614273071289\n",
      "445 14.604043006896973\n",
      "446 13.51463794708252\n",
      "447 14.524713516235352\n",
      "448 13.390788078308105\n",
      "449 14.452458381652832\n",
      "450 13.290908813476562\n",
      "451 14.395795822143555\n",
      "452 13.226219177246094\n",
      "453 14.338947296142578\n",
      "454 13.190103530883789\n",
      "455 14.275672912597656\n",
      "456 13.184489250183105\n",
      "457 14.193984985351562\n",
      "458 13.263769149780273\n",
      "459 14.14522933959961\n",
      "460 13.339658737182617\n",
      "461 14.0437593460083\n",
      "462 13.478641510009766\n",
      "463 13.95406436920166\n",
      "464 13.63959789276123\n",
      "465 13.860552787780762\n",
      "466 13.864315032958984\n",
      "467 13.783526420593262\n",
      "468 14.07872200012207\n",
      "469 13.700546264648438\n",
      "470 14.328608512878418\n",
      "471 13.624399185180664\n",
      "472 14.523824691772461\n",
      "473 13.542184829711914\n",
      "474 14.6045503616333\n",
      "475 13.443183898925781\n",
      "476 14.669842720031738\n",
      "477 13.353189468383789\n",
      "478 14.65076732635498\n",
      "479 13.252251625061035\n",
      "480 14.528564453125\n",
      "481 13.11361026763916\n",
      "482 14.403727531433105\n",
      "483 12.994330406188965\n",
      "484 14.249320030212402\n",
      "485 12.864076614379883\n",
      "486 14.020116806030273\n",
      "487 12.722230911254883\n",
      "488 13.869967460632324\n",
      "489 12.625181198120117\n",
      "490 13.681925773620605\n",
      "491 12.494504928588867\n",
      "492 13.541548728942871\n",
      "493 12.40386962890625\n",
      "494 13.411625862121582\n",
      "495 12.312795639038086\n",
      "496 13.241503715515137\n",
      "497 12.19991683959961\n",
      "498 13.122428894042969\n",
      "499 12.113632202148438\n"
     ]
    }
   ],
   "source": [
    "# Ваш код здесь (можно (и нужно) создавать больше ячеек)\n",
    "# пример взят из официального туториала: \n",
    "# https://pytorch.org/tutorials/beginner/pytorch_with_examples.html\n",
    "\n",
    "# N - размер батча (batch_size, нужно для метода оптимизации); \n",
    "# D_in - размерность входа (количество признаков у объекта);\n",
    "# H - размерность скрытых слоёв; \n",
    "# D_out - размерность выходного слоя (суть - количество классов)\n",
    "N, D_in, H, D_out = 64, 2, 100, 3\n",
    "\n",
    "# Use the nn package to define our model and loss function.\n",
    "two_layer_net = torch.nn.Sequential(\n",
    "    torch.nn.Linear(D_in, H),\n",
    "    torch.nn.ReLU(),\n",
    "    torch.nn.Linear(H, H),\n",
    "    torch.nn.ReLU(),\n",
    "    torch.nn.Linear(H, H),\n",
    "    torch.nn.ReLU(),\n",
    "    torch.nn.Linear(H, D_out),\n",
    ")\n",
    "\n",
    "loss_fn = torch.nn.CrossEntropyLoss(size_average=False)\n",
    "\n",
    "learning_rate = 1e-3\n",
    "optimizer = torch.optim.SGD(two_layer_net.parameters(), lr=learning_rate)\n",
    "for t in range(500):\n",
    "    # forward\n",
    "    y_pred = two_layer_net(X)\n",
    "\n",
    "    # loss\n",
    "    loss = loss_fn(y_pred, y)\n",
    "    print('{} {}'.format(t, loss.data))\n",
    "\n",
    "    # ЗАНУЛЯЕМ!\n",
    "    optimizer.zero_grad()\n",
    "\n",
    "    # backward\n",
    "    loss.backward()\n",
    "\n",
    "    # ОБНОВЛЯЕМ! \n",
    "    optimizer.step()"
   ]
  },
  {
   "cell_type": "code",
   "execution_count": 18,
   "metadata": {
    "colab": {},
    "colab_type": "code",
    "id": "X0ICB6Z-YJd-"
   },
   "outputs": [],
   "source": [
    "# Обратно в Numpy для отрисовки\n",
    "X = X.data.numpy()\n",
    "y = y.data.numpy()"
   ]
  },
  {
   "cell_type": "code",
   "execution_count": 19,
   "metadata": {
    "colab": {},
    "colab_type": "code",
    "id": "JvjfvgbPYJeB",
    "outputId": "cf5545ff-3315-45c9-c674-af44f63a346b"
   },
   "outputs": [
    {
     "data": {
      "image/png": "[encoded data removed]",
      "text/plain": [
       "<Figure size 720x576 with 1 Axes>"
      ]
     },
     "metadata": {
      "needs_background": "light"
     },
     "output_type": "display_data"
    }
   ],
   "source": [
    "# Отрисовочная магия, снова взято из:\n",
    "# http://cs231n.github.io/neural-networks-case-study/#linear\n",
    "\n",
    "h = 0.02\n",
    "x_min, x_max = X[:, 0].min() - 1, X[:, 0].max() + 1\n",
    "y_min, y_max = X[:, 1].min() - 1, X[:, 1].max() + 1\n",
    "\n",
    "xx, yy = np.meshgrid(np.arange(x_min, x_max, h),\n",
    "                     np.arange(y_min, y_max, h))\n",
    "grid_tensor = torch.FloatTensor(np.c_[xx.ravel(), yy.ravel()])\n",
    "\n",
    "Z = two_layer_net(torch.autograd.Variable(grid_tensor))\n",
    "Z = Z.data.numpy()\n",
    "Z = np.argmax(Z, axis=1)\n",
    "Z = Z.reshape(xx.shape)\n",
    "\n",
    "plt.figure(figsize=(10, 8))\n",
    "\n",
    "plt.contourf(xx, yy, Z, cmap=plt.cm.rainbow, alpha=0.3)\n",
    "plt.scatter(X[:, 0], X[:, 1], c=y, s=40, cmap=plt.cm.rainbow)\n",
    "\n",
    "plt.xlim(xx.min(), xx.max())\n",
    "plt.ylim(yy.min(), yy.max())\n",
    "\n",
    "plt.title('Игрушка дьявола', fontsize=15)\n",
    "plt.xlabel('$x$', fontsize=14)\n",
    "plt.ylabel('$y$', fontsize=14)\n",
    "plt.show();"
   ]
  },
  {
   "cell_type": "markdown",
   "metadata": {
    "colab_type": "text",
    "id": "6N_9wfvPYJeK"
   },
   "source": [
    "---"
   ]
  },
  {
   "cell_type": "markdown",
   "metadata": {
    "colab_type": "text",
    "id": "H_thmQJOYJeK"
   },
   "source": [
    "<h3 style=\"text-align: center;\"><b>Полезные ссылки</b></h3>"
   ]
  },
  {
   "cell_type": "markdown",
   "metadata": {
    "colab_type": "text",
    "id": "RpSrLf9FYJeL"
   },
   "source": [
    "1). *Примеры написания нейросетей на PyTorch (офийиальные туториалы) (на английском): https://pytorch.org/tutorials/beginner/pytorch_with_examples.html#examples  \n",
    "https://pytorch.org/tutorials/beginner/blitz/cifar10_tutorial.html*\n",
    "\n",
    "2). ***Один из самых подробных и полных курсов по deep learning на данный момент - это курс Стэнфордского Университета (он вообще сейчас один из лидеров в области ИИ, его выпускники работают в Google, Facebook, Amazon, Microsoft, в стартапах в Кремниевой долине):  http://cs231n.github.io/***  \n",
    "\n",
    "3). Практически исчерпывающая информация по основам нейросетей (из cs231n) (на английском):  \n",
    "\n",
    "http://cs231n.github.io/neural-networks-1/,  \n",
    "http://cs231n.github.io/neural-networks-2/,  \n",
    "http://cs231n.github.io/neural-networks-3/,  \n",
    "http://cs231n.github.io/neural-networks-case-study/#linear\n",
    "\n",
    "4). *Хорошие статьи по основам нейросетей (на английском):  http://neuralnetworksanddeeplearning.com/chap1.html*\n",
    "\n",
    "5). *Наглядная демонстрация того, как обучаются нейросети:  https://cs.stanford.edu/people/karpathy/convnetjs/*"
   ]
  },
  {
   "cell_type": "markdown",
   "metadata": {
    "colab_type": "text",
    "id": "1Qldb1U5YJeM"
   },
   "source": [
    "6). *Подробнее про backprop -- статья на Medium: https://medium.com/autonomous-agents/backpropagation-how-neural-networks-learn-complex-behaviors-9572ac161670*"
   ]
  },
  {
   "cell_type": "markdown",
   "metadata": {
    "colab_type": "text",
    "id": "g1HSslRhYJeN"
   },
   "source": [
    "7). *Статья из интернет по Backprop: http://page.mi.fu-berlin.de/rojas/neural/chapter/K7.pdf*"
   ]
  }
 ],
 "metadata": {
  "colab": {
   "collapsed_sections": [],
   "name": "[seminar]mlp_pytorch.ipynb",
   "provenance": [],
   "version": "0.3.2"
  },
  "kernelspec": {
   "display_name": "Python 3",
   "language": "python",
   "name": "python3"
  },
  "language_info": {
   "codemirror_mode": {
    "name": "ipython",
    "version": 3
   },
   "file_extension": ".py",
   "mimetype": "text/x-python",
   "name": "python",
   "nbconvert_exporter": "python",
   "pygments_lexer": "ipython3",
   "version": "3.7.1"
  }
 },
 "nbformat": 4,
 "nbformat_minor": 1
}
